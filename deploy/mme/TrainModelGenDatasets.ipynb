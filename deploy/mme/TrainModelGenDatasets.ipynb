{
 "cells": [
  {
   "cell_type": "markdown",
   "metadata": {},
   "source": [
    "# Amazon SageMaker Train models and generate Data sets\n",
    "With [Amazon SageMaker Batch Transform](https://docs.aws.amazon.com/sagemaker/latest/dg/batch-transform.html), Use batch transform when you need to do the following:\n",
    "\n",
    "    Preprocess datasets to remove noise or bias that interferes with training or inference from your dataset.\n",
    "\n",
    "    Get inferences from large datasets.\n",
    "\n",
    "    Run inference when you don't need a persistent endpoint.\n",
    "\n",
    "    Associate input records with inferences to assist the interpretation of results.\n",
    "\n",
    "**Caution:** This is a reference material and not to be used in production as-is. Please run your tests with your data thoroughly as we are not liable for any loss of data\n",
    "\n",
    "We use this file to generate the models to be used for Inferenecing workshops and to generate the synthetic data set to be used for inferencing\n",
    "\n",
    "RAW Data set for the generated raw housing prices - per region so data/raw/region/ny\n",
    "Model for processing the data \n",
    "Curated Data set for the processed before training the Regression model - so data/curated/region/ny\n",
    "\n",
    "\n"
   ]
  },
  {
   "cell_type": "markdown",
   "metadata": {},
   "source": [
    "### Contents\n",
    "\n",
    "1. [Generate synthetic data for housing models](#Generate-synthetic-data-for-housing-models)\n",
    "1. [TRANSFORM the raw housing data using Scikit Learn model](#Preprocess-synthetic-housing-data-using-scikit-learn)\n",
    "1. [Clean up](#CleanUp)"
   ]
  },
  {
   "cell_type": "markdown",
   "metadata": {},
   "source": [
    "\n",
    "## Section 1 - Generate synthetic data for housing models <a id='Generate-synthetic-data-for-housing-models'></a>\n",
    "\n",
    "In this section, you will generate synthetic data that will be used to train the linear learner models.  The data generated consists of 6 numerical features - the year the house was built in, house size in square feet, number of bedrooms, number of bathroom, the lot size and number of garages and two categorial features - deck and front_porch.  "
   ]
  },
  {
   "cell_type": "code",
   "execution_count": 1,
   "metadata": {},
   "outputs": [],
   "source": [
    "import numpy as np\n",
    "import pandas as pd\n",
    "import json\n",
    "import datetime\n",
    "import time\n",
    "import boto3\n",
    "import sagemaker\n",
    "import os\n",
    "\n",
    "from time import gmtime, strftime\n",
    "from random import choice\n",
    "\n",
    "from sagemaker import get_execution_role\n",
    "\n",
    "from sagemaker.multidatamodel import MULTI_MODEL_CONTAINER_MODE\n",
    "from sagemaker.multidatamodel import MultiDataModel\n",
    "\n",
    "from sklearn.model_selection import train_test_split"
   ]
  },
  {
   "cell_type": "code",
   "execution_count": 2,
   "metadata": {},
   "outputs": [
    {
     "name": "stderr",
     "output_type": "stream",
     "text": [
      "/home/ec2-user/anaconda3/envs/amazonei_mxnet_p36/lib/python3.6/site-packages/boto3/compat.py:88: PythonDeprecationWarning: Boto3 will no longer support Python 3.6 starting May 30, 2022. To continue receiving service updates, bug fixes, and security updates please upgrade to Python 3.7 or later. More information can be found here: https://aws.amazon.com/blogs/developer/python-support-policy-updates-for-aws-sdks-and-tools/\n",
      "  warnings.warn(warning, PythonDeprecationWarning)\n"
     ]
    },
    {
     "name": "stdout",
     "output_type": "stream",
     "text": [
      "BUCKET :  sagemaker-us-east-1-622343165275\n",
      "ROLE :  arn:aws:iam::622343165275:role/service-role/AmazonSageMaker-ExecutionRole-20220208T115633\n"
     ]
    }
   ],
   "source": [
    "sm_client = boto3.client(service_name='sagemaker')\n",
    "runtime_sm_client = boto3.client(service_name='sagemaker-runtime')\n",
    "sagemaker_session = sagemaker.Session()\n",
    "\n",
    "s3 = boto3.resource('s3')\n",
    "s3_client = boto3.client('s3')\n",
    "\n",
    "BUCKET  = sagemaker_session.default_bucket()\n",
    "print(\"BUCKET : \", BUCKET)\n",
    "\n",
    "role = get_execution_role()\n",
    "print(\"ROLE : \", role)\n",
    "\n",
    "ACCOUNT_ID = boto3.client('sts').get_caller_identity()['Account']\n",
    "REGION = boto3.Session().region_name\n",
    "\n",
    "DATA_PREFIX = 'DEMO_MME_LINEAR_LEARNER'\n",
    "HOUSING_MODEL_NAME = 'housing'\n",
    "MULTI_MODEL_ARTIFACTS = 'multi_model_artifacts'"
   ]
  },
  {
   "cell_type": "code",
   "execution_count": 3,
   "metadata": {},
   "outputs": [],
   "source": [
    "NUM_HOUSES_PER_LOCATION = 1000\n",
    "LOCATIONS  = ['NewYork_NY',    'LosAngeles_CA',   'Chicago_IL',    'Houston_TX',   'Dallas_TX',\n",
    "              'Phoenix_AZ',    'Philadelphia_PA', 'SanAntonio_TX', 'SanDiego_CA',  'SanFrancisco_CA']\n",
    "MAX_YEAR = 2019"
   ]
  },
  {
   "cell_type": "code",
   "execution_count": 4,
   "metadata": {},
   "outputs": [],
   "source": [
    "def gen_price(house):\n",
    "    \"\"\"Generate price based on features of the house\"\"\"\n",
    "    \n",
    "    if house['FRONT_PORCH'] == 'y':\n",
    "        garage = 1\n",
    "    else:\n",
    "        garage = 0\n",
    "        \n",
    "    if house['FRONT_PORCH'] == 'y':\n",
    "        front_porch = 1\n",
    "    else:\n",
    "        front_porch = 0\n",
    "        \n",
    "    price = int(150 * house['SQUARE_FEET'] + \\\n",
    "                10000 * house['NUM_BEDROOMS'] + \\\n",
    "                15000 * house['NUM_BATHROOMS'] + \\\n",
    "                15000 * house['LOT_ACRES'] + \\\n",
    "                10000 * garage + \\\n",
    "                10000 * front_porch + \\\n",
    "                15000 * house['GARAGE_SPACES'] - \\\n",
    "                5000 * (MAX_YEAR - house['YEAR_BUILT']))\n",
    "    return price"
   ]
  },
  {
   "cell_type": "code",
   "execution_count": 5,
   "metadata": {},
   "outputs": [],
   "source": [
    "def gen_yes_no():\n",
    "    \"\"\"Generate values (y/n) for categorical features\"\"\"\n",
    "    answer = choice(['y', 'n'])\n",
    "    return answer"
   ]
  },
  {
   "cell_type": "code",
   "execution_count": 6,
   "metadata": {},
   "outputs": [],
   "source": [
    "def gen_random_house():\n",
    "    \"\"\"Generate a row of data (single house information)\"\"\"\n",
    "    house = {'SQUARE_FEET':    np.random.normal(3000, 750),\n",
    "             'NUM_BEDROOMS':  np.random.randint(2, 7),\n",
    "             'NUM_BATHROOMS': np.random.randint(2, 7) / 2,\n",
    "             'LOT_ACRES':     round(np.random.normal(1.0, 0.25), 2),\n",
    "             'GARAGE_SPACES': np.random.randint(0, 4),\n",
    "             'YEAR_BUILT':    min(MAX_YEAR, int(np.random.normal(1995, 10))),\n",
    "             'FRONT_PORCH':   gen_yes_no(),\n",
    "             'DECK':          gen_yes_no()\n",
    "            }\n",
    "    \n",
    "    price = gen_price(house)\n",
    "    \n",
    "    return [house['YEAR_BUILT'],   \n",
    "            house['SQUARE_FEET'], \n",
    "            house['NUM_BEDROOMS'], \n",
    "            house['NUM_BATHROOMS'], \n",
    "            house['LOT_ACRES'],    \n",
    "            house['GARAGE_SPACES'],\n",
    "            house['FRONT_PORCH'],    \n",
    "            house['DECK'], \n",
    "            price]"
   ]
  },
  {
   "cell_type": "code",
   "execution_count": 7,
   "metadata": {},
   "outputs": [],
   "source": [
    "def gen_houses(num_houses):\n",
    "    \"\"\"Generate housing dataset\"\"\"\n",
    "    house_list = []\n",
    "    \n",
    "    for _ in range(num_houses):\n",
    "        house_list.append(gen_random_house())\n",
    "        \n",
    "    df = pd.DataFrame(\n",
    "        house_list, \n",
    "        columns=[\n",
    "            'YEAR_BUILT',    \n",
    "            'SQUARE_FEET',  \n",
    "            'NUM_BEDROOMS',            \n",
    "            'NUM_BATHROOMS',\n",
    "            'LOT_ACRES',\n",
    "            'GARAGE_SPACES',\n",
    "            'FRONT_PORCH',\n",
    "            'DECK', \n",
    "            'PRICE']\n",
    "    )\n",
    "    return df"
   ]
  },
  {
   "cell_type": "code",
   "execution_count": 38,
   "metadata": {},
   "outputs": [],
   "source": [
    "def save_data_locally(location, train, test): \n",
    "    \"\"\"Save the housing data locally\"\"\"\n",
    "    os.makedirs('data/{0}/train'.format(location), exist_ok=True)\n",
    "    train.to_csv('data/{0}/train/train.csv'.format(location), sep=',', header=False, index=False)\n",
    "       \n",
    "    os.makedirs('data/{0}/test'.format(location), exist_ok=True)\n",
    "    test.to_csv('data/{0}/test/test.csv'.format(location), sep=',', header=False, index=False) \n",
    "    print(f\"train:saved:to data/{location}/train/train.csv \")\n",
    "    print(f\"Test:saved:to data/{location}/test/test.csv \")\n",
    "    \n"
   ]
  },
  {
   "cell_type": "markdown",
   "metadata": {},
   "source": [
    "#### We can launch 'n' number of jobs (Processing / Training ) in parallel with the same Object and different inputs\n",
    "\n",
    "**To demonstrate this feature change the PARALLEL_TRAINING_JOBS to higher value**"
   ]
  },
  {
   "cell_type": "code",
   "execution_count": 57,
   "metadata": {},
   "outputs": [
    {
     "name": "stdout",
     "output_type": "stream",
     "text": [
      "train:saved:to data/NewYork_NY/train/train.csv \n",
      "Test:saved:to data/NewYork_NY/test/test.csv \n"
     ]
    }
   ],
   "source": [
    "# Generate housing data for multiple locations.\n",
    "# Change \"PARALLEL_TRAINING_JOBS \" to a lower number to limit the number of training jobs and models. \n",
    "# Or to a higher value to experiment with more models.\n",
    "\n",
    "PARALLEL_TRAINING_JOBS = 1\n",
    "\n",
    "for loc in LOCATIONS[:PARALLEL_TRAINING_JOBS]:\n",
    "    houses = gen_houses(NUM_HOUSES_PER_LOCATION)\n",
    "    \n",
    "    #Spliting data into train and test in 90:10 ratio\n",
    "    #Not splitting the train data into train and val because its not preprocessed yet\n",
    "    train, test = train_test_split(houses, test_size=0.1)\n",
    "    save_data_locally(loc, train, test)\n"
   ]
  },
  {
   "cell_type": "code",
   "execution_count": 62,
   "metadata": {},
   "outputs": [],
   "source": [
    "#Shows the first few lines of data.\n",
    "location='NewYork_NY'\n",
    "houses.head(2)\n",
    "houses.to_csv('data/{0}/train/train.csv'.format(location), sep=',', header=False, index=False)"
   ]
  },
  {
   "cell_type": "markdown",
   "metadata": {},
   "source": [
    "## Section 2 - Preprocess the raw housing data using Scikit Learn <a id='Preprocess-synthetic-housing-data-using-scikit-learn'></a>\n",
    "\n",
    "In this section, the categorical features of the data (deck and porch) are pre-processed using sklearn to convert them to one hot encoding representation.  \n",
    "\n"
   ]
  },
  {
   "cell_type": "code",
   "execution_count": 59,
   "metadata": {},
   "outputs": [
    {
     "data": {
      "text/plain": [
       "Index(['YEAR_BUILT', 'SQUARE_FEET', 'NUM_BEDROOMS', 'NUM_BATHROOMS',\n",
       "       'LOT_ACRES', 'GARAGE_SPACES', 'FRONT_PORCH', 'DECK', 'PRICE'],\n",
       "      dtype='object')"
      ]
     },
     "execution_count": 59,
     "metadata": {},
     "output_type": "execute_result"
    }
   ],
   "source": [
    "houses.columns"
   ]
  },
  {
   "cell_type": "code",
   "execution_count": 11,
   "metadata": {},
   "outputs": [],
   "source": [
    "import joblib"
   ]
  },
  {
   "cell_type": "code",
   "execution_count": 12,
   "metadata": {},
   "outputs": [],
   "source": [
    "!mkdir -p scripts"
   ]
  },
  {
   "cell_type": "code",
   "execution_count": 13,
   "metadata": {},
   "outputs": [
    {
     "name": "stdout",
     "output_type": "stream",
     "text": [
      "Overwriting scripts/sklearn_preprocessor_batch.py\n"
     ]
    }
   ],
   "source": [
    "%%writefile scripts/sklearn_preprocessor_batch.py\n",
    "from __future__ import print_function\n",
    "\n",
    "import argparse\n",
    "import csv\n",
    "import json\n",
    "import os\n",
    "import shutil\n",
    "import sys\n",
    "import time\n",
    "from io import StringIO\n",
    "\n",
    "import numpy as np\n",
    "import pandas as pd\n",
    "from sagemaker_containers.beta.framework import (\n",
    "    content_types,\n",
    "    encoders,\n",
    "    env,\n",
    "    modules,\n",
    "    transformer,\n",
    "    worker,\n",
    ")\n",
    "from sklearn.compose import ColumnTransformer\n",
    "\n",
    "from sklearn.impute import SimpleImputer\n",
    "from sklearn.pipeline import Pipeline\n",
    "from sklearn.preprocessing import Binarizer, OneHotEncoder, StandardScaler\n",
    "\n",
    "from sklearn.externals import joblib\n",
    "\n",
    "# Since we get a headerless CSV file we specify the column names here.\n",
    "feature_columns_names = [\n",
    "    \"YEAR_BUILT\",\n",
    "    \"SQUARE_FEET\",\n",
    "    \"NUM_BEDROOMS\",\n",
    "    \"NUM_BATHROOMS\",\n",
    "    \"LOT_ACRES\",\n",
    "    \"GARAGE_SPACES\",\n",
    "    \"FRONT_PORCH\",\n",
    "    \"DECK\",\n",
    "]\n",
    "\n",
    "label_column = \"PRICE\"\n",
    "\n",
    "feature_columns_dtype = {\n",
    "    \"YEAR_BUILT\": str,\n",
    "    \"SQUARE_FEET\": np.float64,\n",
    "    \"NUM_BEDROOMS\": np.float64,\n",
    "    \"NUM_BATHROOMS\": np.float64,\n",
    "    \"LOT_ACRES\": np.float64,\n",
    "    \"GARAGE_SPACES\": np.float64,\n",
    "    \"FRONT_PORCH\": str,\n",
    "    \"DECK\": str,\n",
    "}\n",
    "\n",
    "label_column_dtype = {\"PRICE\": np.float64}\n",
    "\n",
    "\n",
    "if __name__ == \"__main__\":\n",
    "\n",
    "    parser = argparse.ArgumentParser()\n",
    "\n",
    "    # Sagemaker specific arguments. Defaults are set in the environment variables.\n",
    "    parser.add_argument(\"--output-data-dir\", type=str, default=os.environ[\"SM_OUTPUT_DATA_DIR\"])\n",
    "    parser.add_argument(\"--model-dir\", type=str, default=os.environ[\"SM_MODEL_DIR\"])\n",
    "    parser.add_argument(\"--train\", type=str, default=os.environ[\"SM_CHANNEL_TRAIN\"])\n",
    "\n",
    "    args = parser.parse_args()\n",
    "\n",
    "    # Take the set of files and read them all into a single pandas dataframe\n",
    "    input_files = [os.path.join(args.train, file) for file in os.listdir(args.train)]\n",
    "    if len(input_files) == 0:\n",
    "        raise ValueError(\n",
    "            (\n",
    "                \"There are no files in {}.\\n\"\n",
    "                + \"This usually indicates that the train channel was incorrectly specified,\\n\"\n",
    "                + \"the data specification in S3 was incorrectly specified or the role specified\\n\"\n",
    "                + \"does not have permission to access the data.\".format(args.train)\n",
    "            )\n",
    "        )\n",
    "\n",
    "    for file in input_files:\n",
    "        print(\"file :\", file)\n",
    "\n",
    "    raw_data = [pd.read_csv(file, header=None, names=feature_columns_names + [label_column])]\n",
    "\n",
    "    concat_data = pd.concat(raw_data)\n",
    "\n",
    "    print(concat_data)\n",
    "\n",
    "    # This section is adapted from the scikit-learn example of using preprocessing pipelines:\n",
    "    #\n",
    "    # https://scikit-learn.org/stable/auto_examples/compose/plot_column_transformer_mixed_types.html\n",
    "    #\n",
    "\n",
    "    numeric_features = list(feature_columns_names)\n",
    "    numeric_features.remove(\"FRONT_PORCH\")\n",
    "    numeric_features.remove(\"DECK\")\n",
    "    numeric_transformer = Pipeline(steps=[(\"scaler\", StandardScaler())])\n",
    "\n",
    "    categorical_features = [\"FRONT_PORCH\", \"DECK\"]\n",
    "    categorical_transformer = Pipeline(steps=[(\"onehot\", OneHotEncoder(handle_unknown=\"ignore\"))])\n",
    "\n",
    "    preprocessor = ColumnTransformer(\n",
    "        transformers=[\n",
    "            (\"num\", numeric_transformer, numeric_features),\n",
    "            (\"cat\", categorical_transformer, categorical_features),\n",
    "        ],\n",
    "        remainder=\"drop\",\n",
    "    )\n",
    "\n",
    "    preprocessor.fit(concat_data)\n",
    "    \n",
    "    joblib.dump(preprocessor, os.path.join(args.model_dir, \"model.joblib\"))\n",
    "\n",
    "    print(\"saved model!\")\n",
    "\n",
    "\n",
    "def input_fn(input_data, content_type):\n",
    "    \"\"\"Parse input data payload\n",
    "\n",
    "    We currently only take csv input. Since we need to process both labelled\n",
    "    and unlabelled data we first determine whether the label column is present\n",
    "    by looking at how many columns were provided.\n",
    "    \"\"\"\n",
    "    if content_type == \"text/csv\":\n",
    "        # Read the raw input data as CSV.\n",
    "        df = pd.read_csv(StringIO(input_data), header=None)\n",
    "\n",
    "        if len(df.columns) == len(feature_columns_names) + 1:\n",
    "            # This is a labelled example, includes the ring label\n",
    "            df.columns = feature_columns_names + [label_column]\n",
    "        elif len(df.columns) == len(feature_columns_names):\n",
    "            # This is an unlabelled example.\n",
    "            df.columns = feature_columns_names\n",
    "\n",
    "        return df\n",
    "    else:\n",
    "        raise ValueError(\"{} not supported by script!\".format(content_type))\n",
    "\n",
    "\n",
    "def output_fn(prediction, accept):\n",
    "    \"\"\"Format prediction output\n",
    "\n",
    "    The default accept/content-type between containers for serial inference is JSON.\n",
    "    We also want to set the ContentType or mimetype as the same value as accept so the next\n",
    "    container can read the response payload correctly.\n",
    "    \"\"\"\n",
    "    if accept == \"application/json\":\n",
    "        instances = []\n",
    "        for row in prediction.tolist():\n",
    "            instances.append({\"features\": row})\n",
    "\n",
    "        json_output = {\"instances\": instances}\n",
    "\n",
    "        return worker.Response(json.dumps(json_output), mimetype=accept)\n",
    "    elif accept == \"text/csv\":\n",
    "        return worker.Response(encoders.encode(prediction, accept), mimetype=accept)\n",
    "    else:\n",
    "        raise RuntimeException(\"{} accept type is not supported by this script.\".format(accept))\n",
    "\n",
    "\n",
    "def predict_fn(input_data, model):\n",
    "    \"\"\"Preprocess input data\n",
    "\n",
    "    We implement this because the default uses .predict(), but our model is a preprocessor\n",
    "    so we want to use .transform().\n",
    "\n",
    "    The output is returned in the following order:\n",
    "\n",
    "        rest of features either one hot encoded or standardized\n",
    "    \"\"\"\n",
    "\n",
    "    print(\"Input data type \", type(input_data))\n",
    "\n",
    "    print(input_data)\n",
    "\n",
    "    features = model.transform(input_data)\n",
    "\n",
    "    print(\"features type \", type(features))\n",
    "\n",
    "    print(features)\n",
    "\n",
    "    features_array = features\n",
    "\n",
    "    print(\"features_array \", type(features_array))\n",
    "\n",
    "    print(features_array)\n",
    "\n",
    "    if label_column in input_data:\n",
    "        # Return the label (as the first column) and the set of features.\n",
    "        return np.insert(features_array, 0, input_data[label_column], axis=1)\n",
    "    else:\n",
    "        # Return only the set of features\n",
    "        return features\n",
    "\n",
    "\n",
    "def model_fn(model_dir):\n",
    "    \"\"\"Deserialize fitted model\"\"\"\n",
    "    preprocessor = joblib.load(os.path.join(model_dir, \"model.joblib\"))\n",
    "    return preprocessor\n",
    "\n"
   ]
  },
  {
   "cell_type": "code",
   "execution_count": 14,
   "metadata": {},
   "outputs": [],
   "source": [
    "#Create the SKLearn estimator with the sklearn_preprocessor.py as the script\n",
    "from sagemaker.sklearn.estimator import SKLearn\n",
    "\n",
    "script_path = 'scripts/sklearn_preprocessor_batch.py'\n",
    "\n",
    "sklearn_estimator = SKLearn(\n",
    "    entry_point=script_path,\n",
    "    role=role,\n",
    "    instance_type=\"ml.c4.xlarge\",\n",
    "    framework_version=\"0.20.0\",\n",
    "    sagemaker_session=sagemaker_session)"
   ]
  },
  {
   "cell_type": "code",
   "execution_count": 15,
   "metadata": {},
   "outputs": [
    {
     "name": "stdout",
     "output_type": "stream",
     "text": [
      "Raw training data uploaded to :  s3://sagemaker-us-east-1-622343165275/housing-data/NewYork_NY/train/train.csv\n"
     ]
    }
   ],
   "source": [
    "#Upload the raw training data to S3 bucket, to be accessed by SKLearn\n",
    "train_inputs = []\n",
    "\n",
    "for loc in LOCATIONS[:PARALLEL_TRAINING_JOBS]:\n",
    "\n",
    "    train_input = sagemaker_session.upload_data(\n",
    "        path='data/{}/train/train.csv'.format(loc),\n",
    "        bucket=BUCKET,\n",
    "        key_prefix='housing-data/{}/train'.format(loc)\n",
    "    )\n",
    "    \n",
    "    train_inputs.append(train_input)\n",
    "    print(\"Raw training data uploaded to : \", train_input)"
   ]
  },
  {
   "cell_type": "code",
   "execution_count": 16,
   "metadata": {},
   "outputs": [
    {
     "name": "stdout",
     "output_type": "stream",
     "text": [
      "sklearn_estimator fit input data at  0  for loc  NewYork_NY\n"
     ]
    }
   ],
   "source": [
    "##Launch multiple scikit learn training to process the raw synthetic data generated for multiple locations.\n",
    "##Before executing this, take the training instance limits in your account and cost into consideration.\n",
    "\n",
    "sklearn_estimators = []\n",
    "sklearn_estimator_jobs = []\n",
    "\n",
    "for index, loc in enumerate(LOCATIONS[:PARALLEL_TRAINING_JOBS]):\n",
    "    print(\"sklearn_estimator fit input data at \", index , \" for loc \", loc)\n",
    "     \n",
    "    job_name='scikit-learnestimator-{}'.format(strftime('%Y-%m-%d-%H-%M-%S', gmtime()))\n",
    "    \n",
    "    sklearn_estimator.fit({'train': train_inputs[index]}, job_name=job_name, wait=False)\n",
    "\n",
    "    sklearn_estimators.append(sklearn_estimator)\n",
    "    sklearn_estimator_jobs.append(job_name)\n",
    "    \n",
    "    time.sleep(1)"
   ]
  },
  {
   "cell_type": "code",
   "execution_count": 17,
   "metadata": {},
   "outputs": [
    {
     "name": "stdout",
     "output_type": "stream",
     "text": [
      "Waiting for job scikit-learnestimator-2022-09-29-04-05-22 to complete...\n",
      "Training Jobs completed\n"
     ]
    }
   ],
   "source": [
    "#Wait for the preprocessor jobs to finish\n",
    "for job_name in sklearn_estimator_jobs:\n",
    "    print('Waiting for job {} to complete...'.format(job_name))\n",
    "    \n",
    "    waiter = sm_client.get_waiter('training_job_completed_or_stopped')\n",
    "    waiter.wait(TrainingJobName=job_name)\n",
    "    \n",
    "print(\"Training Jobs completed\")"
   ]
  },
  {
   "cell_type": "markdown",
   "metadata": {},
   "source": [
    "### Save these models locally and then upload them to \n",
    "**bucket/inferencewk/models/batch/loc**"
   ]
  },
  {
   "cell_type": "code",
   "execution_count": 33,
   "metadata": {},
   "outputs": [
    {
     "name": "stdout",
     "output_type": "stream",
     "text": [
      "s3://sagemaker-us-east-1-622343165275/scikit-learnestimator-2022-09-29-04-05-22/output/model.tar.gz\n",
      "None\n",
      "sagemaker-us-east-1-622343165275\n"
     ]
    }
   ],
   "source": [
    "!mkdir -p models/batch\n",
    "print(sklearn_estimators[0].model_data)\n",
    "print(sklearn_estimators[0].base_job_name)\n",
    "\n",
    "print(BUCKET)"
   ]
  },
  {
   "cell_type": "code",
   "execution_count": 34,
   "metadata": {},
   "outputs": [
    {
     "name": "stdout",
     "output_type": "stream",
     "text": [
      "total 20\n",
      "-rw-rw-r-- 1 ec2-user ec2-user 1489 Sep  8 16:44 model.tar.gz_OLD\n",
      "drwxrwxr-x 4 ec2-user ec2-user 4096 Sep  8 16:44 ..\n",
      "drwxrwxr-x 2 ec2-user ec2-user 4096 Sep 29 04:50 .ipynb_checkpoints\n",
      "drwxrwxr-x 4 ec2-user ec2-user 4096 Sep 29 04:53 .\n",
      "drwxrwxr-x 2 ec2-user ec2-user 4096 Sep 29 04:59 NewYork_NY\n"
     ]
    }
   ],
   "source": [
    "for index, loc in enumerate(LOCATIONS[:PARALLEL_TRAINING_JOBS]):\n",
    "    estimator = sklearn_estimators[index]\n",
    "    model_loc = estimator.model_data\n",
    "    sagemaker.s3.S3Downloader().download(\n",
    "        s3_uri=model_loc,\n",
    "        local_path=f'models/batch/{loc}',\n",
    "        sagemaker_session=sagemaker_session\n",
    "    )\n",
    "!ls -alrt models/batch"
   ]
  },
  {
   "cell_type": "code",
   "execution_count": 45,
   "metadata": {},
   "outputs": [
    {
     "name": "stdout",
     "output_type": "stream",
     "text": [
      "s3://sagemaker-us-east-1-622343165275/inferencewk/models/batch/NewYork_NY/model.tar.gz\n",
      "['s3://sagemaker-us-east-1-622343165275/inferencewk/models/batch/NewYork_NY/model.tar.gz']\n"
     ]
    }
   ],
   "source": [
    "# Uplaod to s3\n",
    "batch_model_inputs=[\"\"*PARALLEL_TRAINING_JOBS]\n",
    "for index, loc in enumerate(LOCATIONS[:PARALLEL_TRAINING_JOBS]):\n",
    "    s3_model_loc = sagemaker.s3.S3Uploader().upload(\n",
    "        local_path=f'models/batch/{loc}/model.tar.gz',\n",
    "        desired_s3_uri=f's3://{BUCKET}/inferencewk/models/batch/{loc}',\n",
    "        sagemaker_session=sagemaker_session\n",
    "    )\n",
    "    print(s3_model_loc)\n",
    "    batch_model_inputs[index]=s3_model_loc\n",
    "print(batch_model_inputs)"
   ]
  },
  {
   "cell_type": "code",
   "execution_count": 42,
   "metadata": {},
   "outputs": [
    {
     "name": "stdout",
     "output_type": "stream",
     "text": [
      "train:loc:uploaded:s3://sagemaker-us-east-1-622343165275/inferencewk/data/raw/NewYork_NY/train/train.csv:WITHOUT HEADERS:\n",
      "test:loc:uploaded:s3://sagemaker-us-east-1-622343165275/inferencewk/data/raw/NewYork_NY/test/test.csv:WITHPUT HEADERS\n",
      "['s3://sagemaker-us-east-1-622343165275/inferencewk/data/raw/NewYork_NY/train/train.csv']\n"
     ]
    }
   ],
   "source": [
    "# Upload the Raw data set to inferencewk/data/raw/loc\n",
    "train_inputs=[\"\"*PARALLEL_TRAINING_JOBS]\n",
    "test_inputs=[\"\"*PARALLEL_TRAINING_JOBS]\n",
    "\n",
    "for index, loc in enumerate(LOCATIONS[:PARALLEL_TRAINING_JOBS]):\n",
    "    s3_train_loc = sagemaker.s3.S3Uploader().upload(\n",
    "        local_path=f'data/{loc}/train/train.csv',\n",
    "        desired_s3_uri=f's3://{BUCKET}/inferencewk/data/raw/{loc}/train',\n",
    "        sagemaker_session=sagemaker_session\n",
    "    )\n",
    "    print(f\"train:loc:uploaded:{s3_train_loc}:WITHOUT HEADERS:\")\n",
    "    train_inputs[index] = s3_train_loc\n",
    "\n",
    "    s3_test_loc = sagemaker.s3.S3Uploader().upload(\n",
    "        local_path=f'data/{loc}/test/test.csv',\n",
    "        desired_s3_uri=f's3://{BUCKET}/inferencewk/data/raw/{loc}/test',\n",
    "        sagemaker_session=sagemaker_session\n",
    "    )\n",
    "    print(f\"test:loc:uploaded:{s3_test_loc}:WITHPUT HEADERS\")\n",
    "    test_inputs[index] = s3_test_loc\n",
    " \n",
    "print(train_inputs)"
   ]
  },
  {
   "cell_type": "code",
   "execution_count": 43,
   "metadata": {},
   "outputs": [
    {
     "data": {
      "text/plain": [
       "'s3://sagemaker-us-east-1-622343165275/inferencewk/data/raw/NewYork_NY/train/train.csv'"
      ]
     },
     "execution_count": 43,
     "metadata": {},
     "output_type": "execute_result"
    }
   ],
   "source": [
    "train_inputs[0]"
   ]
  },
  {
   "cell_type": "code",
   "execution_count": null,
   "metadata": {},
   "outputs": [],
   "source": []
  }
 ],
 "metadata": {
  "instance_type": "ml.t3.medium",
  "kernelspec": {
   "display_name": "conda_amazonei_mxnet_p36",
   "language": "python",
   "name": "conda_amazonei_mxnet_p36"
  },
  "language_info": {
   "codemirror_mode": {
    "name": "ipython",
    "version": 3
   },
   "file_extension": ".py",
   "mimetype": "text/x-python",
   "name": "python",
   "nbconvert_exporter": "python",
   "pygments_lexer": "ipython3",
   "version": "3.6.13"
  }
 },
 "nbformat": 4,
 "nbformat_minor": 4
}
