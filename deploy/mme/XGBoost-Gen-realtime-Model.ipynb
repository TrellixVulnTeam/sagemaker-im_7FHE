{
 "cells": [
  {
   "cell_type": "markdown",
   "id": "3c26ca46",
   "metadata": {},
   "source": [
    "# XGBoost AutoScaling Example\n",
    "\n",
    "Amazon SageMaker supports automatic scaling (autoscaling) for your hosted models. Autoscaling dynamically adjusts the number of instances provisioned for a model in response to changes in your workload. When the workload increases, autoscaling brings more instances online. When the workload decreases, autoscaling removes unnecessary instances so that you don't pay for provisioned instances that you aren't using.\n",
    "\n",
    "**Define a scaling policy**\n",
    "\n",
    "\n",
    "To specify the metrics and target values for a scaling policy, you configure a target-tracking scaling policy. You can use either a predefined metric or a custom metric.\n",
    "\n",
    "Scaling policy configuration is represented by a JSON block. You save your scaling policy configuration as a JSON block in a text file. You use that text file when invoking the AWS CLI or the Application Auto Scaling API. For more information about policy configuration syntax, see TargetTrackingScalingPolicyConfiguration in the Application Auto Scaling API Reference.\n",
    "\n",
    "The following options are available for defining a target-tracking scaling policy configuration.\n",
    "\n",
    "\n",
    "**Use a predefined metric**\n",
    "\n",
    "To quickly define a target-tracking scaling policy for a variant, use the SageMakerVariantInvocationsPerInstance predefined metric. SageMakerVariantInvocationsPerInstance is the average number of times per minute that each instance for a variant is invoked. We strongly recommend using this metric.\n",
    "\n",
    "To use a predefined metric in a scaling policy, create a target tracking configuration for your policy. In the target tracking configuration, include a PredefinedMetricSpecification for the predefined metric and a TargetValue for the target value of that metric.\n",
    "\n",
    "**Use a custom metric**\n",
    "\n",
    "If you need to define a target-tracking scaling policy that meets your custom requirements, define a custom metric. You can define a custom metric based on any production variant metric that changes in proportion to scaling.\n",
    "\n",
    "Not all SageMaker metrics work for target tracking. The metric must be a valid utilization metric, and it must describe how busy an instance is. The value of the metric must increase or decrease in inverse proportion to the number of variant instances. That is, the value of the metric should decrease when the number of instances increases.\n"
   ]
  },
  {
   "cell_type": "code",
   "execution_count": 34,
   "id": "0eac6bac",
   "metadata": {},
   "outputs": [],
   "source": [
    "# Cell 01\n",
    "import boto3\n",
    "import sagemaker\n",
    "from sagemaker.estimator import Estimator\n",
    "\n",
    "boto_session = boto3.session.Session()\n",
    "region = boto_session.region_name\n",
    "\n",
    "sagemaker_session = sagemaker.Session()\n",
    "base_job_prefix = 'xgboost-example'\n",
    "role = sagemaker.get_execution_role()\n",
    "\n",
    "default_bucket = sagemaker_session.default_bucket()\n",
    "s3_prefix = base_job_prefix\n",
    "\n",
    "training_instance_type = 'ml.m5.xlarge'"
   ]
  },
  {
   "cell_type": "markdown",
   "id": "0729b833",
   "metadata": {},
   "source": [
    "## Download Data and Prepare Training Input in S3"
   ]
  },
  {
   "cell_type": "code",
   "execution_count": 5,
   "id": "9fc3dded",
   "metadata": {},
   "outputs": [
    {
     "name": "stdout",
     "output_type": "stream",
     "text": [
      "download: s3://sagemaker-sample-files/datasets/tabular/uci_abalone/train_csv/abalone_dataset1_train.csv to ./abalone_dataset1_train.csv\n"
     ]
    }
   ],
   "source": [
    "!aws s3 cp s3://sagemaker-sample-files/datasets/tabular/uci_abalone/train_csv/abalone_dataset1_train.csv .  \n",
    "    "
   ]
  },
  {
   "cell_type": "code",
   "execution_count": 6,
   "id": "76a43d8e",
   "metadata": {},
   "outputs": [
    {
     "name": "stdout",
     "output_type": "stream",
     "text": [
      "upload: ./abalone_dataset1_train.csv to s3://sagemaker-us-east-1-622343165275/xgboost-regression/train.csv\n"
     ]
    }
   ],
   "source": [
    "!aws s3 cp abalone_dataset1_train.csv s3://{default_bucket}/xgboost-regression/train.csv  \n",
    "    "
   ]
  },
  {
   "cell_type": "code",
   "execution_count": 7,
   "id": "8cee58ef",
   "metadata": {},
   "outputs": [],
   "source": [
    "from sagemaker.inputs import TrainingInput\n",
    "training_path = f's3://{default_bucket}/xgboost-regression/train.csv'\n",
    "train_input = TrainingInput(training_path, content_type=\"text/csv\")"
   ]
  },
  {
   "cell_type": "markdown",
   "id": "77e9b844",
   "metadata": {},
   "source": [
    "## Retrieve XGBoost Image and Prepare Training Estimator W/ HyperParameters"
   ]
  },
  {
   "cell_type": "code",
   "execution_count": 8,
   "id": "e63c80bb",
   "metadata": {},
   "outputs": [],
   "source": [
    "model_path = f's3://{default_bucket}/{s3_prefix}/xgb_model'\n",
    "\n",
    "image_uri = sagemaker.image_uris.retrieve(\n",
    "    framework=\"xgboost\",\n",
    "    region=region,\n",
    "    version=\"1.0-1\",\n",
    "    py_version=\"py3\",\n",
    "    instance_type=training_instance_type,\n",
    ")\n",
    "\n",
    "xgb_train = Estimator(\n",
    "    image_uri=image_uri,\n",
    "    instance_type=training_instance_type,\n",
    "    instance_count=1,\n",
    "    output_path=model_path,\n",
    "    sagemaker_session=sagemaker_session,\n",
    "    role=role\n",
    ")\n",
    "\n",
    "xgb_train.set_hyperparameters(\n",
    "    objective=\"reg:linear\",\n",
    "    num_round=50,\n",
    "    max_depth=5,\n",
    "    eta=0.2,\n",
    "    gamma=4,\n",
    "    min_child_weight=6,\n",
    "    subsample=0.7,\n",
    "    silent=0,\n",
    ")"
   ]
  },
  {
   "cell_type": "markdown",
   "id": "99e329b5",
   "metadata": {},
   "source": [
    "## Model Training"
   ]
  },
  {
   "cell_type": "code",
   "execution_count": 9,
   "id": "09001f82",
   "metadata": {
    "collapsed": true,
    "jupyter": {
     "outputs_hidden": true
    }
   },
   "outputs": [
    {
     "name": "stdout",
     "output_type": "stream",
     "text": [
      "2022-09-30 18:34:55 Starting - Starting the training job...\n",
      "2022-09-30 18:35:15 Starting - Preparing the instances for trainingProfilerReport-1664562895: InProgress\n",
      "......\n",
      "2022-09-30 18:36:21 Downloading - Downloading input data...\n",
      "2022-09-30 18:36:41 Training - Downloading the training image...\n",
      "2022-09-30 18:37:21 Training - Training image download completed. Training in progress..\u001b[34mINFO:sagemaker-containers:Imported framework sagemaker_xgboost_container.training\u001b[0m\n",
      "\u001b[34mINFO:sagemaker-containers:Failed to parse hyperparameter objective value reg:linear to Json.\u001b[0m\n",
      "\u001b[34mReturning the value itself\u001b[0m\n",
      "\u001b[34mINFO:sagemaker-containers:No GPUs detected (normal if no gpus installed)\u001b[0m\n",
      "\u001b[34mINFO:sagemaker_xgboost_container.training:Running XGBoost Sagemaker in algorithm mode\u001b[0m\n",
      "\u001b[34mINFO:root:Determined delimiter of CSV input is ','\u001b[0m\n",
      "\u001b[34mINFO:root:Determined delimiter of CSV input is ','\u001b[0m\n",
      "\u001b[34m[18:37:23] 2923x8 matrix with 23384 entries loaded from /opt/ml/input/data/train?format=csv&label_column=0&delimiter=,\u001b[0m\n",
      "\u001b[34mINFO:root:Single node training.\u001b[0m\n",
      "\u001b[34m[2022-09-30 18:37:23.585 ip-10-2-241-202.ec2.internal:1 INFO json_config.py:90] Creating hook from json_config at /opt/ml/input/config/debughookconfig.json.\u001b[0m\n",
      "\u001b[34m[2022-09-30 18:37:23.586 ip-10-2-241-202.ec2.internal:1 INFO hook.py:151] tensorboard_dir has not been set for the hook. SMDebug will not be exporting tensorboard summaries.\u001b[0m\n",
      "\u001b[34m[2022-09-30 18:37:23.586 ip-10-2-241-202.ec2.internal:1 INFO hook.py:196] Saving to /opt/ml/output/tensors\u001b[0m\n",
      "\u001b[34mINFO:root:Debug hook created from config\u001b[0m\n",
      "\u001b[34mINFO:root:Train matrix has 2923 rows\u001b[0m\n",
      "\u001b[34m[18:37:23] WARNING: /workspace/src/objective/regression_obj.cu:167: reg:linear is now deprecated in favor of reg:squarederror.\u001b[0m\n",
      "\u001b[34m[18:37:23] WARNING: /workspace/src/learner.cc:328: \u001b[0m\n",
      "\u001b[34mParameters: { num_round, silent } might not be used.\n",
      "  This may not be accurate due to some parameters are only used in language bindings but\n",
      "  passed down to XGBoost core.  Or some parameters are not used but slip through this\n",
      "  verification. Please open an issue if you find above cases.\u001b[0m\n",
      "\u001b[34m[0]#011train-rmse:8.09123\u001b[0m\n",
      "\u001b[34m[2022-09-30 18:37:23.643 ip-10-2-241-202.ec2.internal:1 INFO hook.py:325] Monitoring the collections: metrics\u001b[0m\n",
      "\u001b[34m[1]#011train-rmse:6.61298\u001b[0m\n",
      "\u001b[34m[2]#011train-rmse:5.45157\u001b[0m\n",
      "\u001b[34m[3]#011train-rmse:4.54038\u001b[0m\n",
      "\u001b[34m[4]#011train-rmse:3.84707\u001b[0m\n",
      "\u001b[34m[5]#011train-rmse:3.31465\u001b[0m\n",
      "\u001b[34m[6]#011train-rmse:2.91636\u001b[0m\n",
      "\u001b[34m[7]#011train-rmse:2.62415\u001b[0m\n",
      "\u001b[34m[8]#011train-rmse:2.40885\u001b[0m\n",
      "\u001b[34m[9]#011train-rmse:2.24929\u001b[0m\n",
      "\u001b[34m[10]#011train-rmse:2.13106\u001b[0m\n",
      "\u001b[34m[11]#011train-rmse:2.04974\u001b[0m\n",
      "\u001b[34m[12]#011train-rmse:1.98240\u001b[0m\n",
      "\u001b[34m[13]#011train-rmse:1.93888\u001b[0m\n",
      "\u001b[34m[14]#011train-rmse:1.89701\u001b[0m\n",
      "\u001b[34m[15]#011train-rmse:1.87329\u001b[0m\n",
      "\u001b[34m[16]#011train-rmse:1.85216\u001b[0m\n",
      "\u001b[34m[17]#011train-rmse:1.82408\u001b[0m\n",
      "\u001b[34m[18]#011train-rmse:1.81372\u001b[0m\n",
      "\u001b[34m[19]#011train-rmse:1.80362\u001b[0m\n",
      "\u001b[34m[20]#011train-rmse:1.78164\u001b[0m\n",
      "\u001b[34m[21]#011train-rmse:1.77341\u001b[0m\n",
      "\u001b[34m[22]#011train-rmse:1.76766\u001b[0m\n",
      "\u001b[34m[23]#011train-rmse:1.75940\u001b[0m\n",
      "\u001b[34m[24]#011train-rmse:1.74632\u001b[0m\n",
      "\u001b[34m[25]#011train-rmse:1.74385\u001b[0m\n",
      "\u001b[34m[26]#011train-rmse:1.73876\u001b[0m\n",
      "\u001b[34m[27]#011train-rmse:1.73410\u001b[0m\n",
      "\u001b[34m[28]#011train-rmse:1.72847\u001b[0m\n",
      "\u001b[34m[29]#011train-rmse:1.72384\u001b[0m\n",
      "\u001b[34m[30]#011train-rmse:1.71492\u001b[0m\n",
      "\u001b[34m[31]#011train-rmse:1.69789\u001b[0m\n",
      "\u001b[34m[32]#011train-rmse:1.69073\u001b[0m\n",
      "\u001b[34m[33]#011train-rmse:1.68621\u001b[0m\n",
      "\u001b[34m[34]#011train-rmse:1.67960\u001b[0m\n",
      "\u001b[34m[35]#011train-rmse:1.67194\u001b[0m\n",
      "\u001b[34m[36]#011train-rmse:1.65883\u001b[0m\n",
      "\u001b[34m[37]#011train-rmse:1.65463\u001b[0m\n",
      "\u001b[34m[38]#011train-rmse:1.65199\u001b[0m\n",
      "\u001b[34m[39]#011train-rmse:1.63903\u001b[0m\n",
      "\u001b[34m[40]#011train-rmse:1.63353\u001b[0m\n",
      "\u001b[34m[41]#011train-rmse:1.62607\u001b[0m\n",
      "\u001b[34m[42]#011train-rmse:1.61662\u001b[0m\n",
      "\u001b[34m[43]#011train-rmse:1.60241\u001b[0m\n",
      "\u001b[34m[44]#011train-rmse:1.59173\u001b[0m\n",
      "\u001b[34m[45]#011train-rmse:1.58875\u001b[0m\n",
      "\u001b[34m[46]#011train-rmse:1.57816\u001b[0m\n",
      "\u001b[34m[47]#011train-rmse:1.56941\u001b[0m\n",
      "\u001b[34m[48]#011train-rmse:1.56063\u001b[0m\n",
      "\u001b[34m[49]#011train-rmse:1.55822\u001b[0m\n",
      "\n",
      "2022-09-30 18:37:41 Uploading - Uploading generated training model\n",
      "2022-09-30 18:37:41 Completed - Training job completed\n",
      "Training seconds: 87\n",
      "Billable seconds: 87\n"
     ]
    }
   ],
   "source": [
    "xgb_train.fit({'train': train_input})"
   ]
  },
  {
   "cell_type": "markdown",
   "id": "904f9c23",
   "metadata": {},
   "source": [
    "## Retrieve Model Data"
   ]
  },
  {
   "cell_type": "code",
   "execution_count": 10,
   "id": "afe72c54",
   "metadata": {},
   "outputs": [
    {
     "data": {
      "text/plain": [
       "'s3://sagemaker-us-east-1-622343165275/xgboost-example/xgb_model/sagemaker-xgboost-2022-09-30-18-34-55-039/output/model.tar.gz'"
      ]
     },
     "execution_count": 10,
     "metadata": {},
     "output_type": "execute_result"
    }
   ],
   "source": [
    "model_artifacts = xgb_train.model_data\n",
    "model_artifacts"
   ]
  },
  {
   "cell_type": "markdown",
   "id": "6de8999a",
   "metadata": {},
   "source": [
    "## Upload the Model for real time to S3"
   ]
  },
  {
   "cell_type": "code",
   "execution_count": 154,
   "id": "97402787",
   "metadata": {},
   "outputs": [
    {
     "name": "stdout",
     "output_type": "stream",
     "text": [
      "sagemaker-us-east-1-622343165275\n"
     ]
    }
   ],
   "source": [
    "import sagemaker\n",
    "\n",
    "BUCKET=sagemaker.Session().default_bucket()\n",
    "print(BUCKET)"
   ]
  },
  {
   "cell_type": "code",
   "execution_count": 158,
   "id": "e2e7d4ac",
   "metadata": {},
   "outputs": [
    {
     "data": {
      "text/plain": [
       "'s3://sagemaker-us-east-1-622343165275/models/realtime/model.tar.gz'"
      ]
     },
     "execution_count": 158,
     "metadata": {},
     "output_type": "execute_result"
    }
   ],
   "source": [
    "model_artifacts = sagemaker.s3.S3Uploader().upload(\n",
    "    \n",
    "    local_path='./models/realtime/model.tar.gz',\n",
    "    desired_s3_uri=f\"s3://{BUCKET}/models/realtime\",\n",
    ")\n",
    "model_artifacts"
   ]
  },
  {
   "cell_type": "code",
   "execution_count": 159,
   "id": "20b0013d",
   "metadata": {},
   "outputs": [
    {
     "data": {
      "text/plain": [
       "'s3://sagemaker-us-east-1-622343165275/models/realtime/model.tar.gz'"
      ]
     },
     "execution_count": 159,
     "metadata": {},
     "output_type": "execute_result"
    }
   ],
   "source": [
    "model_artifacts"
   ]
  },
  {
   "cell_type": "markdown",
   "id": "4e4f031c",
   "metadata": {},
   "source": [
    "## Create SM Client to Create Model, EP Config, EP"
   ]
  },
  {
   "cell_type": "code",
   "execution_count": 160,
   "id": "3b3269ad",
   "metadata": {},
   "outputs": [],
   "source": [
    "sm_client = boto3.client(service_name='sagemaker')"
   ]
  },
  {
   "cell_type": "markdown",
   "id": "42fcd9cc",
   "metadata": {},
   "source": [
    "## Model Creation"
   ]
  },
  {
   "cell_type": "code",
   "execution_count": 190,
   "id": "3f9ed422",
   "metadata": {},
   "outputs": [
    {
     "name": "stdout",
     "output_type": "stream",
     "text": [
      "Model name: xgboost-uploaded2022-10-01-00-58-03\n",
      "Model Arn: arn:aws:sagemaker:us-east-1:622343165275:model/xgboost-uploaded2022-10-01-00-58-03\n"
     ]
    }
   ],
   "source": [
    "from time import gmtime, strftime\n",
    "model_name = 'xgboost-uploaded' + strftime(\"%Y-%m-%d-%H-%M-%S\", gmtime())\n",
    "print('Model name: ' + model_name)\n",
    "\n",
    "reference_container = {\n",
    "    \"Image\": image_uri,\n",
    "    \"ModelDataUrl\": model_artifacts\n",
    "}\n",
    "\n",
    "create_model_response = sm_client.create_model(\n",
    "    ModelName = model_name,\n",
    "    ExecutionRoleArn = role,\n",
    "    PrimaryContainer= reference_container)\n",
    "\n",
    "print(\"Model Arn: \" + create_model_response['ModelArn'])"
   ]
  },
  {
   "cell_type": "markdown",
   "id": "bb8202e9",
   "metadata": {},
   "source": [
    "## Endpoint Config Creation"
   ]
  },
  {
   "cell_type": "code",
   "execution_count": 191,
   "id": "642957cb",
   "metadata": {},
   "outputs": [
    {
     "name": "stdout",
     "output_type": "stream",
     "text": [
      "Endpoint config name: xgboost-config2022-10-01-00-58-07\n",
      "Endpoint config Arn: arn:aws:sagemaker:us-east-1:622343165275:endpoint-config/xgboost-config2022-10-01-00-58-07\n"
     ]
    }
   ],
   "source": [
    "endpoint_config_name = 'xgboost-config' + strftime(\"%Y-%m-%d-%H-%M-%S\", gmtime())\n",
    "instance_type='ml.m4.xlarge'\n",
    "print('Endpoint config name: ' + endpoint_config_name)\n",
    "\n",
    "create_endpoint_config_response = sm_client.create_endpoint_config(\n",
    "    EndpointConfigName = endpoint_config_name,\n",
    "    ProductionVariants=[{\n",
    "        'InstanceType': instance_type,\n",
    "        'InitialInstanceCount': 1,\n",
    "        'InitialVariantWeight': 1,\n",
    "        'ModelName': model_name,\n",
    "        'VariantName': 'AllTraffic',\n",
    "        }])\n",
    "\n",
    "print(\"Endpoint config Arn: \" + create_endpoint_config_response['EndpointConfigArn'])"
   ]
  },
  {
   "cell_type": "markdown",
   "id": "56ede867",
   "metadata": {},
   "source": [
    "## Endpoint Creation"
   ]
  },
  {
   "cell_type": "code",
   "execution_count": 192,
   "id": "6bcaf83a",
   "metadata": {},
   "outputs": [
    {
     "name": "stdout",
     "output_type": "stream",
     "text": [
      "Endpoint name: xgboost-uploaded2022-10-01-00-58-11\n",
      "Endpoint Arn: arn:aws:sagemaker:us-east-1:622343165275:endpoint/xgboost-uploaded2022-10-01-00-58-11\n",
      "Endpoint Status: Creating\n",
      "Waiting for xgboost-uploaded2022-10-01-00-58-11 endpoint to be in service...\n",
      "CPU times: user 120 ms, sys: 7.97 ms, total: 128 ms\n",
      "Wall time: 4min 1s\n"
     ]
    }
   ],
   "source": [
    "%%time\n",
    "\n",
    "import time\n",
    "\n",
    "endpoint_name = 'xgboost-uploaded' + strftime(\"%Y-%m-%d-%H-%M-%S\", gmtime())\n",
    "print('Endpoint name: ' + endpoint_name)\n",
    "\n",
    "create_endpoint_response = sm_client.create_endpoint(\n",
    "    EndpointName=endpoint_name,\n",
    "    EndpointConfigName=endpoint_config_name)\n",
    "print('Endpoint Arn: ' + create_endpoint_response['EndpointArn'])\n",
    "\n",
    "resp = sm_client.describe_endpoint(EndpointName=endpoint_name)\n",
    "status = resp['EndpointStatus']\n",
    "print(\"Endpoint Status: \" + status)\n",
    "\n",
    "print('Waiting for {} endpoint to be in service...'.format(endpoint_name))\n",
    "waiter = sm_client.get_waiter('endpoint_in_service')\n",
    "waiter.wait(EndpointName=endpoint_name)"
   ]
  },
  {
   "cell_type": "markdown",
   "id": "6c9f4861",
   "metadata": {},
   "source": [
    "## Sample Invocation"
   ]
  },
  {
   "cell_type": "code",
   "execution_count": 196,
   "id": "deef1bfe",
   "metadata": {},
   "outputs": [
    {
     "name": "stdout",
     "output_type": "stream",
     "text": [
      "b'4.566554546356201'\n"
     ]
    }
   ],
   "source": [
    "import boto3\n",
    "smr = boto3.client('sagemaker-runtime')\n",
    "\n",
    "resp = smr.invoke_endpoint(EndpointName=endpoint_name, Body=b'.345,0.224414,.131102,0.042329,.279923,-0.110329,-0.099358,0.0', \n",
    "                           ContentType='text/csv')\n",
    "\n",
    "print(resp['Body'].read())"
   ]
  },
  {
   "cell_type": "markdown",
   "id": "787caed4",
   "metadata": {},
   "source": [
    "## AutoScaling SageMaker Real-Time Endpoint\n",
    "\n",
    "Here we define a scaling policy based off of invocations per instance. We set the maximum instance count to 4. We can define this using the Boto3 SDK. There's different types of scaling policies: Simple Scaling, Target Tracking Scaling, Step Scaling, Scheduled Scaling, and On-Demand Scaling. For this we'll be using Target Tracking Scaling and be using the Invocations Per Instance Metric as the basis for scaling."
   ]
  },
  {
   "cell_type": "raw",
   "id": "344b9224",
   "metadata": {},
   "source": [
    "\n",
    "# scaling configuration\n",
    "response = asg.register_scalable_target(\n",
    "    ServiceNamespace='sagemaker', #\n",
    "    ResourceId=resource_id,\n",
    "    ScalableDimension='sagemaker:variant:DesiredInstanceCount', \n",
    "    MinCapacity=1,\n",
    "    MaxCapacity=4\n",
    ")\n",
    "\n",
    "#Target Scaling\n",
    "response = asg.put_scaling_policy(\n",
    "    PolicyName=f'Request-ScalingPolicy-{endpoint_name}',\n",
    "    ServiceNamespace='sagemaker',\n",
    "    ResourceId=resource_id,\n",
    "    ScalableDimension='sagemaker:variant:DesiredInstanceCount',\n",
    "    PolicyType='TargetTrackingScaling',\n",
    "    TargetTrackingScalingPolicyConfiguration={\n",
    "        'TargetValue': 1.0, # Threshold\n",
    "        'PredefinedMetricSpecification': {\n",
    "            'PredefinedMetricType': 'SageMakerVariantInvocationsPerInstance',\n",
    "        },\n",
    "        'ScaleInCooldown': 300, # duration until scale in\n",
    "        'ScaleOutCooldown': 30 # duration between scale out\n",
    "    }\n",
    ")\n",
    "print(\"Auto:scaling:created:\")\n",
    "\n",
    "#Example 2 - CPUUtilization metric\n",
    "response = asg.put_scaling_policy(\n",
    "    PolicyName='CPUUtil-ScalingPolicy',\n",
    "    ServiceNamespace='sagemaker',\n",
    "    ResourceId=resource_id,\n",
    "    ScalableDimension='sagemaker:variant:DesiredInstanceCount',\n",
    "    PolicyType='TargetTrackingScaling',\n",
    "    TargetTrackingScalingPolicyConfiguration={\n",
    "        'TargetValue': 45.0,\n",
    "        'CustomizedMetricSpecification':\n",
    "        {\n",
    "            'MetricName': 'CPUUtilization',\n",
    "            'Namespace': '/aws/sagemaker/Endpoints',\n",
    "            'Dimensions': [\n",
    "                {'Name': 'EndpointName', 'Value': endpoint_name },\n",
    "                {'Name': 'VariantName','Value': 'AllTraffic'}\n",
    "            ],\n",
    "            'Statistic': 'Average', # Possible - 'Statistic': 'Average'|'Minimum'|'Maximum'|'SampleCount'|'Sum'\n",
    "            'Unit': 'Percent'\n",
    "        },\n",
    "#         'ScaleInCooldown': 600,\n",
    "#         'ScaleOutCooldown': 30\n",
    "    }\n",
    ")\n",
    "print(f\"CPU utilization scaling created: {response}\")\n",
    "\n",
    "\n",
    "#Example 3 - OverheadLatency metric and StepScaling Policy\n",
    "response = asg.put_scaling_policy(\n",
    "    PolicyName='OverheadLatency-ScalingPolicy',\n",
    "    ServiceNamespace='sagemaker',\n",
    "    ResourceId=resource_id,\n",
    "    ScalableDimension='sagemaker:variant:DesiredInstanceCount',\n",
    "    PolicyType='StepScaling', \n",
    "    StepScalingPolicyConfiguration={\n",
    "        'AdjustmentType': 'ChangeInCapacity', # 'PercentChangeInCapacity'|'ExactCapacity' Specifies whether the ScalingAdjustment value in a StepAdjustment \n",
    "                                              # is an absolute number or a percentage of the current capacity.\n",
    "        'StepAdjustments': [ # A set of adjustments that enable you to scale based on the size of the alarm breach.\n",
    "            {\n",
    "                'MetricIntervalLowerBound': 0.0, # The lower bound for the difference between the alarm threshold and the CloudWatch metric.\n",
    "                 # 'MetricIntervalUpperBound': 100.0, # The upper bound for the difference between the alarm threshold and the CloudWatch metric.\n",
    "                'ScalingAdjustment': 1 # The amount by which to scale, based on the specified adjustment type. \n",
    "                                       # A positive value adds to the current capacity while a negative number removes from the current capacity.\n",
    "            },\n",
    "        ],\n",
    "        # 'MinAdjustmentMagnitude': 1, # The minimum number of instances to scale. - only for 'PercentChangeInCapacity'\n",
    "        'Cooldown': 120,\n",
    "        'MetricAggregationType': 'Average', # 'Minimum'|'Maximum'\n",
    "    }\n",
    ")\n",
    "print(f\"Step:Scaling:created:{response}:\")"
   ]
  },
  {
   "cell_type": "code",
   "execution_count": 227,
   "id": "9c5bc212",
   "metadata": {},
   "outputs": [
    {
     "name": "stdout",
     "output_type": "stream",
     "text": [
      "registered:scalable:{'ResponseMetadata': {'RequestId': '3fe55f40-37fe-4701-9b1b-7a06993e7ab6', 'HTTPStatusCode': 200, 'HTTPHeaders': {'x-amzn-requestid': '3fe55f40-37fe-4701-9b1b-7a06993e7ab6', 'content-type': 'application/x-amz-json-1.1', 'content-length': '2', 'date': 'Sat, 01 Oct 2022 01:58:19 GMT'}, 'RetryAttempts': 0}}::\n"
     ]
    }
   ],
   "source": [
    "# AutoScaling client\n",
    "asg = boto3.client('application-autoscaling')\n",
    "\n",
    "# Resource type is variant and the unique identifier is the resource ID.\n",
    "resource_id=f\"endpoint/{endpoint_name}/variant/AllTraffic\"\n",
    "\n",
    "# scaling configuration\n",
    "response = asg.register_scalable_target(\n",
    "    ServiceNamespace='sagemaker', #\n",
    "    ResourceId=resource_id,\n",
    "    ScalableDimension='sagemaker:variant:DesiredInstanceCount', \n",
    "    MinCapacity=1,\n",
    "    MaxCapacity=3\n",
    ")\n",
    "print(f\"registered:scalable:{response}::\")\n"
   ]
  },
  {
   "cell_type": "code",
   "execution_count": 236,
   "id": "5423e9f4",
   "metadata": {
    "collapsed": true,
    "jupyter": {
     "outputs_hidden": true
    }
   },
   "outputs": [
    {
     "data": {
      "text/plain": [
       "{'ScalingPolicies': [{'PolicyARN': 'arn:aws:autoscaling:us-east-1:622343165275:scalingPolicy:ee74f36f-117a-4e14-afd4-3fe2ffc640cb:resource/sagemaker/endpoint/xgboost-uploaded2022-10-01-00-58-11/variant/AllTraffic:policyName/SagemakerEndpointInvocationScalingPolicy',\n",
       "   'PolicyName': 'SagemakerEndpointInvocationScalingPolicy',\n",
       "   'ServiceNamespace': 'sagemaker',\n",
       "   'ResourceId': 'endpoint/xgboost-uploaded2022-10-01-00-58-11/variant/AllTraffic',\n",
       "   'ScalableDimension': 'sagemaker:variant:DesiredInstanceCount',\n",
       "   'PolicyType': 'TargetTrackingScaling',\n",
       "   'TargetTrackingScalingPolicyConfiguration': {'TargetValue': 0.5,\n",
       "    'PredefinedMetricSpecification': {'PredefinedMetricType': 'SageMakerVariantInvocationsPerInstance'},\n",
       "    'ScaleOutCooldown': 30,\n",
       "    'DisableScaleIn': True},\n",
       "   'Alarms': [{'AlarmName': 'TargetTracking-endpoint/xgboost-uploaded2022-10-01-00-58-11/variant/AllTraffic-AlarmHigh-8073af5b-268e-422d-b91d-024dbe66febe',\n",
       "     'AlarmARN': 'arn:aws:cloudwatch:us-east-1:622343165275:alarm:TargetTracking-endpoint/xgboost-uploaded2022-10-01-00-58-11/variant/AllTraffic-AlarmHigh-8073af5b-268e-422d-b91d-024dbe66febe'}],\n",
       "   'CreationTime': datetime.datetime(2022, 10, 1, 2, 1, 12, 929000, tzinfo=tzlocal())}],\n",
       " 'ResponseMetadata': {'RequestId': '20e568f2-d1ff-4a6b-ab41-193ce742b893',\n",
       "  'HTTPStatusCode': 200,\n",
       "  'HTTPHeaders': {'x-amzn-requestid': '20e568f2-d1ff-4a6b-ab41-193ce742b893',\n",
       "   'content-type': 'application/x-amz-json-1.1',\n",
       "   'content-length': '1107',\n",
       "   'date': 'Sat, 01 Oct 2022 02:01:50 GMT'},\n",
       "  'RetryAttempts': 0}}"
      ]
     },
     "execution_count": 236,
     "metadata": {},
     "output_type": "execute_result"
    }
   ],
   "source": [
    "# scaling configuration\n",
    "asg.describe_scaling_policies(\n",
    "    ServiceNamespace='sagemaker', #\n",
    "    ResourceId=resource_id,\n",
    "    ScalableDimension='sagemaker:variant:DesiredInstanceCount', \n",
    ")\n"
   ]
  },
  {
   "cell_type": "code",
   "execution_count": 237,
   "id": "695eafde",
   "metadata": {
    "collapsed": true,
    "jupyter": {
     "outputs_hidden": true
    }
   },
   "outputs": [
    {
     "data": {
      "text/plain": [
       "{'ScalingActivities': [{'ActivityId': 'c4fb7e94-5d50-4f22-afeb-0d3d31f20c7c',\n",
       "   'ServiceNamespace': 'sagemaker',\n",
       "   'ResourceId': 'endpoint/xgboost-uploaded2022-10-01-00-58-11/variant/AllTraffic',\n",
       "   'ScalableDimension': 'sagemaker:variant:DesiredInstanceCount',\n",
       "   'Description': 'Setting desired instance count to 1.',\n",
       "   'Cause': 'monitor alarm TargetTracking-endpoint/xgboost-uploaded2022-10-01-00-58-11/variant/AllTraffic-AlarmLow-32d6e02e-c8c9-4185-815c-19fbd29d1a9c in state ALARM triggered policy SagemakerEndpointInvocationScalingPolicy',\n",
       "   'StartTime': datetime.datetime(2022, 10, 1, 1, 38, 17, 454000, tzinfo=tzlocal()),\n",
       "   'EndTime': datetime.datetime(2022, 10, 1, 1, 38, 52, 74000, tzinfo=tzlocal()),\n",
       "   'StatusCode': 'Successful',\n",
       "   'StatusMessage': 'Successfully set desired instance count to 1. Change successfully fulfilled by sagemaker.'},\n",
       "  {'ActivityId': '0250cc7e-662e-453e-98ea-09156822d5fa',\n",
       "   'ServiceNamespace': 'sagemaker',\n",
       "   'ResourceId': 'endpoint/xgboost-uploaded2022-10-01-00-58-11/variant/AllTraffic',\n",
       "   'ScalableDimension': 'sagemaker:variant:DesiredInstanceCount',\n",
       "   'Description': 'Setting desired instance count to 2.',\n",
       "   'Cause': 'monitor alarm TargetTracking-endpoint/xgboost-uploaded2022-10-01-00-58-11/variant/AllTraffic-AlarmLow-32d6e02e-c8c9-4185-815c-19fbd29d1a9c in state ALARM triggered policy SagemakerEndpointInvocationScalingPolicy',\n",
       "   'StartTime': datetime.datetime(2022, 10, 1, 1, 32, 17, 521000, tzinfo=tzlocal()),\n",
       "   'EndTime': datetime.datetime(2022, 10, 1, 1, 32, 49, 971000, tzinfo=tzlocal()),\n",
       "   'StatusCode': 'Successful',\n",
       "   'StatusMessage': 'Successfully set desired instance count to 2. Change successfully fulfilled by sagemaker.'},\n",
       "  {'ActivityId': '6e953d43-13d2-424c-852c-de4964f4643e',\n",
       "   'ServiceNamespace': 'sagemaker',\n",
       "   'ResourceId': 'endpoint/xgboost-uploaded2022-10-01-00-58-11/variant/AllTraffic',\n",
       "   'ScalableDimension': 'sagemaker:variant:DesiredInstanceCount',\n",
       "   'Description': 'Setting desired instance count to 3.',\n",
       "   'Cause': 'monitor alarm TargetTracking-endpoint/xgboost-uploaded2022-10-01-00-58-11/variant/AllTraffic-AlarmHigh-85232c76-ca57-47e7-9884-0dea551afcf6 in state ALARM triggered policy SagemakerEndpointInvocationScalingPolicy',\n",
       "   'StartTime': datetime.datetime(2022, 10, 1, 1, 10, 34, 694000, tzinfo=tzlocal()),\n",
       "   'EndTime': datetime.datetime(2022, 10, 1, 1, 13, 56, 748000, tzinfo=tzlocal()),\n",
       "   'StatusCode': 'Successful',\n",
       "   'StatusMessage': 'Successfully set desired instance count to 3. Change successfully fulfilled by sagemaker.'}],\n",
       " 'ResponseMetadata': {'RequestId': 'e7fe1096-2f7d-4b3a-91b6-9d09155e603e',\n",
       "  'HTTPStatusCode': 200,\n",
       "  'HTTPHeaders': {'x-amzn-requestid': 'e7fe1096-2f7d-4b3a-91b6-9d09155e603e',\n",
       "   'content-type': 'application/x-amz-json-1.1',\n",
       "   'content-length': '2094',\n",
       "   'date': 'Sat, 01 Oct 2022 02:01:52 GMT'},\n",
       "  'RetryAttempts': 0}}"
      ]
     },
     "execution_count": 237,
     "metadata": {},
     "output_type": "execute_result"
    }
   ],
   "source": [
    "# scaling configuration\n",
    "asg.describe_scaling_activities(\n",
    "    ServiceNamespace='sagemaker', #\n",
    "    ResourceId=resource_id,\n",
    "    ScalableDimension='sagemaker:variant:DesiredInstanceCount', \n",
    ")"
   ]
  },
  {
   "cell_type": "code",
   "execution_count": 233,
   "id": "78ac5d76",
   "metadata": {},
   "outputs": [
    {
     "name": "stdout",
     "output_type": "stream",
     "text": [
      "Target invocations created: {'PolicyARN': 'arn:aws:autoscaling:us-east-1:622343165275:scalingPolicy:ee74f36f-117a-4e14-afd4-3fe2ffc640cb:resource/sagemaker/endpoint/xgboost-uploaded2022-10-01-00-58-11/variant/AllTraffic:policyName/SagemakerEndpointInvocationScalingPolicy', 'Alarms': [{'AlarmName': 'TargetTracking-endpoint/xgboost-uploaded2022-10-01-00-58-11/variant/AllTraffic-AlarmHigh-8073af5b-268e-422d-b91d-024dbe66febe', 'AlarmARN': 'arn:aws:cloudwatch:us-east-1:622343165275:alarm:TargetTracking-endpoint/xgboost-uploaded2022-10-01-00-58-11/variant/AllTraffic-AlarmHigh-8073af5b-268e-422d-b91d-024dbe66febe'}], 'ResponseMetadata': {'RequestId': 'd7dc7af1-156e-430a-a873-7a671944e17d', 'HTTPStatusCode': 200, 'HTTPHeaders': {'x-amzn-requestid': 'd7dc7af1-156e-430a-a873-7a671944e17d', 'content-type': 'application/x-amz-json-1.1', 'content-length': '584', 'date': 'Sat, 01 Oct 2022 02:01:12 GMT'}, 'RetryAttempts': 0}}\n"
     ]
    }
   ],
   "source": [
    "\n",
    "# Target Scaling\n",
    "response = asg.put_scaling_policy(\n",
    "    PolicyName='SagemakerEndpointInvocationScalingPolicy',\n",
    "    ServiceNamespace='sagemaker',\n",
    "    ResourceId=resource_id,\n",
    "    ScalableDimension='sagemaker:variant:DesiredInstanceCount',\n",
    "    PolicyType='TargetTrackingScaling',\n",
    "    TargetTrackingScalingPolicyConfiguration={\n",
    "        'PredefinedMetricSpecification': {\n",
    "            \"PredefinedMetricType\": \"SageMakerVariantInvocationsPerInstance\",\n",
    "        },\n",
    "        'TargetValue': 0.5, # Threshold\n",
    "        'ScaleOutCooldown': 30, # duration between scale out\n",
    "        \"DisableScaleIn\": True\n",
    "    }\n",
    ")\n",
    "print(f\"Target invocations created: {response}\")\n"
   ]
  },
  {
   "cell_type": "code",
   "execution_count": 171,
   "id": "a431f026",
   "metadata": {},
   "outputs": [],
   "source": [
    "if 1==2:\n",
    "    #Example 2 - CPUUtilization metric\n",
    "    response = asg.put_scaling_policy(\n",
    "        PolicyName='SagemakerEndpointInvocationScalingPolicy1',\n",
    "        ServiceNamespace='sagemaker',\n",
    "        ResourceId=resource_id,\n",
    "        ScalableDimension='sagemaker:variant:DesiredInstanceCount',\n",
    "        PolicyType='TargetTrackingScaling',\n",
    "        TargetTrackingScalingPolicyConfiguration={\n",
    "            \"TargetValue\": 40,\n",
    "            \"CustomizedMetricSpecification\":\n",
    "            {\n",
    "                \"MetricName\": \"CPUUtilization\",\n",
    "                \"Namespace\": \"/aws/sagemaker/Endpoints\",\n",
    "                \"Dimensions\": [\n",
    "                    {\"Name\": \"EndpointName\", \"Value\": endpoint_name },\n",
    "                    {\"Name\": \"VariantName\",\"Value\": \"AllTraffic\"}\n",
    "        ],\n",
    "            \"Statistic\": \"Average\",\n",
    "            \"Unit\": \"Percent\"\n",
    "        },\n",
    "        \"DisableScaleIn\": True,\n",
    "      }\n",
    "    )\n",
    "    print(f\"CPU utilization scaling created: {response}\")\n",
    "\n",
    "    \n",
    "    "
   ]
  },
  {
   "cell_type": "code",
   "execution_count": 226,
   "id": "6b7120fc",
   "metadata": {},
   "outputs": [
    {
     "name": "stdout",
     "output_type": "stream",
     "text": [
      "registered:scalable:{'ResponseMetadata': {'RequestId': '5523d4ab-a969-4bd2-9bf7-31894fa4c32e', 'HTTPStatusCode': 200, 'HTTPHeaders': {'x-amzn-requestid': '5523d4ab-a969-4bd2-9bf7-31894fa4c32e', 'content-type': 'application/x-amz-json-1.1', 'content-length': '2', 'date': 'Sat, 01 Oct 2022 01:45:55 GMT'}, 'RetryAttempts': 0}}::\n"
     ]
    }
   ],
   "source": [
    "# scaling configuration\n",
    "if 1 == 2:\n",
    "    response_de = asg.deregister_scalable_target(\n",
    "        ServiceNamespace='sagemaker', #\n",
    "        ResourceId=resource_id,\n",
    "        ScalableDimension='sagemaker:variant:DesiredInstanceCount'\n",
    "    )\n",
    "    print(f\"registered:scalable:{response_de}::\")"
   ]
  },
  {
   "cell_type": "code",
   "execution_count": 239,
   "id": "bb697d6b",
   "metadata": {},
   "outputs": [],
   "source": [
    "from threading import Thread\n",
    "import time\n",
    "invoke_endpoint=True\n",
    "\n",
    "def invoke_endpoint_forever():\n",
    "    smr_local = boto3.client('sagemaker-runtime')\n",
    "    while invoke_endpoint:\n",
    "        try:\n",
    "            resp = smr_local.invoke_endpoint(\n",
    "                EndpointName=endpoint_name, \n",
    "                Body=b'.345,0.224414,.131102,0.042329,.279923,-0.110329,-0.099358,0.0', \n",
    "                ContentType='text/csv')\n",
    "            time.sleep(0.0005)\n",
    "            #print(resp['Body'].read())\n",
    "\n",
    "        except:\n",
    "            pass\n",
    "\n",
    "\n"
   ]
  },
  {
   "cell_type": "code",
   "execution_count": 240,
   "id": "dacf7a19",
   "metadata": {},
   "outputs": [],
   "source": [
    "# - Thread 1\n",
    "thread1 = Thread(target=invoke_endpoint_forever)\n",
    "thread1.start()\n",
    "\n",
    "# - Thread 2\n",
    "thread2 = Thread(target=invoke_endpoint_forever)\n",
    "thread2.start()\n",
    "\n",
    "# - Thread 3\n",
    "thread3 = Thread(target=invoke_endpoint_forever)\n",
    "#thread3.start()\n",
    "\n",
    "# - Thread 4\n",
    "thread4 = Thread(target=invoke_endpoint_forever)\n",
    "#thread4.start()\n",
    "\n",
    "# - Thread 5\n",
    "thread5 = Thread(target=invoke_endpoint_forever)\n",
    "#thread5.start()"
   ]
  },
  {
   "cell_type": "code",
   "execution_count": 66,
   "id": "b6747248",
   "metadata": {},
   "outputs": [],
   "source": [
    "#Thread(target=invoke_endpoint_forever).start()"
   ]
  },
  {
   "cell_type": "code",
   "execution_count": 248,
   "id": "ce040d1a",
   "metadata": {},
   "outputs": [],
   "source": [
    "invoke_endpoint=False"
   ]
  },
  {
   "cell_type": "code",
   "execution_count": null,
   "id": "fb435e86",
   "metadata": {},
   "outputs": [
    {
     "name": "stdout",
     "output_type": "stream",
     "text": [
      "test will run for 250 seconds\n"
     ]
    }
   ],
   "source": [
    "request_duration = 250\n",
    "end_time = time.time() + request_duration\n",
    "print(f\"test will run for {request_duration} seconds\")\n",
    "while time.time() < end_time:\n",
    "    resp = smr.invoke_endpoint(EndpointName=endpoint_name, Body=b'.345,0.224414,.131102,0.042329,.279923,-0.110329,-0.099358,0.0', \n",
    "                           ContentType='text/csv')\n",
    "    \n",
    "print(\"Test finished:time to look at stats\")"
   ]
  },
  {
   "cell_type": "raw",
   "id": "2f3b02e7",
   "metadata": {},
   "source": [
    "# scaling configuration\n",
    "asg.describe_scaling_activities(\n",
    "    ServiceNamespace='sagemaker', #\n",
    "    ResourceId=resource_id,\n",
    "    ScalableDimension='sagemaker:variant:DesiredInstanceCount', \n",
    ")"
   ]
  },
  {
   "cell_type": "markdown",
   "id": "baa96df6",
   "metadata": {},
   "source": [
    "We can monitor these invocations through CloudWatch which you can access through the SageMaker console."
   ]
  },
  {
   "cell_type": "markdown",
   "id": "7ec62c77",
   "metadata": {},
   "source": [
    "<img src='invocations.png' width=\"900\" height=\"400\">"
   ]
  },
  {
   "cell_type": "markdown",
   "id": "f2b53e33",
   "metadata": {},
   "source": [
    "We can zoom in to monitor the InvocationsPerInstance metric more."
   ]
  },
  {
   "cell_type": "markdown",
   "id": "48ccd1ff",
   "metadata": {},
   "source": [
    "<img src='./images/AutoScale1.png' width=\"900\" height=\"400\">\n",
    "<img src='./images/AutoScale2.png' width=\"900\" height=\"400\">"
   ]
  },
  {
   "cell_type": "code",
   "execution_count": null,
   "id": "bf0accf5",
   "metadata": {},
   "outputs": [],
   "source": [
    "response = sm_client.describe_endpoint(EndpointName=endpoint_name)\n",
    "status = response['EndpointStatus']\n",
    "print(\"Status: \" + status)\n",
    "\n",
    "\n",
    "while status=='Updating':\n",
    "    time.sleep(1)\n",
    "    response = sm_client.describe_endpoint(EndpointName=endpoint_name)\n",
    "    status = response['EndpointStatus']\n",
    "    instance_count = response['ProductionVariants'][0]['CurrentInstanceCount']\n",
    "    print(f\"Status: {status}\")\n",
    "    print(f\"Current Instance count: {instance_count}\")\n",
    "\n",
    "print(\"Update completed!\")\n",
    "response = sm_client.describe_endpoint(EndpointName=endpoint_name)\n",
    "instance_count = response['ProductionVariants'][0]['CurrentInstanceCount']\n",
    "print(f\"Status: {status}\")\n",
    "print(f\"Current Instance count: {instance_count}\")"
   ]
  },
  {
   "cell_type": "code",
   "execution_count": null,
   "id": "01293db2",
   "metadata": {},
   "outputs": [],
   "source": [
    "response "
   ]
  },
  {
   "cell_type": "code",
   "execution_count": null,
   "id": "6ea28a35",
   "metadata": {},
   "outputs": [],
   "source": [
    "import pandas as pd\n",
    "import datetime\n",
    "\n",
    "cw = boto3.Session().client(\"cloudwatch\")\n",
    "\n",
    "\n",
    "def get_invocation_metrics_for_endpoint_variant(endpoint_name, variant_name, start_time, end_time):\n",
    "    metrics = cw.get_metric_statistics(\n",
    "        Namespace=\"AWS/SageMaker\",\n",
    "        MetricName=\"Invocations\",\n",
    "        StartTime=start_time,\n",
    "        EndTime=end_time,\n",
    "        Period=60,\n",
    "        Statistics=[\"Sum\"],\n",
    "        Dimensions=[\n",
    "            {\"Name\": \"EndpointName\", \"Value\": endpoint_name},\n",
    "            {\"Name\": \"VariantName\", \"Value\": variant_name},\n",
    "        ],\n",
    "    )\n",
    "    return (\n",
    "        pd.DataFrame(metrics[\"Datapoints\"])\n",
    "        .sort_values(\"Timestamp\")\n",
    "        .set_index(\"Timestamp\")\n",
    "        .drop(\"Unit\", axis=1)\n",
    "        .rename(columns={\"Sum\": variant_name})\n",
    "    )\n",
    "def get_instance_count_metrics_for_endpoint_variant(endpoint_name, variant_name, start_time, end_time):\n",
    "    metrics = cw.get_metric_statistics(\n",
    "        Namespace=\"AWS/SageMaker\",\n",
    "        MetricName=\"InvocationsPerInstance\",\n",
    "        StartTime=start_time,\n",
    "        EndTime=end_time,\n",
    "        Period=60,\n",
    "        Statistics=[\"Sum\"],\n",
    "        Dimensions=[\n",
    "            {\"Name\": \"EndpointName\", \"Value\": endpoint_name},\n",
    "            {\"Name\": \"VariantName\", \"Value\": variant_name},\n",
    "        ],\n",
    "    )\n",
    "    return (\n",
    "        pd.DataFrame(metrics[\"Datapoints\"])\n",
    "        .sort_values(\"Timestamp\")\n",
    "        .set_index(\"Timestamp\")\n",
    "        .drop(\"Unit\", axis=1)\n",
    "        .rename(columns={\"Sum\": variant_name})\n",
    "    )\n",
    "\n",
    "\n",
    "def plot_endpoint_metrics(start_time=None):\n",
    "    start_time = start_time or datetime.datetime.now() - datetime.timedelta(minutes=60)\n",
    "    end_time = datetime.datetime.now()\n",
    "    metrics_variant = get_invocation_metrics_for_endpoint_variant(\n",
    "        endpoint_name, 'AllTraffic', start_time, end_time\n",
    "    )\n",
    "    metrics_variant.plot()\n",
    "    \n",
    "    metrics_variant = get_instance_count_metrics_for_endpoint_variant(\n",
    "        endpoint_name, 'AllTraffic', start_time, end_time\n",
    "    )\n",
    "    metrics_variant.plot()\n",
    "    return metrics_variant"
   ]
  },
  {
   "cell_type": "code",
   "execution_count": null,
   "id": "fd738890",
   "metadata": {},
   "outputs": [],
   "source": [
    "#time.sleep(20)  # let metrics catch up\n",
    "plot_endpoint_metrics()"
   ]
  },
  {
   "cell_type": "code",
   "execution_count": null,
   "id": "7cdc1c74",
   "metadata": {},
   "outputs": [],
   "source": []
  }
 ],
 "metadata": {
  "kernelspec": {
   "display_name": "conda_python3",
   "language": "python",
   "name": "conda_python3"
  },
  "language_info": {
   "codemirror_mode": {
    "name": "ipython",
    "version": 3
   },
   "file_extension": ".py",
   "mimetype": "text/x-python",
   "name": "python",
   "nbconvert_exporter": "python",
   "pygments_lexer": "ipython3",
   "version": "3.8.12"
  }
 },
 "nbformat": 4,
 "nbformat_minor": 5
}
