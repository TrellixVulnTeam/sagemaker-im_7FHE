{
 "cells": [
  {
   "cell_type": "markdown",
   "metadata": {},
   "source": [
    "# Amazon SageMaker BATCH Transform examples\n",
    "With [Amazon SageMaker Batch Transform](https://docs.aws.amazon.com/sagemaker/latest/dg/batch-transform.html), Use batch transform when you need to do the following:\n",
    "\n",
    "    Preprocess datasets to remove noise or bias that interferes with training or inference from your dataset.\n",
    "\n",
    "    Get inferences from large datasets.\n",
    "\n",
    "    Run inference when you don't need a persistent endpoint.\n",
    "\n",
    "    Associate input records with inferences to assist the interpretation of results.\n",
    "\n",
    "To filter input data before performing inferences or to associate input records with inferences about those records, see Associate Prediction Results with Input Records. For example, you can filter input data to provide context for creating and interpreting reports about the output data.For applications which require consistently low inference latency, a traditional endpoint is still the best choice.\n",
    "\n",
    "To split input files into mini-batches when you create a batch transform job, set the SplitType parameter value to Line. If SplitType is set to None or if an input file can't be split into mini-batches, SageMaker uses the entire input file in a single request. Note that Batch Transform doesn't support CSV-formatted input that contains embedded newline characters. You can control the size of the mini-batches by using the BatchStrategy and MaxPayloadInMB parameters. MaxPayloadInMB must not be greater than 100 MB. If you specify the optional MaxConcurrentTransforms parameter, then the value of (MaxConcurrentTransforms * MaxPayloadInMB) must also not exceed 100 MB.\n",
    "\n",
    "If the batch transform job successfully processes all of the records in an input file, it creates an output file with the same name and the .out file extension. For multiple input files, such as input1.csv and input2.csv, the output files are named input1.csv.out and input2.csv.out. The batch transform job stores the output files in the specified location in Amazon S3, such as s3://awsexamplebucket/output/.\n",
    "\n",
    "\n",
    "\n",
    "![](./cw_charts/BatchTransform.png)\n",
    "\n",
    "\n",
    "\n"
   ]
  },
  {
   "cell_type": "markdown",
   "metadata": {},
   "source": [
    "### Contents\n",
    "\n",
    "1. [Generate synthetic data for housing models](#Generate-synthetic-data-for-housing-models)\n",
    "1. [TRANSFORM the raw housing data using Scikit Learn model](#Preprocess-synthetic-housing-data-using-scikit-learn)\n",
    "1. [Clean up](#CleanUp)"
   ]
  },
  {
   "cell_type": "markdown",
   "metadata": {},
   "source": [
    "\n",
    "## Section 1 - Generate synthetic data for housing models <a id='Generate-synthetic-data-for-housing-models'></a>\n",
    "\n",
    "In this section, you will generate synthetic data that will be used to train the linear learner models.  The data generated consists of 6 numerical features - the year the house was built in, house size in square feet, number of bedrooms, number of bathroom, the lot size and number of garages and two categorial features - deck and front_porch.  "
   ]
  },
  {
   "cell_type": "code",
   "execution_count": 17,
   "metadata": {},
   "outputs": [],
   "source": [
    "import numpy as np\n",
    "import pandas as pd\n",
    "import json\n",
    "import datetime\n",
    "import time\n",
    "import boto3\n",
    "import sagemaker\n",
    "import os\n",
    "\n",
    "from time import gmtime, strftime\n",
    "from random import choice\n",
    "\n",
    "from sagemaker import get_execution_role\n",
    "\n",
    "from sagemaker.multidatamodel import MULTI_MODEL_CONTAINER_MODE\n",
    "from sagemaker.multidatamodel import MultiDataModel\n",
    "\n",
    "from sklearn.model_selection import train_test_split"
   ]
  },
  {
   "cell_type": "code",
   "execution_count": 18,
   "metadata": {},
   "outputs": [],
   "source": [
    "NUM_HOUSES_PER_LOCATION = 1000\n",
    "LOCATIONS  = ['NewYork_NY',    'LosAngeles_CA',   'Chicago_IL',    'Houston_TX',   'Dallas_TX',\n",
    "              'Phoenix_AZ',    'Philadelphia_PA', 'SanAntonio_TX', 'SanDiego_CA',  'SanFrancisco_CA']\n",
    "MAX_YEAR = 2019"
   ]
  },
  {
   "cell_type": "code",
   "execution_count": 19,
   "metadata": {},
   "outputs": [],
   "source": [
    "def gen_price(house):\n",
    "    \"\"\"Generate price based on features of the house\"\"\"\n",
    "    \n",
    "    if house['FRONT_PORCH'] == 'y':\n",
    "        garage = 1\n",
    "    else:\n",
    "        garage = 0\n",
    "        \n",
    "    if house['FRONT_PORCH'] == 'y':\n",
    "        front_porch = 1\n",
    "    else:\n",
    "        front_porch = 0\n",
    "        \n",
    "    price = int(150 * house['SQUARE_FEET'] + \\\n",
    "                10000 * house['NUM_BEDROOMS'] + \\\n",
    "                15000 * house['NUM_BATHROOMS'] + \\\n",
    "                15000 * house['LOT_ACRES'] + \\\n",
    "                10000 * garage + \\\n",
    "                10000 * front_porch + \\\n",
    "                15000 * house['GARAGE_SPACES'] - \\\n",
    "                5000 * (MAX_YEAR - house['YEAR_BUILT']))\n",
    "    return price"
   ]
  },
  {
   "cell_type": "code",
   "execution_count": 20,
   "metadata": {},
   "outputs": [],
   "source": [
    "def gen_yes_no():\n",
    "    \"\"\"Generate values (y/n) for categorical features\"\"\"\n",
    "    answer = choice(['y', 'n'])\n",
    "    return answer"
   ]
  },
  {
   "cell_type": "code",
   "execution_count": 21,
   "metadata": {},
   "outputs": [],
   "source": [
    "def gen_random_house():\n",
    "    \"\"\"Generate a row of data (single house information)\"\"\"\n",
    "    house = {'SQUARE_FEET':    np.random.normal(3000, 750),\n",
    "             'NUM_BEDROOMS':  np.random.randint(2, 7),\n",
    "             'NUM_BATHROOMS': np.random.randint(2, 7) / 2,\n",
    "             'LOT_ACRES':     round(np.random.normal(1.0, 0.25), 2),\n",
    "             'GARAGE_SPACES': np.random.randint(0, 4),\n",
    "             'YEAR_BUILT':    min(MAX_YEAR, int(np.random.normal(1995, 10))),\n",
    "             'FRONT_PORCH':   gen_yes_no(),\n",
    "             'DECK':          gen_yes_no()\n",
    "            }\n",
    "    \n",
    "    price = gen_price(house)\n",
    "    \n",
    "    return [house['YEAR_BUILT'],   \n",
    "            house['SQUARE_FEET'], \n",
    "            house['NUM_BEDROOMS'], \n",
    "            house['NUM_BATHROOMS'], \n",
    "            house['LOT_ACRES'],    \n",
    "            house['GARAGE_SPACES'],\n",
    "            house['FRONT_PORCH'],    \n",
    "            house['DECK'], \n",
    "            price]"
   ]
  },
  {
   "cell_type": "code",
   "execution_count": 22,
   "metadata": {},
   "outputs": [],
   "source": [
    "def gen_houses(num_houses):\n",
    "    \"\"\"Generate housing dataset\"\"\"\n",
    "    house_list = []\n",
    "    \n",
    "    for _ in range(num_houses):\n",
    "        house_list.append(gen_random_house())\n",
    "        \n",
    "    df = pd.DataFrame(\n",
    "        house_list, \n",
    "        columns=[\n",
    "            'YEAR_BUILT',    \n",
    "            'SQUARE_FEET',  \n",
    "            'NUM_BEDROOMS',            \n",
    "            'NUM_BATHROOMS',\n",
    "            'LOT_ACRES',\n",
    "            'GARAGE_SPACES',\n",
    "            'FRONT_PORCH',\n",
    "            'DECK', \n",
    "            'PRICE']\n",
    "    )\n",
    "    return df"
   ]
  },
  {
   "cell_type": "code",
   "execution_count": 23,
   "metadata": {},
   "outputs": [],
   "source": [
    "def save_data_locally(location, train, test): \n",
    "    \"\"\"Save the housing data locally\"\"\"\n",
    "    os.makedirs('data/{0}/train'.format(location), exist_ok=True)\n",
    "    train.to_csv('data/{0}/train/train.csv'.format(location), sep=',', header=False, index=False)\n",
    "       \n",
    "    os.makedirs('data/{0}/test'.format(location), exist_ok=True)\n",
    "    test.to_csv('data/{0}/test/test.csv'.format(location), sep=',', header=False, index=False) "
   ]
  },
  {
   "cell_type": "code",
   "execution_count": 29,
   "metadata": {},
   "outputs": [],
   "source": [
    "#Generate housing data for multiple locations.\n",
    "#Change \"PARALLEL_TRAINING_JOBS \" to a lower number to limit the number of training jobs and models. Or to a higher value to experiment with more models.\n",
    "\n",
    "PARALLEL_TRAINING_JOBS = 1\n",
    "\n",
    "for loc in LOCATIONS[:PARALLEL_TRAINING_JOBS]:\n",
    "    houses = gen_houses(NUM_HOUSES_PER_LOCATION)\n",
    "    \n",
    "    #Spliting data into train and test in 90:10 ratio\n",
    "    #Not splitting the train data into train and val because its not preprocessed yet\n",
    "    train, test = train_test_split(houses, test_size=0.1)\n",
    "    save_data_locally(loc, train, test)\n"
   ]
  },
  {
   "cell_type": "code",
   "execution_count": 30,
   "metadata": {},
   "outputs": [
    {
     "data": {
      "text/html": [
       "<div>\n",
       "<style scoped>\n",
       "    .dataframe tbody tr th:only-of-type {\n",
       "        vertical-align: middle;\n",
       "    }\n",
       "\n",
       "    .dataframe tbody tr th {\n",
       "        vertical-align: top;\n",
       "    }\n",
       "\n",
       "    .dataframe thead th {\n",
       "        text-align: right;\n",
       "    }\n",
       "</style>\n",
       "<table border=\"1\" class=\"dataframe\">\n",
       "  <thead>\n",
       "    <tr style=\"text-align: right;\">\n",
       "      <th></th>\n",
       "      <th>YEAR_BUILT</th>\n",
       "      <th>SQUARE_FEET</th>\n",
       "      <th>NUM_BEDROOMS</th>\n",
       "      <th>NUM_BATHROOMS</th>\n",
       "      <th>LOT_ACRES</th>\n",
       "      <th>GARAGE_SPACES</th>\n",
       "      <th>FRONT_PORCH</th>\n",
       "      <th>DECK</th>\n",
       "      <th>PRICE</th>\n",
       "    </tr>\n",
       "  </thead>\n",
       "  <tbody>\n",
       "    <tr>\n",
       "      <th>0</th>\n",
       "      <td>1996</td>\n",
       "      <td>1843.122187</td>\n",
       "      <td>4</td>\n",
       "      <td>3.0</td>\n",
       "      <td>1.03</td>\n",
       "      <td>0</td>\n",
       "      <td>n</td>\n",
       "      <td>n</td>\n",
       "      <td>261918</td>\n",
       "    </tr>\n",
       "    <tr>\n",
       "      <th>1</th>\n",
       "      <td>1991</td>\n",
       "      <td>2929.421598</td>\n",
       "      <td>4</td>\n",
       "      <td>2.5</td>\n",
       "      <td>0.80</td>\n",
       "      <td>0</td>\n",
       "      <td>n</td>\n",
       "      <td>n</td>\n",
       "      <td>388913</td>\n",
       "    </tr>\n",
       "    <tr>\n",
       "      <th>2</th>\n",
       "      <td>1982</td>\n",
       "      <td>3086.040886</td>\n",
       "      <td>5</td>\n",
       "      <td>2.5</td>\n",
       "      <td>0.94</td>\n",
       "      <td>1</td>\n",
       "      <td>y</td>\n",
       "      <td>n</td>\n",
       "      <td>414506</td>\n",
       "    </tr>\n",
       "    <tr>\n",
       "      <th>3</th>\n",
       "      <td>1984</td>\n",
       "      <td>2087.861573</td>\n",
       "      <td>6</td>\n",
       "      <td>1.5</td>\n",
       "      <td>0.86</td>\n",
       "      <td>0</td>\n",
       "      <td>y</td>\n",
       "      <td>n</td>\n",
       "      <td>253579</td>\n",
       "    </tr>\n",
       "    <tr>\n",
       "      <th>4</th>\n",
       "      <td>2000</td>\n",
       "      <td>2213.243535</td>\n",
       "      <td>5</td>\n",
       "      <td>2.5</td>\n",
       "      <td>1.49</td>\n",
       "      <td>2</td>\n",
       "      <td>n</td>\n",
       "      <td>n</td>\n",
       "      <td>376836</td>\n",
       "    </tr>\n",
       "  </tbody>\n",
       "</table>\n",
       "</div>"
      ],
      "text/plain": [
       "   YEAR_BUILT  SQUARE_FEET  NUM_BEDROOMS  NUM_BATHROOMS  LOT_ACRES  \\\n",
       "0        1996  1843.122187             4            3.0       1.03   \n",
       "1        1991  2929.421598             4            2.5       0.80   \n",
       "2        1982  3086.040886             5            2.5       0.94   \n",
       "3        1984  2087.861573             6            1.5       0.86   \n",
       "4        2000  2213.243535             5            2.5       1.49   \n",
       "\n",
       "   GARAGE_SPACES FRONT_PORCH DECK   PRICE  \n",
       "0              0           n    n  261918  \n",
       "1              0           n    n  388913  \n",
       "2              1           y    n  414506  \n",
       "3              0           y    n  253579  \n",
       "4              2           n    n  376836  "
      ]
     },
     "execution_count": 30,
     "metadata": {},
     "output_type": "execute_result"
    }
   ],
   "source": [
    "#Shows the first few lines of data.\n",
    "houses.head()"
   ]
  },
  {
   "cell_type": "markdown",
   "metadata": {},
   "source": [
    "## Section 2 - Preprocess the raw housing data using Scikit Learn <a id='Preprocess-synthetic-housing-data-using-scikit-learn'></a>\n",
    "\n",
    "In this section, the categorical features of the data (deck and porch) are pre-processed using sklearn to convert them to one hot encoding representation.  \n",
    "\n",
    "#### We launch 4 PARALLEL jobs and hence we seemingly create 4 Transformers, but in reality they are just the SAME estimator being run again"
   ]
  },
  {
   "cell_type": "code",
   "execution_count": 31,
   "metadata": {},
   "outputs": [
    {
     "name": "stdout",
     "output_type": "stream",
     "text": [
      "Overwriting scripts/sklearn_preprocessor_batch.py\n"
     ]
    }
   ],
   "source": [
    "%%writefile scripts/sklearn_preprocessor_batch.py\n",
    "from __future__ import print_function\n",
    "\n",
    "import argparse\n",
    "import csv\n",
    "import json\n",
    "import os\n",
    "import shutil\n",
    "import sys\n",
    "import time\n",
    "from io import StringIO\n",
    "\n",
    "import numpy as np\n",
    "import pandas as pd\n",
    "from sagemaker_containers.beta.framework import (\n",
    "    content_types,\n",
    "    encoders,\n",
    "    env,\n",
    "    modules,\n",
    "    transformer,\n",
    "    worker,\n",
    ")\n",
    "from sklearn.compose import ColumnTransformer\n",
    "from sklearn.externals import joblib\n",
    "from sklearn.impute import SimpleImputer\n",
    "from sklearn.pipeline import Pipeline\n",
    "from sklearn.preprocessing import Binarizer, OneHotEncoder, StandardScaler\n",
    "\n",
    "# Since we get a headerless CSV file we specify the column names here.\n",
    "feature_columns_names = [\n",
    "    \"YEAR_BUILT\",\n",
    "    \"SQUARE_FEET\",\n",
    "    \"NUM_BEDROOMS\",\n",
    "    \"NUM_BATHROOMS\",\n",
    "    \"LOT_ACRES\",\n",
    "    \"GARAGE_SPACES\",\n",
    "    \"FRONT_PORCH\",\n",
    "    \"DECK\",\n",
    "]\n",
    "\n",
    "label_column = \"PRICE\"\n",
    "\n",
    "feature_columns_dtype = {\n",
    "    \"YEAR_BUILT\": str,\n",
    "    \"SQUARE_FEET\": np.float64,\n",
    "    \"NUM_BEDROOMS\": np.float64,\n",
    "    \"NUM_BATHROOMS\": np.float64,\n",
    "    \"LOT_ACRES\": np.float64,\n",
    "    \"GARAGE_SPACES\": np.float64,\n",
    "    \"FRONT_PORCH\": str,\n",
    "    \"DECK\": str,\n",
    "}\n",
    "\n",
    "label_column_dtype = {\"PRICE\": np.float64}\n",
    "\n",
    "\n",
    "if __name__ == \"__main__\":\n",
    "\n",
    "    parser = argparse.ArgumentParser()\n",
    "\n",
    "    # Sagemaker specific arguments. Defaults are set in the environment variables.\n",
    "    parser.add_argument(\"--output-data-dir\", type=str, default=os.environ[\"SM_OUTPUT_DATA_DIR\"])\n",
    "    parser.add_argument(\"--model-dir\", type=str, default=os.environ[\"SM_MODEL_DIR\"])\n",
    "    parser.add_argument(\"--train\", type=str, default=os.environ[\"SM_CHANNEL_TRAIN\"])\n",
    "\n",
    "    args = parser.parse_args()\n",
    "\n",
    "    # Take the set of files and read them all into a single pandas dataframe\n",
    "    input_files = [os.path.join(args.train, file) for file in os.listdir(args.train)]\n",
    "    if len(input_files) == 0:\n",
    "        raise ValueError(\n",
    "            (\n",
    "                \"There are no files in {}.\\n\"\n",
    "                + \"This usually indicates that the train channel was incorrectly specified,\\n\"\n",
    "                + \"the data specification in S3 was incorrectly specified or the role specified\\n\"\n",
    "                + \"does not have permission to access the data.\".format(args.train)\n",
    "            )\n",
    "        )\n",
    "\n",
    "    for file in input_files:\n",
    "        print(\"file :\", file)\n",
    "\n",
    "    raw_data = [pd.read_csv(file, header=None, names=feature_columns_names + [label_column])]\n",
    "\n",
    "    concat_data = pd.concat(raw_data)\n",
    "\n",
    "    print(concat_data)\n",
    "\n",
    "    # This section is adapted from the scikit-learn example of using preprocessing pipelines:\n",
    "    #\n",
    "    # https://scikit-learn.org/stable/auto_examples/compose/plot_column_transformer_mixed_types.html\n",
    "    #\n",
    "\n",
    "    numeric_features = list(feature_columns_names)\n",
    "    numeric_features.remove(\"FRONT_PORCH\")\n",
    "    numeric_features.remove(\"DECK\")\n",
    "    numeric_transformer = Pipeline(steps=[(\"scaler\", StandardScaler())])\n",
    "\n",
    "    categorical_features = [\"FRONT_PORCH\", \"DECK\"]\n",
    "    categorical_transformer = Pipeline(steps=[(\"onehot\", OneHotEncoder(handle_unknown=\"ignore\"))])\n",
    "\n",
    "    preprocessor = ColumnTransformer(\n",
    "        transformers=[\n",
    "            (\"num\", numeric_transformer, numeric_features),\n",
    "            (\"cat\", categorical_transformer, categorical_features),\n",
    "        ],\n",
    "        remainder=\"drop\",\n",
    "    )\n",
    "\n",
    "    preprocessor.fit(concat_data)\n",
    "\n",
    "    joblib.dump(preprocessor, os.path.join(args.model_dir, \"model.joblib\"))\n",
    "\n",
    "    print(\"saved model!\")\n",
    "\n",
    "\n",
    "def input_fn(input_data, content_type):\n",
    "    \"\"\"Parse input data payload\n",
    "\n",
    "    We currently only take csv input. Since we need to process both labelled\n",
    "    and unlabelled data we first determine whether the label column is present\n",
    "    by looking at how many columns were provided.\n",
    "    \"\"\"\n",
    "    if content_type == \"text/csv\":\n",
    "        # Read the raw input data as CSV.\n",
    "        df = pd.read_csv(StringIO(input_data), header=None)\n",
    "\n",
    "        if len(df.columns) == len(feature_columns_names) + 1:\n",
    "            # This is a labelled example, includes the ring label\n",
    "            df.columns = feature_columns_names + [label_column]\n",
    "        elif len(df.columns) == len(feature_columns_names):\n",
    "            # This is an unlabelled example.\n",
    "            df.columns = feature_columns_names\n",
    "\n",
    "        return df\n",
    "    else:\n",
    "        raise ValueError(\"{} not supported by script!\".format(content_type))\n",
    "\n",
    "\n",
    "def output_fn(prediction, accept):\n",
    "    \"\"\"Format prediction output\n",
    "\n",
    "    The default accept/content-type between containers for serial inference is JSON.\n",
    "    We also want to set the ContentType or mimetype as the same value as accept so the next\n",
    "    container can read the response payload correctly.\n",
    "    \"\"\"\n",
    "    if accept == \"application/json\":\n",
    "        instances = []\n",
    "        for row in prediction.tolist():\n",
    "            instances.append({\"features\": row})\n",
    "\n",
    "        json_output = {\"instances\": instances}\n",
    "\n",
    "        return worker.Response(json.dumps(json_output), mimetype=accept)\n",
    "    elif accept == \"text/csv\":\n",
    "        return worker.Response(encoders.encode(prediction, accept), mimetype=accept)\n",
    "    else:\n",
    "        raise RuntimeException(\"{} accept type is not supported by this script.\".format(accept))\n",
    "\n",
    "\n",
    "def predict_fn(input_data, model):\n",
    "    \"\"\"Preprocess input data\n",
    "\n",
    "    We implement this because the default uses .predict(), but our model is a preprocessor\n",
    "    so we want to use .transform().\n",
    "\n",
    "    The output is returned in the following order:\n",
    "\n",
    "        rest of features either one hot encoded or standardized\n",
    "    \"\"\"\n",
    "\n",
    "    print(\"Input data type \", type(input_data))\n",
    "\n",
    "    print(input_data)\n",
    "\n",
    "    features = model.transform(input_data)\n",
    "\n",
    "    print(\"features type \", type(features))\n",
    "\n",
    "    print(features)\n",
    "\n",
    "    features_array = features\n",
    "\n",
    "    print(\"features_array \", type(features_array))\n",
    "\n",
    "    print(features_array)\n",
    "\n",
    "    if label_column in input_data:\n",
    "        # Return the label (as the first column) and the set of features.\n",
    "        return np.insert(features_array, 0, input_data[label_column], axis=1)\n",
    "    else:\n",
    "        # Return only the set of features\n",
    "        return features\n",
    "\n",
    "\n",
    "def model_fn(model_dir):\n",
    "    \"\"\"Deserialize fitted model\"\"\"\n",
    "    preprocessor = joblib.load(os.path.join(model_dir, \"model.joblib\"))\n",
    "    return preprocessor\n",
    "\n"
   ]
  },
  {
   "cell_type": "code",
   "execution_count": 32,
   "metadata": {},
   "outputs": [
    {
     "name": "stdout",
     "output_type": "stream",
     "text": [
      "BUCKET :  sagemaker-us-east-1-622343165275\n",
      "ROLE :  arn:aws:iam::622343165275:role/service-role/AmazonSageMaker-ExecutionRole-20220208T115633\n"
     ]
    }
   ],
   "source": [
    "sm_client = boto3.client(service_name='sagemaker')\n",
    "runtime_sm_client = boto3.client(service_name='sagemaker-runtime')\n",
    "sagemaker_session = sagemaker.Session()\n",
    "\n",
    "s3 = boto3.resource('s3')\n",
    "s3_client = boto3.client('s3')\n",
    "\n",
    "BUCKET  = sagemaker_session.default_bucket()\n",
    "print(\"BUCKET : \", BUCKET)\n",
    "\n",
    "role = get_execution_role()\n",
    "print(\"ROLE : \", role)\n",
    "\n",
    "ACCOUNT_ID = boto3.client('sts').get_caller_identity()['Account']\n",
    "REGION = boto3.Session().region_name\n",
    "\n",
    "DATA_PREFIX = 'DEMO_MME_LINEAR_LEARNER'\n",
    "HOUSING_MODEL_NAME = 'housing'\n",
    "MULTI_MODEL_ARTIFACTS = 'multi_model_artifacts'"
   ]
  },
  {
   "cell_type": "code",
   "execution_count": 33,
   "metadata": {},
   "outputs": [],
   "source": [
    "#Create the SKLearn estimator with the sklearn_preprocessor.py as the script\n",
    "from sagemaker.sklearn.estimator import SKLearn\n",
    "\n",
    "script_path = 'scripts/sklearn_preprocessor_batch.py'\n",
    "\n",
    "sklearn_estimator = SKLearn(\n",
    "    entry_point=script_path,\n",
    "    role=role,\n",
    "    instance_type=\"ml.c4.xlarge\",\n",
    "    framework_version=\"0.20.0\",\n",
    "    sagemaker_session=sagemaker_session)"
   ]
  },
  {
   "cell_type": "code",
   "execution_count": 34,
   "metadata": {},
   "outputs": [
    {
     "name": "stdout",
     "output_type": "stream",
     "text": [
      "Raw training data uploaded to :  s3://sagemaker-us-east-1-622343165275/housing-data/NewYork_NY/train/train.csv\n"
     ]
    }
   ],
   "source": [
    "#Upload the raw training data to S3 bucket, to be accessed by SKLearn\n",
    "train_inputs = []\n",
    "\n",
    "for loc in LOCATIONS[:PARALLEL_TRAINING_JOBS]:\n",
    "\n",
    "    train_input = sagemaker_session.upload_data(\n",
    "        path='data/{}/train/train.csv'.format(loc),\n",
    "        bucket=BUCKET,\n",
    "        key_prefix='housing-data/{}/train'.format(loc)\n",
    "    )\n",
    "    \n",
    "    train_inputs.append(train_input)\n",
    "    print(\"Raw training data uploaded to : \", train_input)"
   ]
  },
  {
   "cell_type": "code",
   "execution_count": 35,
   "metadata": {},
   "outputs": [
    {
     "name": "stdout",
     "output_type": "stream",
     "text": [
      "sklearn_estimator fit input data at  0  for loc  NewYork_NY\n"
     ]
    }
   ],
   "source": [
    "##Launch multiple scikit learn training to process the raw synthetic data generated for multiple locations.\n",
    "##Before executing this, take the training instance limits in your account and cost into consideration.\n",
    "\n",
    "sklearn_estimators = []\n",
    "sklearn_estimator_jobs = []\n",
    "\n",
    "for index, loc in enumerate(LOCATIONS[:PARALLEL_TRAINING_JOBS]):\n",
    "    print(\"sklearn_estimator fit input data at \", index , \" for loc \", loc)\n",
    "     \n",
    "    job_name='scikit-learnestimator-{}'.format(strftime('%Y-%m-%d-%H-%M-%S', gmtime()))\n",
    "    \n",
    "    sklearn_estimator.fit({'train': train_inputs[index]}, job_name=job_name, wait=False)\n",
    "\n",
    "    sklearn_estimators.append(sklearn_estimator)\n",
    "    sklearn_estimator_jobs.append(job_name)\n",
    "    \n",
    "    time.sleep(1)"
   ]
  },
  {
   "cell_type": "code",
   "execution_count": 36,
   "metadata": {},
   "outputs": [
    {
     "name": "stdout",
     "output_type": "stream",
     "text": [
      "Waiting for job scikit-learnestimator-2022-08-04-00-09-56 to complete...\n"
     ]
    }
   ],
   "source": [
    "#Wait for the preprocessor jobs to finish\n",
    "for job_name in sklearn_estimator_jobs:\n",
    "    print('Waiting for job {} to complete...'.format(job_name))\n",
    "    \n",
    "    waiter = sm_client.get_waiter('training_job_completed_or_stopped')\n",
    "    waiter.wait(TrainingJobName=job_name)"
   ]
  },
  {
   "cell_type": "code",
   "execution_count": 37,
   "metadata": {},
   "outputs": [
    {
     "name": "stdout",
     "output_type": "stream",
     "text": [
      "Transform the raw data at  0  for loc  NewYork_NY\n"
     ]
    }
   ],
   "source": [
    "##Once the preprocessor is fit, use tranformer to preprocess the raw training data and store the transformed data right back into s3.\n",
    "##Before executing this, take the training instance limits in your account and cost into consideration.\n",
    "\n",
    "sklearn_estimator_transformers = []\n",
    "\n",
    "for index, loc in enumerate(LOCATIONS[:PARALLEL_TRAINING_JOBS]):\n",
    "    print(\"Transform the raw data at \", index , \" for loc \", loc)\n",
    "       \n",
    "    sklearn_estimator = sklearn_estimators[index]\n",
    "    \n",
    "    transformer = sklearn_estimator.transformer(\n",
    "        instance_count=1,\n",
    "        instance_type='ml.m4.xlarge',\n",
    "        assemble_with='Line',\n",
    "        accept='text/csv'\n",
    "    )\n",
    "    \n",
    "    sklearn_estimator_transformers.append(transformer)"
   ]
  },
  {
   "cell_type": "code",
   "execution_count": 38,
   "metadata": {
    "tags": []
   },
   "outputs": [
    {
     "name": "stdout",
     "output_type": "stream",
     "text": [
      "STARTING: batch transform job: sagemaker-scikit-learn-2022-08-04-00-14-06-343\n"
     ]
    }
   ],
   "source": [
    "# Preprocess training input\n",
    "preprocessed_train_data_path = []\n",
    "\n",
    "for index, transformer in enumerate(sklearn_estimator_transformers):\n",
    "    transformer.transform(train_inputs[index], content_type='text/csv', wait=False)\n",
    "    print('STARTING: batch transform job: {}'.format(transformer.latest_transform_job.job_name))\n",
    "    preprocessed_train_data_path.append(transformer.output_path)"
   ]
  },
  {
   "cell_type": "code",
   "execution_count": 39,
   "metadata": {},
   "outputs": [
    {
     "name": "stdout",
     "output_type": "stream",
     "text": [
      "Waiting for TRANSFORM job sagemaker-scikit-learn-2022-08-04-00-14-06-343 to complete...\n"
     ]
    }
   ],
   "source": [
    "#Wait for all the batch transform jobs to finish\n",
    "for transformer in sklearn_estimator_transformers: \n",
    "    job_name=transformer.latest_transform_job.job_name\n",
    "    print('Waiting for TRANSFORM job {} to complete...'.format(job_name))\n",
    "    \n",
    "    waiter = sm_client.get_waiter('transform_job_completed_or_stopped')\n",
    "    waiter.wait(TransformJobName=job_name)"
   ]
  },
  {
   "cell_type": "code",
   "execution_count": 40,
   "metadata": {},
   "outputs": [
    {
     "name": "stdout",
     "output_type": "stream",
     "text": [
      "transformer_output_key: sagemaker-scikit-learn-2022-08-04-00-14-06-343/train.csv.out\n",
      "Download directory: preprocessed-data/NewYork_NY/\n",
      "Transform:transformer_output_key=sagemaker-scikit-learn-2022-08-04-00-14-06-343/train.csv.out::Train:uploaded:s3://sagemaker-us-east-1-622343165275/sagemaker-scikit-learn-2022-08-04-00-14-06-343/train.csv::Validation:s3://sagemaker-us-east-1-622343165275/sagemaker-scikit-learn-2022-08-04-00-14-06-343/val.csv\n"
     ]
    }
   ],
   "source": [
    "##Download the preprocessed data, split into train and val, upload back to S3 in the same directory as tranformer output path\n",
    "for index, transformer in enumerate(sklearn_estimator_transformers): \n",
    "    transformer_output_key='{}/{}'.format(transformer.latest_transform_job.job_name, 'train.csv.out') \n",
    "    \n",
    "    preprocessed_data_download_dir = '{}/'.format(\"preprocessed-data/\"+LOCATIONS[index])\n",
    "    \n",
    "    sagemaker_session.download_data(\n",
    "        path=preprocessed_data_download_dir, \n",
    "        bucket=BUCKET,\n",
    "        key_prefix=transformer_output_key\n",
    "    )\n",
    "    \n",
    "    print('transformer_output_key: {}'.format(transformer_output_key ))\n",
    "    print('Download directory: {}'.format(preprocessed_data_download_dir ))\n",
    "    \n",
    "    train_df = pd.read_csv('{}/{}'.format(preprocessed_data_download_dir,\"train.csv.out\"))\n",
    "    \n",
    "    #Spliting data into train and test in 70:30 ratio\n",
    "    train, val = train_test_split(train_df, test_size=0.3)\n",
    "    \n",
    "    train.to_csv('{}{}'.format(preprocessed_data_download_dir,\"train.csv\"), sep=',', header=False, index=False)\n",
    "    val.to_csv('{}{}'.format(preprocessed_data_download_dir,\"val.csv\"), sep=',', header=False, index=False)\n",
    "    \n",
    "    \n",
    "    train_input = sagemaker_session.upload_data(\n",
    "        path='{}/{}'.format(preprocessed_data_download_dir, 'train.csv'), \n",
    "        bucket=BUCKET,\n",
    "        key_prefix='{}'.format(transformer.latest_transform_job.job_name, 'train.csv'))\n",
    "    \n",
    "    val_input = sagemaker_session.upload_data(\n",
    "        path='{}/{}'.format(preprocessed_data_download_dir, 'val.csv'), \n",
    "        bucket=BUCKET,\n",
    "        key_prefix='{}'.format(transformer.latest_transform_job.job_name, 'val.csv'))\n",
    "    \n",
    "    print(f\"Transform:transformer_output_key={transformer_output_key}::Train:uploaded:{train_input}::Validation:{val_input}\")   \n",
    "    \n",
    "    "
   ]
  },
  {
   "cell_type": "code",
   "execution_count": 41,
   "metadata": {
    "scrolled": true
   },
   "outputs": [
    {
     "name": "stdout",
     "output_type": "stream",
     "text": [
      "s3://sagemaker-us-east-1-622343165275/sagemaker-scikit-learn-2022-08-04-00-14-06-343\n"
     ]
    }
   ],
   "source": [
    "##S3 location of the preprocessed data\n",
    "for preprocessed_train_data in preprocessed_train_data_path: \n",
    "    print(preprocessed_train_data)"
   ]
  },
  {
   "cell_type": "code",
   "execution_count": 42,
   "metadata": {},
   "outputs": [],
   "source": [
    "for index, loc in enumerate(LOCATIONS[:PARALLEL_TRAINING_JOBS]):\n",
    "    preprocessed_data_download_dir = '{}/'.format(\"preprocessed-data/\"+LOCATIONS[index])\n",
    "    path='{}/{}'.format(preprocessed_data_download_dir, 'train.csv')"
   ]
  },
  {
   "cell_type": "markdown",
   "metadata": {},
   "source": [
    "## Clean up<a id='CleanUp'></a>\n",
    "Clean up the endpoint to avoid unneccessary costs.\n",
    "\n"
   ]
  },
  {
   "cell_type": "code",
   "execution_count": null,
   "metadata": {},
   "outputs": [],
   "source": [
    "#Delete the endpoint and underlying model\n",
    "predictor.delete_model() \n",
    "predictor.delete_endpoint()\n",
    "for t in preprocessor_transformers:\n",
    "    t.delete_model()"
   ]
  },
  {
   "cell_type": "code",
   "execution_count": null,
   "metadata": {},
   "outputs": [],
   "source": []
  }
 ],
 "metadata": {
  "instance_type": "ml.t3.medium",
  "kernelspec": {
   "display_name": "Python 3 (Data Science 2.0)",
   "language": "python",
   "name": "python3__SAGEMAKER_INTERNAL__arn:aws:sagemaker:us-east-1:081325390199:image/sagemaker-data-science-38"
  },
  "language_info": {
   "codemirror_mode": {
    "name": "ipython",
    "version": 3
   },
   "file_extension": ".py",
   "mimetype": "text/x-python",
   "name": "python",
   "nbconvert_exporter": "python",
   "pygments_lexer": "ipython3",
   "version": "3.8.13"
  }
 },
 "nbformat": 4,
 "nbformat_minor": 4
}
