{
 "cells": [
  {
   "cell_type": "markdown",
   "metadata": {},
   "source": [
    "# Amazon SageMaker BATCH Transform examples\n",
    "With [Amazon SageMaker Batch Transform](https://docs.aws.amazon.com/sagemaker/latest/dg/batch-transform.html), Use batch transform when you need to do the following:\n",
    "\n",
    "    Preprocess datasets to remove noise or bias that interferes with training or inference from your dataset.\n",
    "\n",
    "    Get inferences from large datasets.\n",
    "\n",
    "    Run inference when you don't need a persistent endpoint.\n",
    "\n",
    "    Associate input records with inferences to assist the interpretation of results.\n",
    "\n",
    "**Caution:** This is a reference material and not to be used in production as-is. Please run your tests with your data thoroughly as we are not liable for any loss of data\n",
    "\n",
    "To filter input data before performing inferences or to associate input records with inferences about those records, see Associate Prediction Results with Input Records. For example, you can filter input data to provide context for creating and interpreting reports about the output data.For applications which require consistently low inference latency, a traditional endpoint is still the best choice.\n",
    "\n",
    "To split input files into mini-batches when you create a batch transform job, set the SplitType parameter value to Line. If SplitType is set to None or if an input file can't be split into mini-batches, SageMaker uses the entire input file in a single request. Note that Batch Transform doesn't support CSV-formatted input that contains embedded newline characters. You can control the size of the mini-batches by using the BatchStrategy and MaxPayloadInMB parameters. MaxPayloadInMB must not be greater than 100 MB. If you specify the optional MaxConcurrentTransforms parameter, then the value of (MaxConcurrentTransforms * MaxPayloadInMB) must also not exceed 100 MB.\n",
    "\n",
    "If the batch transform job successfully processes all of the records in an input file, it creates an output file with the same name and the .out file extension. For multiple input files, such as input1.csv and input2.csv, the output files are named input1.csv.out and input2.csv.out. The batch transform job stores the output files in the specified location in Amazon S3, such as s3://awsexamplebucket/output/.\n",
    "\n",
    "\n",
    "\n",
    "![](./cw_charts/BatchTransform.png)\n"
   ]
  },
  {
   "cell_type": "markdown",
   "metadata": {},
   "source": [
    "### Contents\n",
    "\n",
    "1. [Generate synthetic data for housing models](#Generate-synthetic-data-for-housing-models)\n",
    "1. [TRANSFORM the raw housing data using Scikit Learn model](#Preprocess-synthetic-housing-data-using-scikit-learn)\n",
    "1. [Clean up](#CleanUp)"
   ]
  },
  {
   "cell_type": "markdown",
   "metadata": {},
   "source": [
    "\n",
    "## Section 1 - Generate synthetic data for housing models <a id='Generate-synthetic-data-for-housing-models'></a>\n",
    "\n",
    "In this section, you will generate synthetic data that will be used to train the linear learner models.  The data generated consists of 6 numerical features - the year the house was built in, house size in square feet, number of bedrooms, number of bathroom, the lot size and number of garages and two categorial features - deck and front_porch.  "
   ]
  },
  {
   "cell_type": "code",
   "execution_count": 3,
   "metadata": {},
   "outputs": [],
   "source": [
    "import numpy as np\n",
    "import pandas as pd\n",
    "import json\n",
    "import datetime\n",
    "import time\n",
    "import boto3\n",
    "import sagemaker\n",
    "import os\n",
    "\n",
    "from time import gmtime, strftime\n",
    "from random import choice\n",
    "\n",
    "from sagemaker import get_execution_role\n",
    "\n",
    "from sagemaker.multidatamodel import MULTI_MODEL_CONTAINER_MODE\n",
    "from sagemaker.multidatamodel import MultiDataModel\n",
    "\n",
    "from sklearn.model_selection import train_test_split\n",
    "import pandas as pd"
   ]
  },
  {
   "cell_type": "code",
   "execution_count": 4,
   "metadata": {},
   "outputs": [
    {
     "name": "stdout",
     "output_type": "stream",
     "text": [
      "BUCKET :  sagemaker-us-east-1-622343165275\n",
      "ROLE :  arn:aws:iam::622343165275:role/service-role/AmazonSageMaker-ExecutionRole-20220208T115633\n"
     ]
    }
   ],
   "source": [
    "sm_client = boto3.client(service_name='sagemaker')\n",
    "runtime_sm_client = boto3.client(service_name='sagemaker-runtime')\n",
    "sagemaker_session = sagemaker.Session()\n",
    "\n",
    "s3 = boto3.resource('s3')\n",
    "s3_client = boto3.client('s3')\n",
    "\n",
    "BUCKET  = sagemaker_session.default_bucket()\n",
    "print(\"BUCKET : \", BUCKET)\n",
    "\n",
    "role = get_execution_role()\n",
    "print(\"ROLE : \", role)\n",
    "\n",
    "ACCOUNT_ID = boto3.client('sts').get_caller_identity()['Account']\n",
    "REGION = boto3.Session().region_name\n",
    "\n",
    "DATA_PREFIX = 'DEMO_MME_LINEAR_LEARNER'\n",
    "HOUSING_MODEL_NAME = 'housing'\n",
    "MULTI_MODEL_ARTIFACTS = 'multi_model_artifacts'"
   ]
  },
  {
   "cell_type": "code",
   "execution_count": 68,
   "metadata": {},
   "outputs": [],
   "source": [
    "loc='NewYork_NY'"
   ]
  },
  {
   "cell_type": "code",
   "execution_count": 69,
   "metadata": {},
   "outputs": [],
   "source": [
    "columns_data=['YEAR_BUILT', 'SQUARE_FEET', 'NUM_BEDROOMS', 'NUM_BATHROOMS','LOT_ACRES', 'GARAGE_SPACES', 'FRONT_PORCH', 'DECK', 'PRICE']  \n"
   ]
  },
  {
   "cell_type": "code",
   "execution_count": 70,
   "metadata": {},
   "outputs": [
    {
     "data": {
      "text/html": [
       "<div>\n",
       "<style scoped>\n",
       "    .dataframe tbody tr th:only-of-type {\n",
       "        vertical-align: middle;\n",
       "    }\n",
       "\n",
       "    .dataframe tbody tr th {\n",
       "        vertical-align: top;\n",
       "    }\n",
       "\n",
       "    .dataframe thead th {\n",
       "        text-align: right;\n",
       "    }\n",
       "</style>\n",
       "<table border=\"1\" class=\"dataframe\">\n",
       "  <thead>\n",
       "    <tr style=\"text-align: right;\">\n",
       "      <th></th>\n",
       "      <th>YEAR_BUILT</th>\n",
       "      <th>SQUARE_FEET</th>\n",
       "      <th>NUM_BEDROOMS</th>\n",
       "      <th>NUM_BATHROOMS</th>\n",
       "      <th>LOT_ACRES</th>\n",
       "      <th>GARAGE_SPACES</th>\n",
       "      <th>FRONT_PORCH</th>\n",
       "      <th>DECK</th>\n",
       "      <th>PRICE</th>\n",
       "    </tr>\n",
       "  </thead>\n",
       "  <tbody>\n",
       "    <tr>\n",
       "      <th>0</th>\n",
       "      <td>1979</td>\n",
       "      <td>3746.347409</td>\n",
       "      <td>3</td>\n",
       "      <td>2.5</td>\n",
       "      <td>1.27</td>\n",
       "      <td>1</td>\n",
       "      <td>n</td>\n",
       "      <td>n</td>\n",
       "      <td>463502</td>\n",
       "    </tr>\n",
       "    <tr>\n",
       "      <th>1</th>\n",
       "      <td>1990</td>\n",
       "      <td>3781.009326</td>\n",
       "      <td>4</td>\n",
       "      <td>2.5</td>\n",
       "      <td>1.20</td>\n",
       "      <td>3</td>\n",
       "      <td>n</td>\n",
       "      <td>y</td>\n",
       "      <td>562651</td>\n",
       "    </tr>\n",
       "    <tr>\n",
       "      <th>2</th>\n",
       "      <td>1990</td>\n",
       "      <td>3443.984535</td>\n",
       "      <td>3</td>\n",
       "      <td>2.5</td>\n",
       "      <td>0.91</td>\n",
       "      <td>3</td>\n",
       "      <td>n</td>\n",
       "      <td>n</td>\n",
       "      <td>497747</td>\n",
       "    </tr>\n",
       "    <tr>\n",
       "      <th>3</th>\n",
       "      <td>1999</td>\n",
       "      <td>3777.606002</td>\n",
       "      <td>6</td>\n",
       "      <td>1.0</td>\n",
       "      <td>1.05</td>\n",
       "      <td>2</td>\n",
       "      <td>y</td>\n",
       "      <td>y</td>\n",
       "      <td>607390</td>\n",
       "    </tr>\n",
       "    <tr>\n",
       "      <th>4</th>\n",
       "      <td>2018</td>\n",
       "      <td>2191.114620</td>\n",
       "      <td>3</td>\n",
       "      <td>3.0</td>\n",
       "      <td>0.91</td>\n",
       "      <td>3</td>\n",
       "      <td>y</td>\n",
       "      <td>n</td>\n",
       "      <td>477317</td>\n",
       "    </tr>\n",
       "  </tbody>\n",
       "</table>\n",
       "</div>"
      ],
      "text/plain": [
       "   YEAR_BUILT  SQUARE_FEET  NUM_BEDROOMS  NUM_BATHROOMS  LOT_ACRES  \\\n",
       "0        1979  3746.347409             3            2.5       1.27   \n",
       "1        1990  3781.009326             4            2.5       1.20   \n",
       "2        1990  3443.984535             3            2.5       0.91   \n",
       "3        1999  3777.606002             6            1.0       1.05   \n",
       "4        2018  2191.114620             3            3.0       0.91   \n",
       "\n",
       "   GARAGE_SPACES FRONT_PORCH DECK   PRICE  \n",
       "0              1           n    n  463502  \n",
       "1              3           n    y  562651  \n",
       "2              3           n    n  497747  \n",
       "3              2           y    y  607390  \n",
       "4              3           y    n  477317  "
      ]
     },
     "execution_count": 70,
     "metadata": {},
     "output_type": "execute_result"
    }
   ],
   "source": [
    "# train:saved:to data/NewYork_NY/train/train.csv \n",
    "# Test:saved:to data/NewYork_NY/test/test.csv \n",
    "        \n",
    "train_pd = pd.read_csv(f'./data/{loc}/train/train.csv')   \n",
    "train_pd.columns=columns_data\n",
    "train_pd.head(5)"
   ]
  },
  {
   "cell_type": "code",
   "execution_count": 71,
   "metadata": {},
   "outputs": [
    {
     "name": "stdout",
     "output_type": "stream",
     "text": [
      "s3://sagemaker-us-east-1-622343165275/inferencewk/models/batch/NewYork_NY/model.tar.gz\n"
     ]
    }
   ],
   "source": [
    "# Uplaod to s3\n",
    "s3_model_loc = sagemaker.s3.S3Uploader().upload(\n",
    "    local_path=f'models/batch/{loc}/model.tar.gz',\n",
    "    desired_s3_uri=f's3://{BUCKET}/inferencewk/models/batch/{loc}',\n",
    "    sagemaker_session=sagemaker_session\n",
    ")\n",
    "print(s3_model_loc)\n"
   ]
  },
  {
   "cell_type": "code",
   "execution_count": 72,
   "metadata": {},
   "outputs": [
    {
     "name": "stdout",
     "output_type": "stream",
     "text": [
      "train:loc:uploaded:s3://sagemaker-us-east-1-622343165275/inferencewk/data/raw/NewYork_NY/train/train.csv:WITHOUT HEADERS:\n",
      "test:loc:uploaded:s3://sagemaker-us-east-1-622343165275/inferencewk/data/raw/NewYork_NY/test/test.csv:WITHPUT HEADERS\n",
      "['s3://sagemaker-us-east-1-622343165275/inferencewk/data/raw/NewYork_NY/train/train.csv']\n"
     ]
    }
   ],
   "source": [
    "# Upload the Raw data set to inferencewk/data/raw/loc\n",
    "train_inputs=[\"\"*1]\n",
    "test_inputs=[\"\"*1]\n",
    "\n",
    "s3_train_loc = sagemaker.s3.S3Uploader().upload(\n",
    "        local_path=f'data/{loc}/train/train.csv',\n",
    "        desired_s3_uri=f's3://{BUCKET}/inferencewk/data/raw/{loc}/train',\n",
    "        sagemaker_session=sagemaker_session\n",
    ")\n",
    "print(f\"train:loc:uploaded:{s3_train_loc}:WITHOUT HEADERS:\")\n",
    "train_inputs[0] = s3_train_loc\n",
    "\n",
    "s3_test_loc = sagemaker.s3.S3Uploader().upload(\n",
    "        local_path=f'data/{loc}/test/test.csv',\n",
    "        desired_s3_uri=f's3://{BUCKET}/inferencewk/data/raw/{loc}/test',\n",
    "        sagemaker_session=sagemaker_session\n",
    ")\n",
    "print(f\"test:loc:uploaded:{s3_test_loc}:WITHPUT HEADERS\")\n",
    "test_inputs[0] = s3_test_loc\n",
    " \n",
    "print(train_inputs)"
   ]
  },
  {
   "cell_type": "code",
   "execution_count": 73,
   "metadata": {},
   "outputs": [
    {
     "data": {
      "text/plain": [
       "'s3://sagemaker-us-east-1-622343165275/inferencewk/data/raw/NewYork_NY/train/train.csv'"
      ]
     },
     "execution_count": 73,
     "metadata": {},
     "output_type": "execute_result"
    }
   ],
   "source": [
    "train_inputs[0]"
   ]
  },
  {
   "cell_type": "markdown",
   "metadata": {},
   "source": [
    "# Start BATCH Transform"
   ]
  },
  {
   "cell_type": "markdown",
   "metadata": {},
   "source": [
    "#### Create Transformer directly from Estimator\n",
    "\n",
    "You can create the Transformer directly from the trained Estimator but we will not demo that for this lab\n"
   ]
  },
  {
   "cell_type": "markdown",
   "metadata": {},
   "source": [
    "## Section 1 Bring your own Model\n",
    "Here we will work on the tar file created from the training job and create all \n",
    "needed jobs definetions from scratch and run the transform job. We will run 4 different kinds\n",
    "\n",
    "    Run with the Input filter not There so only generate predictions\n",
    "    Run with Input filter values so we can generate predictions and also combine to the outputs\n",
    "    Run with Mini batch and instance count > 1"
   ]
  },
  {
   "cell_type": "markdown",
   "metadata": {},
   "source": [
    "#### Section 2b ) Bring your own Model as tar ball in S3\n",
    "Here we will use the Tar ball as is and then create all the required artifacts from scratch\n",
    "    First we upload the Model tar ball to S3 to be used in our Transformer"
   ]
  },
  {
   "cell_type": "code",
   "execution_count": 74,
   "metadata": {
    "tags": []
   },
   "outputs": [
    {
     "name": "stdout",
     "output_type": "stream",
     "text": [
      "Using location of the TAR ball from s3://sagemaker-us-east-1-622343165275/inferencewk/models/batch/NewYork_NY/model.tar.gz\n"
     ]
    }
   ],
   "source": [
    "print(f\"Using location of the TAR ball from {batch_model_inputs[0]}\")"
   ]
  },
  {
   "cell_type": "markdown",
   "metadata": {},
   "source": [
    "**Upload the RAW data set to S3**"
   ]
  },
  {
   "cell_type": "markdown",
   "metadata": {},
   "source": [
    "#### Upload the Model as tar ball into S3 location for use"
   ]
  },
  {
   "cell_type": "markdown",
   "metadata": {},
   "source": [
    "#### Create the BATCH Jobs:\n",
    "\n",
    "The steps to create the Job is straight forward\n",
    "* Create a Model object from the S3 location with the Image\n",
    "* Create a Transformer \n",
    "* Run the Transform with the S3 INPUT location\n"
   ]
  },
  {
   "cell_type": "code",
   "execution_count": 75,
   "metadata": {},
   "outputs": [],
   "source": [
    "# Retrieve the Container image\n",
    "container = sagemaker.image_uris.retrieve(region=boto3.Session().region_name, framework=\"sklearn\", version=\"0.20.0\") # 0.23-1\""
   ]
  },
  {
   "cell_type": "code",
   "execution_count": 76,
   "metadata": {},
   "outputs": [
    {
     "name": "stdout",
     "output_type": "stream",
     "text": [
      "using the model from s3=s3://sagemaker-us-east-1-622343165275/inferencewk/models/batch/NewYork_NY/model.tar.gz:\n"
     ]
    }
   ],
   "source": [
    "print(f\"using the model from s3={batch_model_inputs[0]}:\")"
   ]
  },
  {
   "cell_type": "code",
   "execution_count": 77,
   "metadata": {},
   "outputs": [
    {
     "name": "stdout",
     "output_type": "stream",
     "text": [
      "None\n",
      "scripts/sklearn_preprocessor_batch.py\n"
     ]
    }
   ],
   "source": [
    "from sagemaker.sklearn.model import SKLearnModel\n",
    "sklearn_model_name = \"DEMO-BATCH-SKLEARN-BYO-\" + time.strftime(\"%Y-%m-%d-%H-%M-%S\", time.gmtime())\n",
    "\n",
    "sklearn_model = SKLearnModel(\n",
    "    name=sklearn_model_name,\n",
    "    model_data=batch_model_inputs[0], #model_data_new_loc, \n",
    "    role=role,\n",
    "    sagemaker_session=sagemaker_session,\n",
    "    entry_point=\"scripts/sklearn_preprocessor_batch.py\",\n",
    "    framework_version=\"0.20.0\", #\"0.23-1\", #\"0.20.0\",\n",
    "    image_uri=container,\n",
    "    #source_dir=\"scripts\",\n",
    ")\n",
    "print(sklearn_model.source_dir)\n",
    "print(sklearn_model.entry_point)"
   ]
  },
  {
   "cell_type": "markdown",
   "metadata": {},
   "source": [
    "#### Option 1 -- create transformer from Model without Registering"
   ]
  },
  {
   "cell_type": "code",
   "execution_count": 78,
   "metadata": {},
   "outputs": [],
   "source": [
    "batch_transformer = sklearn_model.transformer(\n",
    "        instance_count=1,\n",
    "        instance_type='ml.m4.xlarge',\n",
    "        assemble_with='Line',\n",
    "        accept='text/csv'\n",
    ")\n",
    " "
   ]
  },
  {
   "cell_type": "code",
   "execution_count": 79,
   "metadata": {
    "tags": []
   },
   "outputs": [
    {
     "name": "stdout",
     "output_type": "stream",
     "text": [
      "................................\n",
      "\u001b[34mProcessing /opt/ml/code\n",
      "  DEPRECATION: A future pip version will change local packages to be built in-place without first copying to a temporary directory. We recommend you use --use-feature=in-tree-build to test your packages with this new behavior before it becomes the default.\n",
      "   pip 21.3 will remove support for this functionality. You can find discussion regarding this at https://github.com/pypa/pip/issues/7555.\u001b[0m\n",
      "\u001b[35mProcessing /opt/ml/code\n",
      "  DEPRECATION: A future pip version will change local packages to be built in-place without first copying to a temporary directory. We recommend you use --use-feature=in-tree-build to test your packages with this new behavior before it becomes the default.\n",
      "   pip 21.3 will remove support for this functionality. You can find discussion regarding this at https://github.com/pypa/pip/issues/7555.\u001b[0m\n",
      "\u001b[34mBuilding wheels for collected packages: sklearn-preprocessor-batch\n",
      "  Building wheel for sklearn-preprocessor-batch (setup.py): started\n",
      "  Building wheel for sklearn-preprocessor-batch (setup.py): finished with status 'done'\n",
      "  Created wheel for sklearn-preprocessor-batch: filename=sklearn_preprocessor_batch-1.0.0-py2.py3-none-any.whl size=7596 sha256=31a267276d32335744f55480daa88f7411ede61b9d1f50ba1e3814b3987addcd\n",
      "  Stored in directory: /tmp/pip-ephem-wheel-cache-9d3vbksn/wheels/3e/0f/51/2f1df833dd0412c1bc2f5ee56baac195b5be563353d111dca6\u001b[0m\n",
      "\u001b[34mSuccessfully built sklearn-preprocessor-batch\u001b[0m\n",
      "\u001b[34mInstalling collected packages: sklearn-preprocessor-batch\u001b[0m\n",
      "\u001b[34mSuccessfully installed sklearn-preprocessor-batch-1.0.0\u001b[0m\n",
      "\u001b[34mWARNING: Running pip as the 'root' user can result in broken permissions and conflicting behaviour with the system package manager. It is recommended to use a virtual environment instead: https://pip.pypa.io/warnings/venv\u001b[0m\n",
      "\u001b[34m/miniconda3/lib/python3.7/site-packages/sklearn/externals/joblib/externals/cloudpickle/cloudpickle.py:47: DeprecationWarning: the imp module is deprecated in favour of importlib; see the module's documentation for alternative uses\n",
      "  import imp\u001b[0m\n",
      "\u001b[34m[2022-10-01 18:29:58 +0000] [37] [INFO] Starting gunicorn 20.1.0\u001b[0m\n",
      "\u001b[34m[2022-10-01 18:29:58 +0000] [37] [INFO] Listening at: unix:/tmp/gunicorn.sock (37)\u001b[0m\n",
      "\u001b[34m[2022-10-01 18:29:58 +0000] [37] [INFO] Using worker: gevent\u001b[0m\n",
      "\u001b[34m[2022-10-01 18:29:58 +0000] [40] [INFO] Booting worker with pid: 40\u001b[0m\n",
      "\u001b[34m[2022-10-01 18:29:58 +0000] [41] [INFO] Booting worker with pid: 41\u001b[0m\n",
      "\u001b[34m[2022-10-01 18:29:58 +0000] [42] [INFO] Booting worker with pid: 42\u001b[0m\n",
      "\u001b[34m[2022-10-01 18:29:58 +0000] [43] [INFO] Booting worker with pid: 43\u001b[0m\n",
      "\u001b[35mBuilding wheels for collected packages: sklearn-preprocessor-batch\n",
      "  Building wheel for sklearn-preprocessor-batch (setup.py): started\n",
      "  Building wheel for sklearn-preprocessor-batch (setup.py): finished with status 'done'\n",
      "  Created wheel for sklearn-preprocessor-batch: filename=sklearn_preprocessor_batch-1.0.0-py2.py3-none-any.whl size=7596 sha256=31a267276d32335744f55480daa88f7411ede61b9d1f50ba1e3814b3987addcd\n",
      "  Stored in directory: /tmp/pip-ephem-wheel-cache-9d3vbksn/wheels/3e/0f/51/2f1df833dd0412c1bc2f5ee56baac195b5be563353d111dca6\u001b[0m\n",
      "\u001b[35mSuccessfully built sklearn-preprocessor-batch\u001b[0m\n",
      "\u001b[35mInstalling collected packages: sklearn-preprocessor-batch\u001b[0m\n",
      "\u001b[35mSuccessfully installed sklearn-preprocessor-batch-1.0.0\u001b[0m\n",
      "\u001b[35mWARNING: Running pip as the 'root' user can result in broken permissions and conflicting behaviour with the system package manager. It is recommended to use a virtual environment instead: https://pip.pypa.io/warnings/venv\u001b[0m\n",
      "\u001b[35m/miniconda3/lib/python3.7/site-packages/sklearn/externals/joblib/externals/cloudpickle/cloudpickle.py:47: DeprecationWarning: the imp module is deprecated in favour of importlib; see the module's documentation for alternative uses\n",
      "  import imp\u001b[0m\n",
      "\u001b[35m[2022-10-01 18:29:58 +0000] [37] [INFO] Starting gunicorn 20.1.0\u001b[0m\n",
      "\u001b[35m[2022-10-01 18:29:58 +0000] [37] [INFO] Listening at: unix:/tmp/gunicorn.sock (37)\u001b[0m\n",
      "\u001b[35m[2022-10-01 18:29:58 +0000] [37] [INFO] Using worker: gevent\u001b[0m\n",
      "\u001b[35m[2022-10-01 18:29:58 +0000] [40] [INFO] Booting worker with pid: 40\u001b[0m\n",
      "\u001b[35m[2022-10-01 18:29:58 +0000] [41] [INFO] Booting worker with pid: 41\u001b[0m\n",
      "\u001b[35m[2022-10-01 18:29:58 +0000] [42] [INFO] Booting worker with pid: 42\u001b[0m\n",
      "\u001b[35m[2022-10-01 18:29:58 +0000] [43] [INFO] Booting worker with pid: 43\u001b[0m\n",
      "\u001b[34m2022-10-01 18:30:02,284 INFO - sagemaker-containers - No GPUs detected (normal if no gpus installed)\u001b[0m\n",
      "\u001b[34m/miniconda3/lib/python3.7/site-packages/sklearn/externals/joblib/externals/cloudpickle/cloudpickle.py:47: DeprecationWarning: the imp module is deprecated in favour of importlib; see the module's documentation for alternative uses\n",
      "  import imp\u001b[0m\n",
      "\u001b[34m169.254.255.130 - - [01/Oct/2022:18:30:02 +0000] \"GET /ping HTTP/1.1\" 200 0 \"-\" \"Go-http-client/1.1\"\u001b[0m\n",
      "\u001b[34m169.254.255.130 - - [01/Oct/2022:18:30:02 +0000] \"GET /execution-parameters HTTP/1.1\" 404 232 \"-\" \"Go-http-client/1.1\"\u001b[0m\n",
      "\u001b[34m2022-10-01 18:30:02,911 INFO - sagemaker-containers - No GPUs detected (normal if no gpus installed)\u001b[0m\n",
      "\u001b[35m2022-10-01 18:30:02,284 INFO - sagemaker-containers - No GPUs detected (normal if no gpus installed)\u001b[0m\n",
      "\u001b[35m/miniconda3/lib/python3.7/site-packages/sklearn/externals/joblib/externals/cloudpickle/cloudpickle.py:47: DeprecationWarning: the imp module is deprecated in favour of importlib; see the module's documentation for alternative uses\n",
      "  import imp\u001b[0m\n",
      "\u001b[35m169.254.255.130 - - [01/Oct/2022:18:30:02 +0000] \"GET /ping HTTP/1.1\" 200 0 \"-\" \"Go-http-client/1.1\"\u001b[0m\n",
      "\u001b[35m169.254.255.130 - - [01/Oct/2022:18:30:02 +0000] \"GET /execution-parameters HTTP/1.1\" 404 232 \"-\" \"Go-http-client/1.1\"\u001b[0m\n",
      "\u001b[35m2022-10-01 18:30:02,911 INFO - sagemaker-containers - No GPUs detected (normal if no gpus installed)\u001b[0m\n",
      "\u001b[34m/miniconda3/lib/python3.7/site-packages/sklearn/externals/joblib/externals/cloudpickle/cloudpickle.py:47: DeprecationWarning: the imp module is deprecated in favour of importlib; see the module's documentation for alternative uses\n",
      "  import imp\u001b[0m\n",
      "\u001b[34mInput data type  <class 'pandas.core.frame.DataFrame'>\n",
      "     YEAR_BUILT  SQUARE_FEET  NUM_BEDROOMS  ...  FRONT_PORCH  DECK   PRICE\u001b[0m\n",
      "\u001b[34m0          2006  1544.334170             6  ...            y     y  339950\u001b[0m\n",
      "\u001b[34m1          1979  3746.347409             3  ...            n     n  463502\u001b[0m\n",
      "\u001b[34m2          1990  3781.009326             4  ...            n     y  562651\u001b[0m\n",
      "\u001b[34m3          1990  3443.984535             3  ...            n     n  497747\u001b[0m\n",
      "\u001b[34m4          1999  3777.606002             6  ...            y     y  607390\u001b[0m\n",
      "\u001b[34m..          ...          ...           ...  ...          ...   ...     ...\u001b[0m\n",
      "\u001b[34m995        1983  1831.881522             3  ...            y     n  199082\u001b[0m\n",
      "\u001b[34m996        2000  2485.057537             2  ...            n     y  326258\u001b[0m\n",
      "\u001b[35m/miniconda3/lib/python3.7/site-packages/sklearn/externals/joblib/externals/cloudpickle/cloudpickle.py:47: DeprecationWarning: the imp module is deprecated in favour of importlib; see the module's documentation for alternative uses\n",
      "  import imp\u001b[0m\n",
      "\u001b[35mInput data type  <class 'pandas.core.frame.DataFrame'>\n",
      "     YEAR_BUILT  SQUARE_FEET  NUM_BEDROOMS  ...  FRONT_PORCH  DECK   PRICE\u001b[0m\n",
      "\u001b[35m0          2006  1544.334170             6  ...            y     y  339950\u001b[0m\n",
      "\u001b[35m1          1979  3746.347409             3  ...            n     n  463502\u001b[0m\n",
      "\u001b[35m2          1990  3781.009326             4  ...            n     y  562651\u001b[0m\n",
      "\u001b[35m3          1990  3443.984535             3  ...            n     n  497747\u001b[0m\n",
      "\u001b[35m4          1999  3777.606002             6  ...            y     y  607390\u001b[0m\n",
      "\u001b[35m..          ...          ...           ...  ...          ...   ...     ...\u001b[0m\n",
      "\u001b[35m995        1983  1831.881522             3  ...            y     n  199082\u001b[0m\n",
      "\u001b[35m996        2000  2485.057537             2  ...            n     y  326258\u001b[0m\n",
      "\u001b[34m997        1986  3213.912463             5  ...            n     y  466236\u001b[0m\n",
      "\u001b[34m998        1987  2529.225281             6  ...            n     n  323633\u001b[0m\n",
      "\u001b[34m999        1998  2911.560826             5  ...            n     y  478484\u001b[0m\n",
      "\u001b[34m[1000 rows x 9 columns]\u001b[0m\n",
      "\u001b[34m/miniconda3/lib/python3.7/site-packages/sklearn/pipeline.py:451: DataConversionWarning: Data with input dtype int64, float64 were all converted to float64 by StandardScaler.\n",
      "  Xt = transform.transform(Xt)\u001b[0m\n",
      "\u001b[34mfeatures type  <class 'numpy.ndarray'>\u001b[0m\n",
      "\u001b[34m[[ 1.05825524 -2.01502982  1.48274632 ...  1.          0.\n",
      "   1.        ]\n",
      " [-1.57007696  0.96037015 -0.65240838 ...  0.          1.\n",
      "   0.        ]\n",
      " [-0.49927496  1.00720595  0.05930985 ...  0.          0.\n",
      "   1.        ]\n",
      " ...\n",
      " [-0.8886575   0.24093445  0.77102809 ...  0.          0.\n",
      "   1.        ]\n",
      " [-0.79131187 -0.6842272   1.48274632 ...  0.          1.\n",
      "   0.        ]\n",
      " [ 0.27949014 -0.16760853  0.77102809 ...  0.          0.\n",
      "   1.        ]]\u001b[0m\n",
      "\u001b[34mfeatures_array  <class 'numpy.ndarray'>\u001b[0m\n",
      "\u001b[34m[[ 1.05825524 -2.01502982  1.48274632 ...  1.          0.\n",
      "   1.        ]\n",
      " [-1.57007696  0.96037015 -0.65240838 ...  0.          1.\n",
      "   0.        ]\n",
      " [-0.49927496  1.00720595  0.05930985 ...  0.          0.\n",
      "   1.        ]\n",
      " ...\n",
      " [-0.8886575   0.24093445  0.77102809 ...  0.          0.\n",
      "   1.        ]\n",
      " [-0.79131187 -0.6842272   1.48274632 ...  0.          1.\n",
      "   0.        ]\n",
      " [ 0.27949014 -0.16760853  0.77102809 ...  0.          0.\n",
      "   1.        ]]\u001b[0m\n",
      "\u001b[34m169.254.255.130 - - [01/Oct/2022:18:30:03 +0000] \"POST /invocations HTTP/1.1\" 200 143089 \"-\" \"Go-http-client/1.1\"\u001b[0m\n",
      "\u001b[35m997        1986  3213.912463             5  ...            n     y  466236\u001b[0m\n",
      "\u001b[35m998        1987  2529.225281             6  ...            n     n  323633\u001b[0m\n",
      "\u001b[35m999        1998  2911.560826             5  ...            n     y  478484\u001b[0m\n",
      "\u001b[35m[1000 rows x 9 columns]\u001b[0m\n",
      "\u001b[35m/miniconda3/lib/python3.7/site-packages/sklearn/pipeline.py:451: DataConversionWarning: Data with input dtype int64, float64 were all converted to float64 by StandardScaler.\n",
      "  Xt = transform.transform(Xt)\u001b[0m\n",
      "\u001b[35mfeatures type  <class 'numpy.ndarray'>\u001b[0m\n",
      "\u001b[35m[[ 1.05825524 -2.01502982  1.48274632 ...  1.          0.\n",
      "   1.        ]\n",
      " [-1.57007696  0.96037015 -0.65240838 ...  0.          1.\n",
      "   0.        ]\n",
      " [-0.49927496  1.00720595  0.05930985 ...  0.          0.\n",
      "   1.        ]\n",
      " ...\n",
      " [-0.8886575   0.24093445  0.77102809 ...  0.          0.\n",
      "   1.        ]\n",
      " [-0.79131187 -0.6842272   1.48274632 ...  0.          1.\n",
      "   0.        ]\n",
      " [ 0.27949014 -0.16760853  0.77102809 ...  0.          0.\n",
      "   1.        ]]\u001b[0m\n",
      "\u001b[35mfeatures_array  <class 'numpy.ndarray'>\u001b[0m\n",
      "\u001b[35m[[ 1.05825524 -2.01502982  1.48274632 ...  1.          0.\n",
      "   1.        ]\n",
      " [-1.57007696  0.96037015 -0.65240838 ...  0.          1.\n",
      "   0.        ]\n",
      " [-0.49927496  1.00720595  0.05930985 ...  0.          0.\n",
      "   1.        ]\n",
      " ...\n",
      " [-0.8886575   0.24093445  0.77102809 ...  0.          0.\n",
      "   1.        ]\n",
      " [-0.79131187 -0.6842272   1.48274632 ...  0.          1.\n",
      "   0.        ]\n",
      " [ 0.27949014 -0.16760853  0.77102809 ...  0.          0.\n",
      "   1.        ]]\u001b[0m\n",
      "\u001b[35m169.254.255.130 - - [01/Oct/2022:18:30:03 +0000] \"POST /invocations HTTP/1.1\" 200 143089 \"-\" \"Go-http-client/1.1\"\u001b[0m\n",
      "\u001b[32m2022-10-01T18:30:02.881:[sagemaker logs]: MaxConcurrentTransforms=1, MaxPayloadInMB=6, BatchStrategy=MULTI_RECORD\u001b[0m\n"
     ]
    }
   ],
   "source": [
    "batch_transformer.transform(\n",
    "    train_inputs[0], \n",
    "    content_type='text/csv', \n",
    "    wait=True, \n",
    "    logs=True\n",
    ")"
   ]
  },
  {
   "cell_type": "code",
   "execution_count": 31,
   "metadata": {},
   "outputs": [
    {
     "data": {
      "text/plain": [
       "'s3://sagemaker-us-east-1-622343165275/DEMO-BATCH-SKLEARN-BYO-2022-09-30-02-02-2022-09-30-02-02-53-957'"
      ]
     },
     "execution_count": 31,
     "metadata": {},
     "output_type": "execute_result"
    }
   ],
   "source": [
    "batch_transformer.output_path"
   ]
  },
  {
   "cell_type": "markdown",
   "metadata": {},
   "source": [
    "#### Now we list the data and review it"
   ]
  },
  {
   "cell_type": "code",
   "execution_count": 32,
   "metadata": {},
   "outputs": [
    {
     "name": "stdout",
     "output_type": "stream",
     "text": [
      "mkdir: cannot create directory ‘./data/temp_output’: File exists\n"
     ]
    }
   ],
   "source": [
    "!mkdir ./data/temp_output"
   ]
  },
  {
   "cell_type": "code",
   "execution_count": 33,
   "metadata": {},
   "outputs": [
    {
     "data": {
      "text/html": [
       "<div>\n",
       "<style scoped>\n",
       "    .dataframe tbody tr th:only-of-type {\n",
       "        vertical-align: middle;\n",
       "    }\n",
       "\n",
       "    .dataframe tbody tr th {\n",
       "        vertical-align: top;\n",
       "    }\n",
       "\n",
       "    .dataframe thead th {\n",
       "        text-align: right;\n",
       "    }\n",
       "</style>\n",
       "<table border=\"1\" class=\"dataframe\">\n",
       "  <thead>\n",
       "    <tr style=\"text-align: right;\">\n",
       "      <th></th>\n",
       "      <th>0</th>\n",
       "      <th>1</th>\n",
       "      <th>2</th>\n",
       "      <th>3</th>\n",
       "      <th>4</th>\n",
       "      <th>5</th>\n",
       "      <th>6</th>\n",
       "      <th>7</th>\n",
       "      <th>8</th>\n",
       "      <th>9</th>\n",
       "      <th>10</th>\n",
       "    </tr>\n",
       "  </thead>\n",
       "  <tbody>\n",
       "    <tr>\n",
       "      <th>0</th>\n",
       "      <td>453183.0</td>\n",
       "      <td>1.312838</td>\n",
       "      <td>-0.567933</td>\n",
       "      <td>0.696936</td>\n",
       "      <td>-0.723305</td>\n",
       "      <td>-2.451263</td>\n",
       "      <td>1.333814</td>\n",
       "      <td>1.0</td>\n",
       "      <td>0.0</td>\n",
       "      <td>1.0</td>\n",
       "      <td>0.0</td>\n",
       "    </tr>\n",
       "    <tr>\n",
       "      <th>1</th>\n",
       "      <td>373648.0</td>\n",
       "      <td>-1.822817</td>\n",
       "      <td>0.264735</td>\n",
       "      <td>0.696936</td>\n",
       "      <td>-0.723305</td>\n",
       "      <td>0.297674</td>\n",
       "      <td>-1.312254</td>\n",
       "      <td>0.0</td>\n",
       "      <td>1.0</td>\n",
       "      <td>0.0</td>\n",
       "      <td>1.0</td>\n",
       "    </tr>\n",
       "    <tr>\n",
       "      <th>2</th>\n",
       "      <td>415434.0</td>\n",
       "      <td>1.214848</td>\n",
       "      <td>-0.867431</td>\n",
       "      <td>1.403289</td>\n",
       "      <td>1.367619</td>\n",
       "      <td>1.061268</td>\n",
       "      <td>-1.312254</td>\n",
       "      <td>1.0</td>\n",
       "      <td>0.0</td>\n",
       "      <td>0.0</td>\n",
       "      <td>1.0</td>\n",
       "    </tr>\n",
       "    <tr>\n",
       "      <th>3</th>\n",
       "      <td>458912.0</td>\n",
       "      <td>-0.059011</td>\n",
       "      <td>-0.374606</td>\n",
       "      <td>0.696936</td>\n",
       "      <td>1.367619</td>\n",
       "      <td>0.412213</td>\n",
       "      <td>1.333814</td>\n",
       "      <td>0.0</td>\n",
       "      <td>1.0</td>\n",
       "      <td>0.0</td>\n",
       "      <td>1.0</td>\n",
       "    </tr>\n",
       "    <tr>\n",
       "      <th>4</th>\n",
       "      <td>320228.0</td>\n",
       "      <td>-0.940914</td>\n",
       "      <td>-0.966433</td>\n",
       "      <td>0.696936</td>\n",
       "      <td>-0.026330</td>\n",
       "      <td>-2.489443</td>\n",
       "      <td>1.333814</td>\n",
       "      <td>0.0</td>\n",
       "      <td>1.0</td>\n",
       "      <td>1.0</td>\n",
       "      <td>0.0</td>\n",
       "    </tr>\n",
       "  </tbody>\n",
       "</table>\n",
       "</div>"
      ],
      "text/plain": [
       "         0         1         2         3         4         5         6    7   \\\n",
       "0  453183.0  1.312838 -0.567933  0.696936 -0.723305 -2.451263  1.333814  1.0   \n",
       "1  373648.0 -1.822817  0.264735  0.696936 -0.723305  0.297674 -1.312254  0.0   \n",
       "2  415434.0  1.214848 -0.867431  1.403289  1.367619  1.061268 -1.312254  1.0   \n",
       "3  458912.0 -0.059011 -0.374606  0.696936  1.367619  0.412213  1.333814  0.0   \n",
       "4  320228.0 -0.940914 -0.966433  0.696936 -0.026330 -2.489443  1.333814  0.0   \n",
       "\n",
       "    8    9    10  \n",
       "0  0.0  1.0  0.0  \n",
       "1  1.0  0.0  1.0  \n",
       "2  0.0  0.0  1.0  \n",
       "3  1.0  0.0  1.0  \n",
       "4  1.0  1.0  0.0  "
      ]
     },
     "execution_count": 33,
     "metadata": {},
     "output_type": "execute_result"
    }
   ],
   "source": [
    "# - download the file\n",
    "sagemaker.s3.S3Downloader().download(s3_uri=f'{batch_transformer.output_path}/train.csv.out', local_path='./data/temp_output', sagemaker_session=sagemaker_session)  \n",
    "output_df = pd.read_csv(filepath_or_buffer='./data/output/train.csv.out', header=None)\n",
    "output_df.head(5)\n"
   ]
  },
  {
   "cell_type": "markdown",
   "metadata": {},
   "source": [
    "#### Option 2 Register and create batch Predictions"
   ]
  },
  {
   "cell_type": "code",
   "execution_count": 34,
   "metadata": {},
   "outputs": [],
   "source": [
    "model_registry_package = sklearn_model.register(\n",
    "    \n",
    "    content_types=['text/csv'],\n",
    "    response_types=['application/json'],\n",
    "    inference_instances=['ml.t2.medium', 'ml.m5.xlarge'],\n",
    "    transform_instances=['ml.m5.xlarge'],\n",
    "    model_package_group_name=\"test-model-ackage\",\n",
    "    approval_status=\"Approved\"\n",
    "\n",
    ")"
   ]
  },
  {
   "cell_type": "code",
   "execution_count": 35,
   "metadata": {},
   "outputs": [
    {
     "data": {
      "text/plain": [
       "<sagemaker.model.ModelPackage at 0x7f6d30a12710>"
      ]
     },
     "execution_count": 35,
     "metadata": {},
     "output_type": "execute_result"
    }
   ],
   "source": [
    "model_registry_package"
   ]
  },
  {
   "cell_type": "code",
   "execution_count": 36,
   "metadata": {},
   "outputs": [
    {
     "data": {
      "text/plain": [
       "<sagemaker.transformer.Transformer at 0x7f6d30bf0438>"
      ]
     },
     "execution_count": 36,
     "metadata": {},
     "output_type": "execute_result"
    }
   ],
   "source": [
    "registry_transformer = model_registry_package.transformer(\n",
    "    instance_count=1,\n",
    "    instance_type='ml.m5.xlarge',\n",
    "    assemble_with='Line',\n",
    "    accept='text/csv',\n",
    "    max_concurrent_transforms=8,\n",
    "    strategy=\"MultiRecord\",\n",
    "    max_payload=6,\n",
    ")\n",
    "registry_transformer"
   ]
  },
  {
   "cell_type": "code",
   "execution_count": 38,
   "metadata": {
    "collapsed": true,
    "jupyter": {
     "outputs_hidden": true
    }
   },
   "outputs": [
    {
     "name": "stdout",
     "output_type": "stream",
     "text": [
      "..............................\n",
      "\u001b[34mProcessing /opt/ml/code\n",
      "  DEPRECATION: A future pip version will change local packages to be built in-place without first copying to a temporary directory. We recommend you use --use-feature=in-tree-build to test your packages with this new behavior before it becomes the default.\n",
      "   pip 21.3 will remove support for this functionality. You can find discussion regarding this at https://github.com/pypa/pip/issues/7555.\u001b[0m\n",
      "\u001b[34mBuilding wheels for collected packages: sklearn-preprocessor-batch\n",
      "  Building wheel for sklearn-preprocessor-batch (setup.py): started\n",
      "  Building wheel for sklearn-preprocessor-batch (setup.py): finished with status 'done'\n",
      "  Created wheel for sklearn-preprocessor-batch: filename=sklearn_preprocessor_batch-1.0.0-py2.py3-none-any.whl size=7596 sha256=b29e98c88ffd448eb95460377fc08bb74a003250116dc948cc113e622c170974\n",
      "  Stored in directory: /tmp/pip-ephem-wheel-cache-19j02rkk/wheels/3e/0f/51/2f1df833dd0412c1bc2f5ee56baac195b5be563353d111dca6\u001b[0m\n",
      "\u001b[34mSuccessfully built sklearn-preprocessor-batch\u001b[0m\n",
      "\u001b[34mInstalling collected packages: sklearn-preprocessor-batch\u001b[0m\n",
      "\u001b[34mSuccessfully installed sklearn-preprocessor-batch-1.0.0\u001b[0m\n",
      "\u001b[34mWARNING: Running pip as the 'root' user can result in broken permissions and conflicting behaviour with the system package manager. It is recommended to use a virtual environment instead: https://pip.pypa.io/warnings/venv\u001b[0m\n",
      "\u001b[34m/miniconda3/lib/python3.7/site-packages/sklearn/externals/joblib/externals/cloudpickle/cloudpickle.py:47: DeprecationWarning: the imp module is deprecated in favour of importlib; see the module's documentation for alternative uses\n",
      "  import imp\u001b[0m\n",
      "\u001b[34m[2022-09-30 02:15:11 +0000] [37] [INFO] Starting gunicorn 20.1.0\u001b[0m\n",
      "\u001b[34m[2022-09-30 02:15:11 +0000] [37] [INFO] Listening at: unix:/tmp/gunicorn.sock (37)\u001b[0m\n",
      "\u001b[34m[2022-09-30 02:15:11 +0000] [37] [INFO] Using worker: gevent\u001b[0m\n",
      "\u001b[34m[2022-09-30 02:15:11 +0000] [40] [INFO] Booting worker with pid: 40\u001b[0m\n",
      "\u001b[34m[2022-09-30 02:15:11 +0000] [41] [INFO] Booting worker with pid: 41\u001b[0m\n",
      "\u001b[34m[2022-09-30 02:15:11 +0000] [42] [INFO] Booting worker with pid: 42\u001b[0m\n",
      "\u001b[34m[2022-09-30 02:15:11 +0000] [46] [INFO] Booting worker with pid: 46\u001b[0m\n",
      "\u001b[34m2022-09-30 02:15:14,444 INFO - sagemaker-containers - No GPUs detected (normal if no gpus installed)\u001b[0m\n",
      "\u001b[34m/miniconda3/lib/python3.7/site-packages/sklearn/externals/joblib/externals/cloudpickle/cloudpickle.py:47: DeprecationWarning: the imp module is deprecated in favour of importlib; see the module's documentation for alternative uses\n",
      "  import imp\u001b[0m\n",
      "\u001b[34m169.254.255.130 - - [30/Sep/2022:02:15:14 +0000] \"GET /ping HTTP/1.1\" 200 0 \"-\" \"Go-http-client/1.1\"\u001b[0m\n",
      "\u001b[34m169.254.255.130 - - [30/Sep/2022:02:15:14 +0000] \"GET /execution-parameters HTTP/1.1\" 404 232 \"-\" \"Go-http-client/1.1\"\u001b[0m\n",
      "\u001b[34m2022-09-30 02:15:15,015 INFO - sagemaker-containers - No GPUs detected (normal if no gpus installed)\u001b[0m\n",
      "\u001b[34m/miniconda3/lib/python3.7/site-packages/sklearn/externals/joblib/externals/cloudpickle/cloudpickle.py:47: DeprecationWarning: the imp module is deprecated in favour of importlib; see the module's documentation for alternative uses\n",
      "  import imp\u001b[0m\n",
      "\u001b[34mInput data type  <class 'pandas.core.frame.DataFrame'>\n",
      "     YEAR_BUILT  SQUARE_FEET  NUM_BEDROOMS  ...  FRONT_PORCH  DECK   PRICE\u001b[0m\n",
      "\u001b[34m0          1984  3061.977912             4  ...            n     y  380846\u001b[0m\n",
      "\u001b[34m1          1987  1631.127158             4  ...            y     n  210669\u001b[0m\n",
      "\u001b[34m2          1987  1924.506862             5  ...            y     n  252826\u001b[0m\n",
      "\u001b[34m3          1998  3104.396470             3  ...            n     y  435509\u001b[0m\n",
      "\u001b[34m4          1984  2431.059673             5  ...            y     n  313808\u001b[0m\n",
      "\u001b[34m..          ...          ...           ...  ...          ...   ...     ...\u001b[0m\n",
      "\u001b[34m895        1996  3091.669554             5  ...            y     y  466000\u001b[0m\n",
      "\u001b[34m896        1995  2600.912639             6  ...            n     n  376336\u001b[0m\n",
      "\u001b[34m897        1992  3201.579437             6  ...            y     y  526486\u001b[0m\n",
      "\u001b[34m898        1993  2310.060179             4  ...            y     y  337409\u001b[0m\n",
      "\u001b[34m899        2003  2011.797958             4  ...            n     n  309769\u001b[0m\n",
      "\u001b[34m[900 rows x 9 columns]\u001b[0m\n",
      "\u001b[34m/miniconda3/lib/python3.7/site-packages/sklearn/pipeline.py:451: DataConversionWarning: Data with input dtype int64, float64 were all converted to float64 by StandardScaler.\n",
      "  Xt = transform.transform(Xt)\u001b[0m\n",
      "\u001b[34mfeatures type  <class 'numpy.ndarray'>\u001b[0m\n",
      "\u001b[34m[[-1.08334878  0.03563775  0.05930985 ...  0.          0.\n",
      "   1.        ]\n",
      " [-0.79131187 -1.89775357  0.05930985 ...  1.          1.\n",
      "   0.        ]\n",
      " [-0.79131187 -1.50133363  0.77102809 ...  1.          1.\n",
      "   0.        ]\n",
      " ...\n",
      " [-0.30458368  0.22426985  1.48274632 ...  1.          0.\n",
      "   1.        ]\n",
      " [-0.20723805 -0.98036704  0.05930985 ...  1.          0.\n",
      "   1.        ]\n",
      " [ 0.76621833 -1.38338433  0.05930985 ...  0.          1.\n",
      "   0.        ]]\u001b[0m\n",
      "\u001b[34mfeatures_array  <class 'numpy.ndarray'>\u001b[0m\n",
      "\u001b[34m[[-1.08334878  0.03563775  0.05930985 ...  0.          0.\n",
      "   1.        ]\n",
      " [-0.79131187 -1.89775357  0.05930985 ...  1.          1.\n",
      "   0.        ]\n",
      " [-0.79131187 -1.50133363  0.77102809 ...  1.          1.\n",
      "   0.        ]\n",
      " ...\n",
      " [-0.30458368  0.22426985  1.48274632 ...  1.          0.\n",
      "   1.        ]\n",
      " [-0.20723805 -0.98036704  0.05930985 ...  1.          0.\n",
      "   1.        ]\n",
      " [ 0.76621833 -1.38338433  0.05930985 ...  0.          1.\n",
      "   0.        ]]\u001b[0m\n",
      "\u001b[35m/miniconda3/lib/python3.7/site-packages/sklearn/externals/joblib/externals/cloudpickle/cloudpickle.py:47: DeprecationWarning: the imp module is deprecated in favour of importlib; see the module's documentation for alternative uses\n",
      "  import imp\u001b[0m\n",
      "\u001b[35m169.254.255.130 - - [30/Sep/2022:02:15:14 +0000] \"GET /ping HTTP/1.1\" 200 0 \"-\" \"Go-http-client/1.1\"\u001b[0m\n",
      "\u001b[35m169.254.255.130 - - [30/Sep/2022:02:15:14 +0000] \"GET /execution-parameters HTTP/1.1\" 404 232 \"-\" \"Go-http-client/1.1\"\u001b[0m\n",
      "\u001b[35m2022-09-30 02:15:15,015 INFO - sagemaker-containers - No GPUs detected (normal if no gpus installed)\u001b[0m\n",
      "\u001b[35m/miniconda3/lib/python3.7/site-packages/sklearn/externals/joblib/externals/cloudpickle/cloudpickle.py:47: DeprecationWarning: the imp module is deprecated in favour of importlib; see the module's documentation for alternative uses\n",
      "  import imp\u001b[0m\n",
      "\u001b[35mInput data type  <class 'pandas.core.frame.DataFrame'>\n",
      "     YEAR_BUILT  SQUARE_FEET  NUM_BEDROOMS  ...  FRONT_PORCH  DECK   PRICE\u001b[0m\n",
      "\u001b[35m0          1984  3061.977912             4  ...            n     y  380846\u001b[0m\n",
      "\u001b[35m1          1987  1631.127158             4  ...            y     n  210669\u001b[0m\n",
      "\u001b[35m2          1987  1924.506862             5  ...            y     n  252826\u001b[0m\n",
      "\u001b[35m3          1998  3104.396470             3  ...            n     y  435509\u001b[0m\n",
      "\u001b[35m4          1984  2431.059673             5  ...            y     n  313808\u001b[0m\n",
      "\u001b[35m..          ...          ...           ...  ...          ...   ...     ...\u001b[0m\n",
      "\u001b[35m895        1996  3091.669554             5  ...            y     y  466000\u001b[0m\n",
      "\u001b[35m896        1995  2600.912639             6  ...            n     n  376336\u001b[0m\n",
      "\u001b[35m897        1992  3201.579437             6  ...            y     y  526486\u001b[0m\n",
      "\u001b[35m898        1993  2310.060179             4  ...            y     y  337409\u001b[0m\n",
      "\u001b[35m899        2003  2011.797958             4  ...            n     n  309769\u001b[0m\n",
      "\u001b[35m[900 rows x 9 columns]\u001b[0m\n",
      "\u001b[35m/miniconda3/lib/python3.7/site-packages/sklearn/pipeline.py:451: DataConversionWarning: Data with input dtype int64, float64 were all converted to float64 by StandardScaler.\n",
      "  Xt = transform.transform(Xt)\u001b[0m\n",
      "\u001b[35mfeatures type  <class 'numpy.ndarray'>\u001b[0m\n",
      "\u001b[35m[[-1.08334878  0.03563775  0.05930985 ...  0.          0.\n",
      "   1.        ]\n",
      " [-0.79131187 -1.89775357  0.05930985 ...  1.          1.\n",
      "   0.        ]\n",
      " [-0.79131187 -1.50133363  0.77102809 ...  1.          1.\n",
      "   0.        ]\n",
      " ...\n",
      " [-0.30458368  0.22426985  1.48274632 ...  1.          0.\n",
      "   1.        ]\n",
      " [-0.20723805 -0.98036704  0.05930985 ...  1.          0.\n",
      "   1.        ]\n",
      " [ 0.76621833 -1.38338433  0.05930985 ...  0.          1.\n",
      "   0.        ]]\u001b[0m\n",
      "\u001b[35mfeatures_array  <class 'numpy.ndarray'>\u001b[0m\n",
      "\u001b[35m[[-1.08334878  0.03563775  0.05930985 ...  0.          0.\n",
      "   1.        ]\n",
      " [-0.79131187 -1.89775357  0.05930985 ...  1.          1.\n",
      "   0.        ]\n",
      " [-0.79131187 -1.50133363  0.77102809 ...  1.          1.\n",
      "   0.        ]\n",
      " ...\n",
      " [-0.30458368  0.22426985  1.48274632 ...  1.          0.\n",
      "   1.        ]\n",
      " [-0.20723805 -0.98036704  0.05930985 ...  1.          0.\n",
      "   1.        ]\n",
      " [ 0.76621833 -1.38338433  0.05930985 ...  0.          1.\n",
      "   0.        ]]\u001b[0m\n",
      "\u001b[32m2022-09-30T02:15:14.929:[sagemaker logs]: MaxConcurrentTransforms=8, MaxPayloadInMB=6, BatchStrategy=MULTI_RECORD\u001b[0m\n",
      "\u001b[34m169.254.255.130 - - [30/Sep/2022:02:15:15 +0000] \"POST /invocations HTTP/1.1\" 200 128657 \"-\" \"Go-http-client/1.1\"\u001b[0m\n",
      "\u001b[35m169.254.255.130 - - [30/Sep/2022:02:15:15 +0000] \"POST /invocations HTTP/1.1\" 200 128657 \"-\" \"Go-http-client/1.1\"\u001b[0m\n"
     ]
    }
   ],
   "source": [
    "registry_transformer.transform(\n",
    "    train_inputs[0], \n",
    "    content_type='text/csv', \n",
    "    input_filter=None,\n",
    "    join_source=\"Input\",\n",
    "    output_filter='$[0,-11]',\n",
    "    split_type='Line',\n",
    "    wait=True, \n",
    "    logs=True\n",
    "\n",
    ")"
   ]
  },
  {
   "cell_type": "markdown",
   "metadata": {},
   "source": [
    "#### Now we list the data and view it\n",
    "**Replace the object with the one run batch_transformer or registry_transformer**"
   ]
  },
  {
   "cell_type": "code",
   "execution_count": 39,
   "metadata": {},
   "outputs": [
    {
     "data": {
      "text/plain": [
       "'s3://sagemaker-us-east-1-622343165275/DEMO-BATCH-SKLEARN-BYO-2022-09-30-02-02-2022-09-30-02-02-53-957/train.csv.out'"
      ]
     },
     "execution_count": 39,
     "metadata": {},
     "output_type": "execute_result"
    }
   ],
   "source": [
    "# Replace with the Transformer which was actually run\n",
    "out_file_name = '{}/train.csv.out'.format(batch_transformer.output_path)\n",
    "out_file_name "
   ]
  },
  {
   "cell_type": "code",
   "execution_count": 40,
   "metadata": {},
   "outputs": [
    {
     "data": {
      "text/html": [
       "<div>\n",
       "<style scoped>\n",
       "    .dataframe tbody tr th:only-of-type {\n",
       "        vertical-align: middle;\n",
       "    }\n",
       "\n",
       "    .dataframe tbody tr th {\n",
       "        vertical-align: top;\n",
       "    }\n",
       "\n",
       "    .dataframe thead th {\n",
       "        text-align: right;\n",
       "    }\n",
       "</style>\n",
       "<table border=\"1\" class=\"dataframe\">\n",
       "  <thead>\n",
       "    <tr style=\"text-align: right;\">\n",
       "      <th></th>\n",
       "      <th>0</th>\n",
       "      <th>1</th>\n",
       "      <th>2</th>\n",
       "      <th>3</th>\n",
       "      <th>4</th>\n",
       "      <th>5</th>\n",
       "      <th>6</th>\n",
       "      <th>7</th>\n",
       "      <th>8</th>\n",
       "      <th>9</th>\n",
       "      <th>10</th>\n",
       "    </tr>\n",
       "  </thead>\n",
       "  <tbody>\n",
       "    <tr>\n",
       "      <th>0</th>\n",
       "      <td>453183.0</td>\n",
       "      <td>1.312838</td>\n",
       "      <td>-0.567933</td>\n",
       "      <td>0.696936</td>\n",
       "      <td>-0.723305</td>\n",
       "      <td>-2.451263</td>\n",
       "      <td>1.333814</td>\n",
       "      <td>1.0</td>\n",
       "      <td>0.0</td>\n",
       "      <td>1.0</td>\n",
       "      <td>0.0</td>\n",
       "    </tr>\n",
       "    <tr>\n",
       "      <th>1</th>\n",
       "      <td>373648.0</td>\n",
       "      <td>-1.822817</td>\n",
       "      <td>0.264735</td>\n",
       "      <td>0.696936</td>\n",
       "      <td>-0.723305</td>\n",
       "      <td>0.297674</td>\n",
       "      <td>-1.312254</td>\n",
       "      <td>0.0</td>\n",
       "      <td>1.0</td>\n",
       "      <td>0.0</td>\n",
       "      <td>1.0</td>\n",
       "    </tr>\n",
       "    <tr>\n",
       "      <th>2</th>\n",
       "      <td>415434.0</td>\n",
       "      <td>1.214848</td>\n",
       "      <td>-0.867431</td>\n",
       "      <td>1.403289</td>\n",
       "      <td>1.367619</td>\n",
       "      <td>1.061268</td>\n",
       "      <td>-1.312254</td>\n",
       "      <td>1.0</td>\n",
       "      <td>0.0</td>\n",
       "      <td>0.0</td>\n",
       "      <td>1.0</td>\n",
       "    </tr>\n",
       "    <tr>\n",
       "      <th>3</th>\n",
       "      <td>458912.0</td>\n",
       "      <td>-0.059011</td>\n",
       "      <td>-0.374606</td>\n",
       "      <td>0.696936</td>\n",
       "      <td>1.367619</td>\n",
       "      <td>0.412213</td>\n",
       "      <td>1.333814</td>\n",
       "      <td>0.0</td>\n",
       "      <td>1.0</td>\n",
       "      <td>0.0</td>\n",
       "      <td>1.0</td>\n",
       "    </tr>\n",
       "    <tr>\n",
       "      <th>4</th>\n",
       "      <td>320228.0</td>\n",
       "      <td>-0.940914</td>\n",
       "      <td>-0.966433</td>\n",
       "      <td>0.696936</td>\n",
       "      <td>-0.026330</td>\n",
       "      <td>-2.489443</td>\n",
       "      <td>1.333814</td>\n",
       "      <td>0.0</td>\n",
       "      <td>1.0</td>\n",
       "      <td>1.0</td>\n",
       "      <td>0.0</td>\n",
       "    </tr>\n",
       "  </tbody>\n",
       "</table>\n",
       "</div>"
      ],
      "text/plain": [
       "         0         1         2         3         4         5         6    7   \\\n",
       "0  453183.0  1.312838 -0.567933  0.696936 -0.723305 -2.451263  1.333814  1.0   \n",
       "1  373648.0 -1.822817  0.264735  0.696936 -0.723305  0.297674 -1.312254  0.0   \n",
       "2  415434.0  1.214848 -0.867431  1.403289  1.367619  1.061268 -1.312254  1.0   \n",
       "3  458912.0 -0.059011 -0.374606  0.696936  1.367619  0.412213  1.333814  0.0   \n",
       "4  320228.0 -0.940914 -0.966433  0.696936 -0.026330 -2.489443  1.333814  0.0   \n",
       "\n",
       "    8    9    10  \n",
       "0  0.0  1.0  0.0  \n",
       "1  1.0  0.0  1.0  \n",
       "2  0.0  0.0  1.0  \n",
       "3  1.0  0.0  1.0  \n",
       "4  1.0  1.0  0.0  "
      ]
     },
     "execution_count": 40,
     "metadata": {},
     "output_type": "execute_result"
    }
   ],
   "source": [
    "# - download the file\n",
    "sagemaker.s3.S3Downloader().download(s3_uri=out_file_name, local_path='./data/temp_output', sagemaker_session=sagemaker_session)  \n",
    "output_df = pd.read_csv(filepath_or_buffer='./data/temp_output/train.csv.out', header=None)\n",
    "output_df.head(5)\n"
   ]
  },
  {
   "cell_type": "markdown",
   "metadata": {},
   "source": [
    "#### Optional -- below are advanced Options for Batch Transformations"
   ]
  },
  {
   "cell_type": "markdown",
   "metadata": {},
   "source": [
    "#### Run the Transformer with a JOIN to the INPUT DATA set with column 'Year_built'"
   ]
  },
  {
   "cell_type": "code",
   "execution_count": 42,
   "metadata": {
    "collapsed": true,
    "jupyter": {
     "outputs_hidden": true
    },
    "tags": []
   },
   "outputs": [
    {
     "name": "stderr",
     "output_type": "stream",
     "text": [
      "Using already existing model: DEMO-BATCH-SKLEARN-BYO-2022-09-30-02-02-40\n"
     ]
    },
    {
     "name": "stdout",
     "output_type": "stream",
     "text": [
      "...................................\u001b[34mProcessing /opt/ml/code\n",
      "  DEPRECATION: A future pip version will change local packages to be built in-place without first copying to a temporary directory. We recommend you use --use-feature=in-tree-build to test your packages with this new behavior before it becomes the default.\n",
      "   pip 21.3 will remove support for this functionality. You can find discussion regarding this at https://github.com/pypa/pip/issues/7555.\u001b[0m\n",
      "\u001b[34mBuilding wheels for collected packages: sklearn-preprocessor-batch\n",
      "  Building wheel for sklearn-preprocessor-batch (setup.py): started\n",
      "  Building wheel for sklearn-preprocessor-batch (setup.py): finished with status 'done'\n",
      "  Created wheel for sklearn-preprocessor-batch: filename=sklearn_preprocessor_batch-1.0.0-py2.py3-none-any.whl size=7596 sha256=7cb12d8b9ff394fd33a6f785d6ff38c29c548ab5bfdd0af4e8b44d37ced70cc4\n",
      "  Stored in directory: /tmp/pip-ephem-wheel-cache-c324pb9l/wheels/3e/0f/51/2f1df833dd0412c1bc2f5ee56baac195b5be563353d111dca6\u001b[0m\n",
      "\u001b[34mSuccessfully built sklearn-preprocessor-batch\u001b[0m\n",
      "\u001b[34mInstalling collected packages: sklearn-preprocessor-batch\u001b[0m\n",
      "\u001b[34mSuccessfully installed sklearn-preprocessor-batch-1.0.0\u001b[0m\n",
      "\u001b[34mWARNING: Running pip as the 'root' user can result in broken permissions and conflicting behaviour with the system package manager. It is recommended to use a virtual environment instead: https://pip.pypa.io/warnings/venv\u001b[0m\n",
      "\u001b[34m/miniconda3/lib/python3.7/site-packages/sklearn/externals/joblib/externals/cloudpickle/cloudpickle.py:47: DeprecationWarning: the imp module is deprecated in favour of importlib; see the module's documentation for alternative uses\n",
      "  import imp\u001b[0m\n",
      "\u001b[34m[2022-09-30 02:45:50 +0000] [37] [INFO] Starting gunicorn 20.1.0\u001b[0m\n",
      "\u001b[34m[2022-09-30 02:45:50 +0000] [37] [INFO] Listening at: unix:/tmp/gunicorn.sock (37)\u001b[0m\n",
      "\u001b[34m[2022-09-30 02:45:50 +0000] [37] [INFO] Using worker: gevent\u001b[0m\n",
      "\u001b[34m[2022-09-30 02:45:50 +0000] [40] [INFO] Booting worker with pid: 40\u001b[0m\n",
      "\u001b[34m[2022-09-30 02:45:50 +0000] [41] [INFO] Booting worker with pid: 41\u001b[0m\n",
      "\u001b[34m[2022-09-30 02:45:50 +0000] [42] [INFO] Booting worker with pid: 42\u001b[0m\n",
      "\u001b[34m[2022-09-30 02:45:50 +0000] [46] [INFO] Booting worker with pid: 46\u001b[0m\n",
      "\u001b[34m2022-09-30 02:45:53,941 INFO - sagemaker-containers - No GPUs detected (normal if no gpus installed)\u001b[0m\n",
      "\u001b[34m/miniconda3/lib/python3.7/site-packages/sklearn/externals/joblib/externals/cloudpickle/cloudpickle.py:47: DeprecationWarning: the imp module is deprecated in favour of importlib; see the module's documentation for alternative uses\n",
      "  import imp\u001b[0m\n",
      "\u001b[34m169.254.255.130 - - [30/Sep/2022:02:45:54 +0000] \"GET /ping HTTP/1.1\" 200 0 \"-\" \"Go-http-client/1.1\"\u001b[0m\n",
      "\u001b[34m2022-09-30 02:45:54,641 INFO - sagemaker-containers - No GPUs detected (normal if no gpus installed)\u001b[0m\n",
      "\u001b[34m/miniconda3/lib/python3.7/site-packages/sklearn/externals/joblib/externals/cloudpickle/cloudpickle.py:47: DeprecationWarning: the imp module is deprecated in favour of importlib; see the module's documentation for alternative uses\n",
      "  import imp\u001b[0m\n",
      "\u001b[34m169.254.255.130 - - [30/Sep/2022:02:45:55 +0000] \"GET /execution-parameters HTTP/1.1\" 404 232 \"-\" \"Go-http-client/1.1\"\u001b[0m\n",
      "\u001b[34m2022-09-30 02:45:55,370 INFO - sagemaker-containers - No GPUs detected (normal if no gpus installed)\u001b[0m\n",
      "\u001b[34m/miniconda3/lib/python3.7/site-packages/sklearn/externals/joblib/externals/cloudpickle/cloudpickle.py:47: DeprecationWarning: the imp module is deprecated in favour of importlib; see the module's documentation for alternative uses\n",
      "  import imp\u001b[0m\n",
      "\u001b[34mInput data type  <class 'pandas.core.frame.DataFrame'>\n",
      "     YEAR_BUILT  SQUARE_FEET  NUM_BEDROOMS  ...  FRONT_PORCH  DECK   PRICE\u001b[0m\n",
      "\u001b[34m0          1984  3061.977912             4  ...            n     y  380846\u001b[0m\n",
      "\u001b[34m1          1987  1631.127158             4  ...            y     n  210669\u001b[0m\n",
      "\u001b[34m2          1987  1924.506862             5  ...            y     n  252826\u001b[0m\n",
      "\u001b[34m3          1998  3104.396470             3  ...            n     y  435509\u001b[0m\n",
      "\u001b[34m4          1984  2431.059673             5  ...            y     n  313808\u001b[0m\n",
      "\u001b[34m..          ...          ...           ...  ...          ...   ...     ...\u001b[0m\n",
      "\u001b[34m895        1996  3091.669554             5  ...            y     y  466000\u001b[0m\n",
      "\u001b[34m896        1995  2600.912639             6  ...            n     n  376336\u001b[0m\n",
      "\u001b[34m897        1992  3201.579437             6  ...            y     y  526486\u001b[0m\n",
      "\u001b[34m898        1993  2310.060179             4  ...            y     y  337409\u001b[0m\n",
      "\u001b[34m899        2003  2011.797958             4  ...            n     n  309769\u001b[0m\n",
      "\u001b[34m[900 rows x 9 columns]\u001b[0m\n",
      "\u001b[34m/miniconda3/lib/python3.7/site-packages/sklearn/pipeline.py:451: DataConversionWarning: Data with input dtype int64, float64 were all converted to float64 by StandardScaler.\n",
      "  Xt = transform.transform(Xt)\u001b[0m\n",
      "\u001b[34mfeatures type  <class 'numpy.ndarray'>\u001b[0m\n",
      "\u001b[34m[[-1.08334878  0.03563775  0.05930985 ...  0.          0.\n",
      "   1.        ]\n",
      " [-0.79131187 -1.89775357  0.05930985 ...  1.          1.\n",
      "   0.        ]\n",
      " [-0.79131187 -1.50133363  0.77102809 ...  1.          1.\n",
      "   0.        ]\n",
      " ...\n",
      " [-0.30458368  0.22426985  1.48274632 ...  1.          0.\n",
      "   1.        ]\n",
      " [-0.20723805 -0.98036704  0.05930985 ...  1.          0.\n",
      "   1.        ]\n",
      " [ 0.76621833 -1.38338433  0.05930985 ...  0.          1.\n",
      "   0.        ]]\u001b[0m\n",
      "\u001b[34mfeatures_array  <class 'numpy.ndarray'>\u001b[0m\n",
      "\u001b[34m[[-1.08334878  0.03563775  0.05930985 ...  0.          0.\n",
      "   1.        ]\n",
      " [-0.79131187 -1.89775357  0.05930985 ...  1.          1.\n",
      "   0.        ]\n",
      " [-0.79131187 -1.50133363  0.77102809 ...  1.          1.\n",
      "   0.        ]\n",
      " ...\n",
      " [-0.30458368  0.22426985  1.48274632 ...  1.          0.\n",
      "   1.        ]\n",
      " [-0.20723805 -0.98036704  0.05930985 ...  1.          0.\n",
      "   1.        ]\n",
      " [ 0.76621833 -1.38338433  0.05930985 ...  0.          1.\n",
      "   0.        ]]\u001b[0m\n",
      "\u001b[34m169.254.255.130 - - [30/Sep/2022:02:45:56 +0000] \"POST /invocations HTTP/1.1\" 200 128657 \"-\" \"Go-http-client/1.1\"\u001b[0m\n",
      "\n",
      "\u001b[32m2022-09-30T02:45:55.288:[sagemaker logs]: MaxConcurrentTransforms=8, MaxPayloadInMB=6, BatchStrategy=MULTI_RECORD\u001b[0m\n"
     ]
    }
   ],
   "source": [
    "batch_transformer = sklearn_model.transformer(\n",
    "    instance_count=1,\n",
    "    instance_type='ml.m4.xlarge',\n",
    "    assemble_with='Line',\n",
    "    accept='text/csv',\n",
    "    max_concurrent_transforms=8,\n",
    "    strategy=\"MultiRecord\",\n",
    "    max_payload=6,\n",
    ")\n",
    "\n",
    "batch_transformer.transform(\n",
    "    train_inputs[0], \n",
    "    content_type='text/csv', \n",
    "    input_filter=None,\n",
    "    join_source=\"Input\",\n",
    "    output_filter='$[0,-11]',\n",
    "    split_type='Line',\n",
    "    wait=True, \n",
    "    logs=True\n",
    ")"
   ]
  },
  {
   "cell_type": "code",
   "execution_count": 44,
   "metadata": {},
   "outputs": [
    {
     "name": "stdout",
     "output_type": "stream",
     "text": [
      "s3://sagemaker-us-east-1-622343165275/DEMO-BATCH-SKLEARN-BYO-2022-09-30-02-02-2022-09-30-02-40-09-748/train.csv.out\n"
     ]
    },
    {
     "data": {
      "text/html": [
       "<div>\n",
       "<style scoped>\n",
       "    .dataframe tbody tr th:only-of-type {\n",
       "        vertical-align: middle;\n",
       "    }\n",
       "\n",
       "    .dataframe tbody tr th {\n",
       "        vertical-align: top;\n",
       "    }\n",
       "\n",
       "    .dataframe thead th {\n",
       "        text-align: right;\n",
       "    }\n",
       "</style>\n",
       "<table border=\"1\" class=\"dataframe\">\n",
       "  <thead>\n",
       "    <tr style=\"text-align: right;\">\n",
       "      <th></th>\n",
       "      <th>0</th>\n",
       "      <th>1</th>\n",
       "    </tr>\n",
       "  </thead>\n",
       "  <tbody>\n",
       "    <tr>\n",
       "      <th>0</th>\n",
       "      <td>1984</td>\n",
       "      <td>380846.0</td>\n",
       "    </tr>\n",
       "    <tr>\n",
       "      <th>1</th>\n",
       "      <td>1987</td>\n",
       "      <td>210669.0</td>\n",
       "    </tr>\n",
       "    <tr>\n",
       "      <th>2</th>\n",
       "      <td>1987</td>\n",
       "      <td>252826.0</td>\n",
       "    </tr>\n",
       "    <tr>\n",
       "      <th>3</th>\n",
       "      <td>1998</td>\n",
       "      <td>435509.0</td>\n",
       "    </tr>\n",
       "    <tr>\n",
       "      <th>4</th>\n",
       "      <td>1984</td>\n",
       "      <td>313808.0</td>\n",
       "    </tr>\n",
       "  </tbody>\n",
       "</table>\n",
       "</div>"
      ],
      "text/plain": [
       "      0         1\n",
       "0  1984  380846.0\n",
       "1  1987  210669.0\n",
       "2  1987  252826.0\n",
       "3  1998  435509.0\n",
       "4  1984  313808.0"
      ]
     },
     "execution_count": 44,
     "metadata": {},
     "output_type": "execute_result"
    }
   ],
   "source": [
    "out_file_name = '{}/train.csv.out'.format(batch_transformer.output_path)\n",
    "print(out_file_name)\n",
    "# - download the file\n",
    "sagemaker.s3.S3Downloader().download(s3_uri=out_file_name, local_path='./data/temp_output', sagemaker_session=sagemaker_session)  \n",
    "output_df2 = pd.read_csv(filepath_or_buffer='./data/temp_output/train.csv.out', header=None)\n",
    "output_df2.head(5)"
   ]
  },
  {
   "cell_type": "code",
   "execution_count": null,
   "metadata": {},
   "outputs": [],
   "source": []
  }
 ],
 "metadata": {
  "instance_type": "ml.t3.medium",
  "kernelspec": {
   "display_name": "conda_amazonei_mxnet_p36",
   "language": "python",
   "name": "conda_amazonei_mxnet_p36"
  },
  "language_info": {
   "codemirror_mode": {
    "name": "ipython",
    "version": 3
   },
   "file_extension": ".py",
   "mimetype": "text/x-python",
   "name": "python",
   "nbconvert_exporter": "python",
   "pygments_lexer": "ipython3",
   "version": "3.6.13"
  }
 },
 "nbformat": 4,
 "nbformat_minor": 4
}
