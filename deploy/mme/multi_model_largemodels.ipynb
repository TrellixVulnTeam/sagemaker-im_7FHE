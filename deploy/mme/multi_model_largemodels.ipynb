{
 "cells": [
  {
   "cell_type": "markdown",
   "id": "65070c1a",
   "metadata": {},
   "source": [
    "# Bring your own container\n",
    "\n",
    "This notebook shows an example of bring your own container. This example leverages the MultiModelServer to host MME and this example \n",
    "can be further modified and adapted to fit your needs\n"
   ]
  },
  {
   "cell_type": "markdown",
   "id": "5925fdbe",
   "metadata": {},
   "source": [
    "# Multi-Model Endpoint - CatBoost\n",
    "\n",
    "This example notebook also showcases how to use a custom container to host multiple CatBoost models on a SageMaker Multi Model Endpoint. The model this notebook deploys is taken from this [CatBoost tutorial](https://github.com/catboost/tutorials/blob/master/python_tutorial_with_tasks.ipynb). \n",
    "\n",
    "We are using this framework as an example to demonstrate deployment and serving using MultiModel Endpoint and showcase the capability. This notebook can be extended to any framework.\n",
    "\n",
    "Catboost is gaining in popularity and is not yet supported as a framework for SageMaker MultiModelEndpoint. Further this example serves to demostrate how to bring your own container to a MultiModelEndpoint\n",
    "\n",
    "In this Notebook we will use identical model to simulate multiple models for loading and inference"
   ]
  },
  {
   "cell_type": "markdown",
   "id": "38b02ffb",
   "metadata": {},
   "source": [
    "## Prerequisites\n",
    "### Packages and Permissions\n",
    "The SageMaker SDK uses the SageMaker default S3 bucket when needed. If the get_execution_role does not return a role with the appropriate permissions, you'll need to specify an IAM role ARN that does. Please make sure the `SageMakerFullAccess` policy is attached to the execution role you are using."
   ]
  },
  {
   "cell_type": "markdown",
   "id": "44783617",
   "metadata": {},
   "source": [
    "## Load model and test local inference\n",
    "Here, install `catboost` to test we can load up the model locally and make inference. \n",
    "\n",
    "We load up the model locally using `CatBoostClassifier()`. `test_data.csv` contains a single row of test inference data."
   ]
  },
  {
   "cell_type": "markdown",
   "id": "29fba226",
   "metadata": {},
   "source": [
    "## Upload tar ball to s3\n"
   ]
  },
  {
   "cell_type": "markdown",
   "id": "caf26ceb",
   "metadata": {},
   "source": [
    "### Create a model tar ball\n",
    "\n",
    "SageMaker requires our model to be packaged in a tar.gz file."
   ]
  },
  {
   "cell_type": "markdown",
   "id": "0218893c",
   "metadata": {},
   "source": [
    "### Upload 100 copies of the model to S3\n",
    "\n",
    "Multi-Model Endpoints require all our models to be in a specific S3 prefix. Here we upload 100 of them to our default bucket. \n",
    "\n",
    "This is a simulation of having 100 different models which we need to use to predict. In reality you would probably have each of these models trained separately"
   ]
  },
  {
   "cell_type": "code",
   "execution_count": null,
   "id": "f882b72d",
   "metadata": {},
   "outputs": [],
   "source": [
    "# Cell 05\n",
    "import sagemaker\n",
    "\n",
    "sess = sagemaker.Session()\n",
    "s3_bucket = sess.default_bucket()  # Replace with your own bucket name if needed\n",
    "print(s3_bucket)\n",
    "import boto3"
   ]
  },
  {
   "cell_type": "markdown",
   "id": "36865e9c",
   "metadata": {},
   "source": [
    "### Upload the model tar balls using boto3 with a unique name"
   ]
  },
  {
   "cell_type": "code",
   "execution_count": null,
   "id": "1ec8a2ab",
   "metadata": {},
   "outputs": [],
   "source": [
    "# Cell 06\n",
    "import boto3\n",
    "\n",
    "s3 = boto3.client(\"s3\")\n",
    "for i in range(0, 140):\n",
    "    with open(\"models/mme_catboost/catboost-model-big.tar.gz\", \"rb\") as f:\n",
    "        s3.upload_fileobj(f, s3_bucket, \"catboost/catboost_large/catboost-model-big-{}.tar.gz\".format(i))\n",
    "\n",
    "print(\"Models:uploaded and ready for use\")"
   ]
  },
  {
   "cell_type": "markdown",
   "id": "a5185600",
   "metadata": {},
   "source": [
    "### List all models in s3 prefix we will use for our Multi-Model Endpoint"
   ]
  },
  {
   "cell_type": "code",
   "execution_count": null,
   "id": "151a0b2c",
   "metadata": {},
   "outputs": [],
   "source": [
    "# Cell 07\n",
    "!aws s3 ls s3://$s3_bucket/catboost/catboost_large/"
   ]
  },
  {
   "cell_type": "markdown",
   "id": "0d7a41ec",
   "metadata": {},
   "source": [
    "## Building the custom container"
   ]
  },
  {
   "cell_type": "markdown",
   "id": "0ad4d28b",
   "metadata": {},
   "source": [
    "The container folder in this example contains 3 files:\n",
    "```\n",
    "├── container\n",
    "│   ├── dockerd-entrypoint.py\n",
    "│   ├── Dockerfile\n",
    "│   └── model_handler.py\n",
    "```\n",
    "\n",
    "- `dockerd-entrypoint.py` is the entry point script that will start the multi model server.\n",
    "- `Dockerfile` contains the container definition that will be used to assemble the image. This includes the packages that need to be installed.\n",
    "- `model_handler.py` is the script that will contain the logic to load up the model and make inference.\n",
    "\n",
    "Take a look through the files to see if there is any customization that you would like to do.\n",
    "Below cells highlight the main part of the files. \n"
   ]
  },
  {
   "cell_type": "markdown",
   "id": "f94f6180",
   "metadata": {},
   "source": [
    "### Install catboost in the `Dockerfile`"
   ]
  },
  {
   "cell_type": "code",
   "execution_count": null,
   "id": "8362a9b7",
   "metadata": {},
   "outputs": [],
   "source": [
    "# Cell 08\n",
    "! sed -n '26,30p' container/Dockerfile"
   ]
  },
  {
   "cell_type": "markdown",
   "id": "22a1cb6f",
   "metadata": {},
   "source": [
    "### Update `initialize` function in `model_handler.py` with logic to load up the model\n",
    "In this case we are using `CatBoostClassifier()`. Feel free to update the loading logic in this function to your needs."
   ]
  },
  {
   "cell_type": "code",
   "execution_count": null,
   "id": "8ba2643a",
   "metadata": {},
   "outputs": [],
   "source": [
    "# Cell 09\n",
    "! sed -n '22,40p' container/model_handler.py"
   ]
  },
  {
   "cell_type": "markdown",
   "id": "abb3b675",
   "metadata": {},
   "source": [
    "### Update `handle` function in `model_handler.py` with logic to load up the model"
   ]
  },
  {
   "cell_type": "code",
   "execution_count": null,
   "id": "7d55b0c2",
   "metadata": {},
   "outputs": [],
   "source": [
    "# Cell 10\n",
    "! sed -n '70,85p' container/model_handler.py"
   ]
  },
  {
   "cell_type": "markdown",
   "id": "c12dba4a",
   "metadata": {},
   "source": [
    "### Build and Push the custom image to ECR\n",
    "\n",
    "**This steps takes atleast 5-6 minutes so please be patient and ignore any \"warnings\" **"
   ]
  },
  {
   "cell_type": "code",
   "execution_count": null,
   "id": "7e247d27",
   "metadata": {},
   "outputs": [],
   "source": [
    "%%sh\n",
    "# Cell 11\n",
    "\n",
    "echo \"Starting Docker Build\"\n",
    "\n",
    "# The name of our algorithm\n",
    "algorithm_name=catboost-sagemaker-multimodel\n",
    "\n",
    "cd container\n",
    "\n",
    "account=$(aws sts get-caller-identity --query Account --output text)\n",
    "\n",
    "# Get the region defined in the current configuration (default to us-east-1 if none defined)\n",
    "region=$(aws configure get region)\n",
    "region=${region:-us-east-1}\n",
    "\n",
    "fullname=\"${account}.dkr.ecr.${region}.amazonaws.com/${algorithm_name}:latest\"\n",
    "\n",
    "echo \"fullname:image=${fullname}\"\n",
    "\n",
    "# If the repository doesn't exist in ECR, create it.\n",
    "aws ecr describe-repositories --repository-names \"${algorithm_name}\" > /dev/null 2>&1\n",
    "\n",
    "if [ $? -ne 0 ]\n",
    "then\n",
    "    aws ecr create-repository --repository-name \"${algorithm_name}\" > /dev/null\n",
    "fi\n",
    "\n",
    "# Get the login command from ECR and execute it directly\n",
    "$(aws ecr get-login --region ${region} --no-include-email)\n",
    "\n",
    "# Build the docker image locally with the image name and then push it to ECR\n",
    "# with the full name.\n",
    "\n",
    "echo \"Starting the Docker Build with ${algorithm_name}\"\n",
    "docker build -q -t ${algorithm_name} .\n",
    "docker tag ${algorithm_name} ${fullname}\n",
    "\n",
    "echo \"Pushing Docker image ${fullname} to ECR \"\n",
    "docker push ${fullname}"
   ]
  },
  {
   "cell_type": "markdown",
   "id": "3783a6d6",
   "metadata": {},
   "source": [
    "### Deploy Multi Model Endpoint"
   ]
  },
  {
   "cell_type": "code",
   "execution_count": null,
   "id": "bff91bb7",
   "metadata": {},
   "outputs": [],
   "source": [
    "# Cell 12\n",
    "from sagemaker import get_execution_role\n",
    "\n",
    "sm_client = boto3.client(service_name=\"sagemaker\")\n",
    "runtime_sm_client = boto3.client(service_name=\"sagemaker-runtime\")\n",
    "\n",
    "account_id = boto3.client(\"sts\").get_caller_identity()[\"Account\"]\n",
    "region = boto3.Session().region_name\n",
    "\n",
    "role = get_execution_role()\n",
    "print(role)"
   ]
  },
  {
   "cell_type": "markdown",
   "id": "0844e1db",
   "metadata": {},
   "source": [
    "### Create the SageMaker Multi-Model"
   ]
  },
  {
   "cell_type": "code",
   "execution_count": null,
   "id": "6db95064",
   "metadata": {},
   "outputs": [],
   "source": [
    "# Cell 13\n",
    "from time import gmtime, strftime\n",
    "\n",
    "model_name = \"catboost-multimodel-\" + strftime(\"%Y-%m-%d-%H-%M-%S\", gmtime())\n",
    "model_url = \"s3://{}/catboost/catboost_large/\".format(s3_bucket)  ## MODEL S3 URL\n",
    "container = \"{}.dkr.ecr.{}.amazonaws.com/catboost-sagemaker-multimodel:latest\".format(\n",
    "    account_id, region\n",
    ")\n",
    "instance_type = \"ml.m5d.4xlarge\" #\"ml.m5.xlarge\"\n",
    "\n",
    "print(\"Model name: \" + model_name)\n",
    "print(\"Model data Url: \" + model_url)\n",
    "print(\"Container image: \" + container)\n",
    "\n",
    "container = {\"Image\": container, \"ModelDataUrl\": model_url, \"Mode\": \"MultiModel\"}\n",
    "\n",
    "create_model_response = sm_client.create_model(\n",
    "    ModelName=model_name, ExecutionRoleArn=role, Containers=[container]\n",
    ")\n",
    "\n",
    "print(\"Model ARN: \" + create_model_response[\"ModelArn\"])"
   ]
  },
  {
   "cell_type": "markdown",
   "id": "7d2ab926",
   "metadata": {},
   "source": [
    "### Create the SageMaker Endpoint Configuration\n"
   ]
  },
  {
   "cell_type": "code",
   "execution_count": null,
   "id": "a7ca5384",
   "metadata": {},
   "outputs": [],
   "source": [
    "# Cell 14\n",
    "endpoint_config_name = \"catboost-multimodel-config\" + strftime(\"%Y-%m-%d-%H-%M-%S\", gmtime())\n",
    "print(\"Endpoint config name: \" + endpoint_config_name)\n",
    "\n",
    "create_endpoint_config_response = sm_client.create_endpoint_config(\n",
    "    EndpointConfigName=endpoint_config_name,\n",
    "    ProductionVariants=[\n",
    "        {\n",
    "            \"InstanceType\": instance_type,\n",
    "            \"InitialInstanceCount\": 1,\n",
    "            \"InitialVariantWeight\": 1,\n",
    "            \"ModelName\": model_name,\n",
    "            \"VariantName\": \"AllTraffic\",\n",
    "        }\n",
    "    ],\n",
    ")\n",
    "\n",
    "print(\"Endpoint config ARN: \" + create_endpoint_config_response[\"EndpointConfigArn\"])"
   ]
  },
  {
   "cell_type": "markdown",
   "id": "a3d19016",
   "metadata": {},
   "source": [
    "### Create the SageMaker Multi-Model Endpoint\n",
    "\n",
    "**This step will take a couple of minutes**"
   ]
  },
  {
   "cell_type": "code",
   "execution_count": null,
   "id": "07ce403b",
   "metadata": {},
   "outputs": [],
   "source": [
    "%%time\n",
    "# Cell 15\n",
    "\n",
    "import time\n",
    "\n",
    "endpoint_name = \"catboost-multimodel-endpoint-\" + strftime(\"%Y-%m-%d-%H-%M-%S\", gmtime())\n",
    "print(\"Endpoint name: \" + endpoint_name)\n",
    "\n",
    "create_endpoint_response = sm_client.create_endpoint(\n",
    "    EndpointName=endpoint_name, EndpointConfigName=endpoint_config_name\n",
    ")\n",
    "print(\"Endpoint Arn: \" + create_endpoint_response[\"EndpointArn\"])\n",
    "\n",
    "resp = sm_client.describe_endpoint(EndpointName=endpoint_name)\n",
    "status = resp[\"EndpointStatus\"]\n",
    "print(\"Endpoint Status: \" + status)\n",
    "\n",
    "print(\"Waiting for {} endpoint to be in service...\".format(endpoint_name))\n",
    "waiter = sm_client.get_waiter(\"endpoint_in_service\")\n",
    "waiter.wait(EndpointName=endpoint_name)\n",
    "\n",
    "print(\"Created {} endpoint is in Service and read to invoke ...\".format(endpoint_name))"
   ]
  },
  {
   "cell_type": "markdown",
   "id": "b36983db",
   "metadata": {},
   "source": [
    "### Invoke each of the 100 models\n",
    "We have identical models here to simulate multiple models belonging to the same framework"
   ]
  },
  {
   "cell_type": "code",
   "execution_count": null,
   "id": "d60fbfc5",
   "metadata": {},
   "outputs": [],
   "source": [
    "endpoint_name='catboost-multimodel-endpoint-2022-10-17-23-54-27'"
   ]
  },
  {
   "cell_type": "code",
   "execution_count": null,
   "id": "ed124f61",
   "metadata": {},
   "outputs": [],
   "source": [
    "import pandas as pd\n",
    "continue_var = ['I' + str(i) for i in range(1, 14)]\n",
    "cat_features = ['C' + str(i) for i in range(1,27)]\n",
    "col_names = ['Label'] + continue_var + cat_features\n",
    "\n",
    "# \"./data/mme_catboost/test_data.csv\")\n",
    "test_data_set_end_point = pd.read_csv('./data/mme_catboost/dac_sample_small.txt', sep='\\t', names=col_names).fillna(0)\n",
    "test_data_set_end_point = test_data_set_end_point.iloc[:, 1:] # remove the LABEL for predictions \n",
    "\n",
    "payload=test_data_set_end_point.to_csv(index=False)\n",
    "len(payload)"
   ]
  },
  {
   "cell_type": "code",
   "execution_count": null,
   "id": "c20ea158",
   "metadata": {},
   "outputs": [],
   "source": [
    "test_data_set_end_point"
   ]
  },
  {
   "cell_type": "markdown",
   "id": "575f07a8",
   "metadata": {},
   "source": [
    "#### Invoke 1 model to sanity check the end point"
   ]
  },
  {
   "cell_type": "code",
   "execution_count": null,
   "id": "da06ca39",
   "metadata": {},
   "outputs": [],
   "source": [
    "%%time\n",
    "import json\n",
    "from datetime import datetime\n",
    "start_time = datetime.now()\n",
    "time_delta = (datetime.now()-start_time).total_seconds() * 1000 \n",
    "time_delta = \"{:.2f}\".format(time_delta)\n",
    "response = runtime_sm_client.invoke_endpoint(\n",
    "        EndpointName=endpoint_name,\n",
    "        TargetModel=\"catboost-model-big-1.tar.gz\",\n",
    "        Body=payload, #df.to_csv(index=False),\n",
    ")\n",
    "print(f'Time:in:ms:={time_delta}')\n",
    "json.loads(response[\"Body\"].read().decode(\"utf-8\"))"
   ]
  },
  {
   "cell_type": "code",
   "execution_count": null,
   "id": "b8cee662",
   "metadata": {},
   "outputs": [],
   "source": [
    "%%time\n",
    "# Cell 16\n",
    "from datetime import datetime\n",
    "import time\n",
    "for i in range(0, 140):\n",
    "    start_time = datetime.now()\n",
    "    response = runtime_sm_client.invoke_endpoint(\n",
    "        EndpointName=endpoint_name,\n",
    "        TargetModel=\"catboost-model-big-{}.tar.gz\".format(i),\n",
    "        Body=payload, #df.to_csv(index=False),\n",
    "    )\n",
    "    time_delta = (datetime.now()-start_time).total_seconds() * 1000 \n",
    "    time_delta = \"{:.2f}\".format(time_delta)\n",
    "    print(f'Time={time_delta}')\n",
    "    #print(f'Time={time_delta} --- > ::{json.loads(response[\"Body\"].read().decode(\"utf-8\"))}')"
   ]
  },
  {
   "cell_type": "code",
   "execution_count": null,
   "id": "a149f0e8",
   "metadata": {},
   "outputs": [],
   "source": [
    "def _invoke_endpoint(i):\n",
    "    target_model = \"catboost-model-big-{}.tar.gz\".format(i)\n",
    "    response = runtime_sm_client.invoke_endpoint(\n",
    "            EndpointName=endpoint_name,\n",
    "            TargetModel=target_model,\n",
    "            Body=payload)\n",
    "    print(target_model)\n",
    "    result = json.loads(response[\"Body\"].read().decode(\"utf-8\")) # json.loads(response[‘Body’].read())\n",
    "    return result\n"
   ]
  },
  {
   "cell_type": "code",
   "execution_count": null,
   "id": "daab1148",
   "metadata": {},
   "outputs": [],
   "source": [
    "args = list(range(0,140))"
   ]
  },
  {
   "cell_type": "code",
   "execution_count": null,
   "id": "c38d9ba3",
   "metadata": {},
   "outputs": [],
   "source": [
    "_invoke_endpoint(1)"
   ]
  },
  {
   "cell_type": "code",
   "execution_count": null,
   "id": "999203b5",
   "metadata": {},
   "outputs": [],
   "source": [
    "64g -- 16 vCPU -- MODELS -- 179 mb  x 140 = 25200 mb  -- 25G < 64G hence no queue and no thrashing \n",
    "\n",
    "Largest is 600 MB -- \n",
    "Sum of all cells is 9.5 GB without the largest 2 models -- \n",
    "\n",
    "-- sequentially no errors if pre warmed  --\n",
    "ModuleNotFoundError(\"\"No module named 'faiss.swigfaiss_avx2'\"\")\""
   ]
  },
  {
   "cell_type": "code",
   "execution_count": null,
   "id": "516ef55d",
   "metadata": {},
   "outputs": [],
   "source": [
    "os.cpu_count()"
   ]
  },
  {
   "cell_type": "code",
   "execution_count": null,
   "id": "638dffa2",
   "metadata": {},
   "outputs": [],
   "source": [
    "%%time\n",
    "import os\n",
    "import concurrent.futures\n",
    "with concurrent.futures.ProcessPoolExecutor(max_workers=os.cpu_count()) as executor:\n",
    "    _ = executor.map(_invoke_endpoint, args)"
   ]
  },
  {
   "cell_type": "code",
   "execution_count": null,
   "id": "20cd4281",
   "metadata": {},
   "outputs": [],
   "source": [
    "%%time\n",
    "import os\n",
    "import concurrent.futures\n",
    "with concurrent.futures.ThreadPoolExecutor(max_workers=os.cpu_count()) as executor:\n",
    "    _ = executor.map(_invoke_endpoint, args)"
   ]
  },
  {
   "cell_type": "markdown",
   "id": "535a1167",
   "metadata": {},
   "source": [
    "### Invoke just one of models 1000 times \n",
    "Since the models are in memory and loaded, these invocations should not have any latency \n"
   ]
  },
  {
   "cell_type": "code",
   "execution_count": null,
   "id": "164d2b69",
   "metadata": {},
   "outputs": [],
   "source": [
    "# Cell 17\n",
    "import numpy as np\n",
    "\n",
    "print(\"Starting invocation for model::catboost-model-1.tar.gz, please wait ...\")\n",
    "results = []\n",
    "for i in range(0, 100):\n",
    "    start = time.time()\n",
    "    response = runtime_sm_client.invoke_endpoint(\n",
    "        EndpointName=endpoint_name,\n",
    "        TargetModel=\"catboost-model-big-1.tar.gz\",\n",
    "        Body=payload# df.to_csv(index=False),\n",
    "    )\n",
    "    results.append((time.time() - start) * 1000)\n",
    "print(\"\\nPredictions for model latency: \\n\")\n",
    "print(\"\\nP95: \" + str(np.percentile(results, 95)) + \" ms\\n\")\n",
    "print(\"P90: \" + str(np.percentile(results, 90)) + \" ms\\n\")\n",
    "print(\"Average: \" + str(np.average(results)) + \" ms\\n\")"
   ]
  },
  {
   "cell_type": "code",
   "execution_count": null,
   "id": "2fd6c748",
   "metadata": {},
   "outputs": [],
   "source": []
  },
  {
   "cell_type": "markdown",
   "id": "81a0fdbf",
   "metadata": {
    "pycharm": {
     "name": "#%% md\n"
    }
   },
   "source": [
    "## Optional Clean up\n",
    "Clean up and delete the end point"
   ]
  },
  {
   "cell_type": "code",
   "execution_count": null,
   "id": "9456fae1",
   "metadata": {
    "pycharm": {
     "name": "#%%\n"
    }
   },
   "outputs": [],
   "source": [
    "# delete the end point\n",
    "# Cell 18\n",
    "\n",
    "sm_client.delete_endpoint(EndpointName=endpoint_name)"
   ]
  },
  {
   "cell_type": "code",
   "execution_count": null,
   "id": "240c4459",
   "metadata": {},
   "outputs": [],
   "source": []
  }
 ],
 "metadata": {
  "kernelspec": {
   "display_name": "conda_pytorch_p38",
   "language": "python",
   "name": "conda_pytorch_p38"
  },
  "language_info": {
   "codemirror_mode": {
    "name": "ipython",
    "version": 3
   },
   "file_extension": ".py",
   "mimetype": "text/x-python",
   "name": "python",
   "nbconvert_exporter": "python",
   "pygments_lexer": "ipython3",
   "version": "3.8.12"
  }
 },
 "nbformat": 4,
 "nbformat_minor": 5
}
