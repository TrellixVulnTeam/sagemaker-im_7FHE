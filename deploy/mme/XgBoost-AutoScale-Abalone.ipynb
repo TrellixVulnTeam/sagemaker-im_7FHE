{
 "cells": [
  {
   "cell_type": "markdown",
   "id": "43b7cb2b",
   "metadata": {},
   "source": [
    "# XGBoost AutoScaling Example\n",
    "\n",
    "Amazon SageMaker supports automatic scaling (autoscaling) for your hosted models. Autoscaling dynamically adjusts the number of instances provisioned for a model in response to changes in your workload. When the workload increases, autoscaling brings more instances online. When the workload decreases, autoscaling removes unnecessary instances so that you don't pay for provisioned instances that you aren't using.\n",
    "\n",
    "**Define a scaling policy**\n",
    "\n",
    "\n",
    "To specify the metrics and target values for a scaling policy, you configure a target-tracking scaling policy. You can use either a predefined metric or a custom metric.\n",
    "\n",
    "Scaling policy configuration is represented by a JSON block. You save your scaling policy configuration as a JSON block in a text file. You use that text file when invoking the AWS CLI or the Application Auto Scaling API. For more information about policy configuration syntax, see TargetTrackingScalingPolicyConfiguration in the Application Auto Scaling API Reference.\n",
    "\n",
    "The following options are available for defining a target-tracking scaling policy configuration.\n",
    "\n",
    "\n",
    "**Use a predefined metric**\n",
    "\n",
    "To quickly define a target-tracking scaling policy for a variant, use the SageMakerVariantInvocationsPerInstance predefined metric. SageMakerVariantInvocationsPerInstance is the average number of times per minute that each instance for a variant is invoked. We strongly recommend using this metric.\n",
    "\n",
    "To use a predefined metric in a scaling policy, create a target tracking configuration for your policy. In the target tracking configuration, include a PredefinedMetricSpecification for the predefined metric and a TargetValue for the target value of that metric.\n",
    "\n",
    "**Use a custom metric**\n",
    "\n",
    "If you need to define a target-tracking scaling policy that meets your custom requirements, define a custom metric. You can define a custom metric based on any production variant metric that changes in proportion to scaling.\n",
    "\n",
    "Not all SageMaker metrics work for target tracking. The metric must be a valid utilization metric, and it must describe how busy an instance is. The value of the metric must increase or decrease in inverse proportion to the number of variant instances. That is, the value of the metric should decrease when the number of instances increases.\n"
   ]
  },
  {
   "cell_type": "markdown",
   "id": "a85d5afe",
   "metadata": {},
   "source": [
    "## Start Lab 1 Prepare Real time End point for Bring Your Own Model"
   ]
  },
  {
   "cell_type": "code",
   "execution_count": 1,
   "id": "246190b2",
   "metadata": {},
   "outputs": [
    {
     "name": "stdout",
     "output_type": "stream",
     "text": [
      "sagemaker-us-east-1-622343165275\n"
     ]
    }
   ],
   "source": [
    "# Cell 01\n",
    "\n",
    "import boto3\n",
    "import sagemaker\n",
    "from sagemaker.estimator import Estimator\n",
    "\n",
    "boto_session = boto3.session.Session()\n",
    "region = boto_session.region_name\n",
    "\n",
    "sagemaker_session = sagemaker.Session()\n",
    "base_job_prefix = 'xgboost-example'\n",
    "role = sagemaker.get_execution_role()\n",
    "\n",
    "default_bucket = sagemaker_session.default_bucket()\n",
    "s3_prefix = base_job_prefix\n",
    "\n",
    "training_instance_type = 'ml.m5.xlarge'\n",
    "\n",
    "BUCKET=sagemaker_session.default_bucket()\n",
    "print(BUCKET)"
   ]
  },
  {
   "cell_type": "markdown",
   "id": "a3a0c416",
   "metadata": {},
   "source": [
    "## Download Data and Prepare Training Input in S3"
   ]
  },
  {
   "cell_type": "code",
   "execution_count": 3,
   "id": "383dc42e",
   "metadata": {},
   "outputs": [
    {
     "name": "stdout",
     "output_type": "stream",
     "text": [
      "download: s3://sagemaker-sample-files/datasets/tabular/uci_abalone/train_csv/abalone_dataset1_train.csv to ./abalone_dataset1_train.csv\n"
     ]
    }
   ],
   "source": [
    "# Cell 02\n",
    "!aws s3 cp s3://sagemaker-sample-files/datasets/tabular/uci_abalone/train_csv/abalone_dataset1_train.csv .  \n",
    "    "
   ]
  },
  {
   "cell_type": "code",
   "execution_count": 4,
   "id": "36cf6d4a",
   "metadata": {},
   "outputs": [
    {
     "name": "stdout",
     "output_type": "stream",
     "text": [
      "upload: ./abalone_dataset1_train.csv to s3://sagemaker-us-east-1-622343165275/xgboost-regression/train.csv\n"
     ]
    }
   ],
   "source": [
    "# Cell 03\n",
    "!aws s3 cp abalone_dataset1_train.csv s3://{default_bucket}/xgboost-regression/train.csv  \n",
    "    "
   ]
  },
  {
   "cell_type": "markdown",
   "id": "76bb2eec",
   "metadata": {},
   "source": [
    "## Retrieve XGBoost Image and Prepare Training Estimator W/ HyperParameters"
   ]
  },
  {
   "cell_type": "code",
   "execution_count": 5,
   "id": "b68f1a66",
   "metadata": {},
   "outputs": [],
   "source": [
    "# Cell 04\n",
    "model_path = f's3://{default_bucket}/{s3_prefix}/xgb_model'\n",
    "\n",
    "image_uri = sagemaker.image_uris.retrieve(\n",
    "    framework=\"xgboost\",\n",
    "    region=region,\n",
    "    version=\"1.0-1\",\n",
    "    py_version=\"py3\",\n",
    "    instance_type=training_instance_type,\n",
    ")\n",
    "\n"
   ]
  },
  {
   "cell_type": "markdown",
   "id": "f7f2318c",
   "metadata": {},
   "source": [
    "## Upload the Model for real time to S3"
   ]
  },
  {
   "cell_type": "code",
   "execution_count": 6,
   "id": "f47a8d41",
   "metadata": {},
   "outputs": [
    {
     "data": {
      "text/plain": [
       "'s3://sagemaker-us-east-1-622343165275/models/realtime/model.tar.gz'"
      ]
     },
     "execution_count": 6,
     "metadata": {},
     "output_type": "execute_result"
    }
   ],
   "source": [
    "# Cell 05\n",
    "model_artifacts = sagemaker.s3.S3Uploader().upload(\n",
    "    \n",
    "    local_path='./models/realtime/model.tar.gz',\n",
    "    desired_s3_uri=f\"s3://{BUCKET}/models/realtime\",\n",
    ")\n",
    "model_artifacts"
   ]
  },
  {
   "cell_type": "code",
   "execution_count": 7,
   "id": "c3dcbd9b",
   "metadata": {},
   "outputs": [
    {
     "data": {
      "text/plain": [
       "'s3://sagemaker-us-east-1-622343165275/models/realtime/model.tar.gz'"
      ]
     },
     "execution_count": 7,
     "metadata": {},
     "output_type": "execute_result"
    }
   ],
   "source": [
    "# Cell 06\n",
    "model_artifacts"
   ]
  },
  {
   "cell_type": "markdown",
   "id": "a6854823",
   "metadata": {},
   "source": [
    "## Create SM Client to Create Model, EP Config, EP"
   ]
  },
  {
   "cell_type": "code",
   "execution_count": 8,
   "id": "81de7b0e",
   "metadata": {},
   "outputs": [],
   "source": [
    "# Cell 07\n",
    "sm_client = boto3.client(service_name='sagemaker')"
   ]
  },
  {
   "cell_type": "markdown",
   "id": "b85c2d83",
   "metadata": {},
   "source": [
    "## Model Creation"
   ]
  },
  {
   "cell_type": "code",
   "execution_count": 9,
   "id": "ab37957c",
   "metadata": {},
   "outputs": [
    {
     "name": "stdout",
     "output_type": "stream",
     "text": [
      "Model name: xgboost-uploaded2022-10-01-18-43-57\n",
      "Model Arn: arn:aws:sagemaker:us-east-1:622343165275:model/xgboost-uploaded2022-10-01-18-43-57\n"
     ]
    }
   ],
   "source": [
    "# Cell 08\n",
    "from time import gmtime, strftime\n",
    "model_name = 'xgboost-uploaded' + strftime(\"%Y-%m-%d-%H-%M-%S\", gmtime())\n",
    "print('Model name: ' + model_name)\n",
    "\n",
    "reference_container = {\n",
    "    \"Image\": image_uri,\n",
    "    \"ModelDataUrl\": model_artifacts\n",
    "}\n",
    "\n",
    "create_model_response = sm_client.create_model(\n",
    "    ModelName = model_name,\n",
    "    ExecutionRoleArn = role,\n",
    "    PrimaryContainer= reference_container)\n",
    "\n",
    "print(\"Model Arn: \" + create_model_response['ModelArn'])"
   ]
  },
  {
   "cell_type": "markdown",
   "id": "54e89d37",
   "metadata": {},
   "source": [
    "## Endpoint Config Creation"
   ]
  },
  {
   "cell_type": "code",
   "execution_count": 10,
   "id": "6be65c32",
   "metadata": {},
   "outputs": [
    {
     "name": "stdout",
     "output_type": "stream",
     "text": [
      "Endpoint config name: xgboost-config2022-10-01-18-44-05\n",
      "Endpoint config Arn: arn:aws:sagemaker:us-east-1:622343165275:endpoint-config/xgboost-config2022-10-01-18-44-05\n"
     ]
    }
   ],
   "source": [
    "# Cell 09\n",
    "endpoint_config_name = 'xgboost-config' + strftime(\"%Y-%m-%d-%H-%M-%S\", gmtime())\n",
    "instance_type='ml.m4.xlarge'\n",
    "print('Endpoint config name: ' + endpoint_config_name)\n",
    "\n",
    "create_endpoint_config_response = sm_client.create_endpoint_config(\n",
    "    EndpointConfigName = endpoint_config_name,\n",
    "    ProductionVariants=[{\n",
    "        'InstanceType': instance_type,\n",
    "        'InitialInstanceCount': 1,\n",
    "        'InitialVariantWeight': 1,\n",
    "        'ModelName': model_name,\n",
    "        'VariantName': 'AllTraffic',\n",
    "        }])\n",
    "\n",
    "print(\"Endpoint config Arn: \" + create_endpoint_config_response['EndpointConfigArn'])"
   ]
  },
  {
   "cell_type": "markdown",
   "id": "b751d1c1",
   "metadata": {},
   "source": [
    "## Endpoint Creation"
   ]
  },
  {
   "cell_type": "code",
   "execution_count": null,
   "id": "ce40bb94",
   "metadata": {},
   "outputs": [
    {
     "name": "stdout",
     "output_type": "stream",
     "text": [
      "Endpoint name: xgboost-uploaded2022-10-01-18-44-15\n",
      "Endpoint Arn: arn:aws:sagemaker:us-east-1:622343165275:endpoint/xgboost-uploaded2022-10-01-18-44-15\n",
      "Endpoint Status: Creating\n",
      "Waiting for xgboost-uploaded2022-10-01-18-44-15 endpoint to be in service...\n"
     ]
    }
   ],
   "source": [
    "%%time\n",
    "# Cell 010\n",
    "\n",
    "import time\n",
    "\n",
    "endpoint_name = 'xgboost-uploaded' + strftime(\"%Y-%m-%d-%H-%M-%S\", gmtime())\n",
    "print('Endpoint name: ' + endpoint_name)\n",
    "\n",
    "create_endpoint_response = sm_client.create_endpoint(\n",
    "    EndpointName=endpoint_name,\n",
    "    EndpointConfigName=endpoint_config_name)\n",
    "print('Endpoint Arn: ' + create_endpoint_response['EndpointArn'])\n",
    "\n",
    "resp = sm_client.describe_endpoint(EndpointName=endpoint_name)\n",
    "status = resp['EndpointStatus']\n",
    "print(\"Endpoint Status: \" + status)\n",
    "\n",
    "print('Waiting for {} endpoint to be in service...'.format(endpoint_name))\n",
    "waiter = sm_client.get_waiter('endpoint_in_service')\n",
    "waiter.wait(EndpointName=endpoint_name)"
   ]
  },
  {
   "cell_type": "markdown",
   "id": "48ac9ee1",
   "metadata": {},
   "source": [
    "## Sample Invocation"
   ]
  },
  {
   "cell_type": "code",
   "execution_count": null,
   "id": "5439ab34",
   "metadata": {},
   "outputs": [],
   "source": [
    "# Cell 011\n",
    "import boto3\n",
    "smr = boto3.client('sagemaker-runtime')\n",
    "\n",
    "resp = smr.invoke_endpoint(EndpointName=endpoint_name, Body=b'.345,0.224414,.131102,0.042329,.279923,-0.110329,-0.099358,0.0', \n",
    "                           ContentType='text/csv')\n",
    "\n",
    "print(resp['Body'].read())"
   ]
  },
  {
   "cell_type": "markdown",
   "id": "c04d3eff",
   "metadata": {},
   "source": [
    "## END LAB 1"
   ]
  },
  {
   "cell_type": "code",
   "execution_count": null,
   "id": "35b67d55",
   "metadata": {},
   "outputs": [],
   "source": [
    "# Cell 012\n",
    "print(\"Excellent you have created a Real time end point with your own Model\")"
   ]
  },
  {
   "cell_type": "markdown",
   "id": "a0c80d09",
   "metadata": {},
   "source": [
    "## START Lab 2"
   ]
  },
  {
   "cell_type": "markdown",
   "id": "d473473b",
   "metadata": {},
   "source": [
    "## AutoScaling SageMaker Real-Time Endpoint\n",
    "\n",
    "Here we define a scaling policy based off of invocations per instance. We set the maximum instance count to 4. We can define this using the Boto3 SDK. There's different types of scaling policies: Simple Scaling, Target Tracking Scaling, Step Scaling, Scheduled Scaling, and On-Demand Scaling. For this we'll be using Target Tracking Scaling and be using the Invocations Per Instance Metric as the basis for scaling.\n",
    "\n",
    "This cell below is an example of the various Scaling options available"
   ]
  },
  {
   "cell_type": "raw",
   "id": "9cfa576e",
   "metadata": {},
   "source": [
    "\n",
    "# scaling configuration\n",
    "response = asg.register_scalable_target(\n",
    "    ServiceNamespace='sagemaker', #\n",
    "    ResourceId=resource_id,\n",
    "    ScalableDimension='sagemaker:variant:DesiredInstanceCount', \n",
    "    MinCapacity=1,\n",
    "    MaxCapacity=4\n",
    ")\n",
    "\n",
    "#Target Scaling\n",
    "response = asg.put_scaling_policy(\n",
    "    PolicyName=f'Request-ScalingPolicy-{endpoint_name}',\n",
    "    ServiceNamespace='sagemaker',\n",
    "    ResourceId=resource_id,\n",
    "    ScalableDimension='sagemaker:variant:DesiredInstanceCount',\n",
    "    PolicyType='TargetTrackingScaling',\n",
    "    TargetTrackingScalingPolicyConfiguration={\n",
    "        'TargetValue': 1.0, # Threshold\n",
    "        'PredefinedMetricSpecification': {\n",
    "            'PredefinedMetricType': 'SageMakerVariantInvocationsPerInstance',\n",
    "        },\n",
    "        'ScaleInCooldown': 300, # duration until scale in\n",
    "        'ScaleOutCooldown': 30 # duration between scale out\n",
    "    }\n",
    ")\n",
    "print(\"Auto:scaling:created:\")\n",
    "\n",
    "#Example 2 - CPUUtilization metric\n",
    "response = asg.put_scaling_policy(\n",
    "    PolicyName='SagemakerEndpointInvocationScalingPolicy1',\n",
    "    ServiceNamespace='sagemaker',\n",
    "    ResourceId=resource_id,\n",
    "    ScalableDimension='sagemaker:variant:DesiredInstanceCount',\n",
    "    PolicyType='TargetTrackingScaling',\n",
    "    TargetTrackingScalingPolicyConfiguration={\n",
    "            \"TargetValue\": 40,\n",
    "            \"CustomizedMetricSpecification\":\n",
    "            {\n",
    "                \"MetricName\": \"CPUUtilization\",\n",
    "                \"Namespace\": \"/aws/sagemaker/Endpoints\",\n",
    "                \"Dimensions\": [\n",
    "                    {\"Name\": \"EndpointName\", \"Value\": endpoint_name },\n",
    "                    {\"Name\": \"VariantName\",\"Value\": \"AllTraffic\"}\n",
    "        ],\n",
    "            \"Statistic\": \"Average\",\n",
    "            \"Unit\": \"Percent\"\n",
    "        },\n",
    "        \"DisableScaleIn\": True,\n",
    "   }\n",
    ")\n",
    "print(f\"CPU utilization scaling created: {response}\")\n",
    "\n",
    "\n",
    "#Example 3 - OverheadLatency metric and StepScaling Policy\n",
    "response = asg.put_scaling_policy(\n",
    "    PolicyName='OverheadLatency-ScalingPolicy',\n",
    "    ServiceNamespace='sagemaker',\n",
    "    ResourceId=resource_id,\n",
    "    ScalableDimension='sagemaker:variant:DesiredInstanceCount',\n",
    "    PolicyType='StepScaling', \n",
    "    StepScalingPolicyConfiguration={\n",
    "        'AdjustmentType': 'ChangeInCapacity', # 'PercentChangeInCapacity'|'ExactCapacity' Specifies whether the ScalingAdjustment value in a StepAdjustment \n",
    "                                              # is an absolute number or a percentage of the current capacity.\n",
    "        'StepAdjustments': [ # A set of adjustments that enable you to scale based on the size of the alarm breach.\n",
    "            {\n",
    "                'MetricIntervalLowerBound': 0.0, # The lower bound for the difference between the alarm threshold and the CloudWatch metric.\n",
    "                 # 'MetricIntervalUpperBound': 100.0, # The upper bound for the difference between the alarm threshold and the CloudWatch metric.\n",
    "                'ScalingAdjustment': 1 # The amount by which to scale, based on the specified adjustment type. \n",
    "                                       # A positive value adds to the current capacity while a negative number removes from the current capacity.\n",
    "            },\n",
    "        ],\n",
    "        # 'MinAdjustmentMagnitude': 1, # The minimum number of instances to scale. - only for 'PercentChangeInCapacity'\n",
    "        'Cooldown': 120,\n",
    "        'MetricAggregationType': 'Average', # 'Minimum'|'Maximum'\n",
    "    }\n",
    ")\n",
    "print(f\"Step:Scaling:created:{response}:\")"
   ]
  },
  {
   "cell_type": "code",
   "execution_count": null,
   "id": "46b90cfd",
   "metadata": {},
   "outputs": [],
   "source": [
    "# Cell 013\n",
    "# AutoScaling client\n",
    "asg = boto3.client('application-autoscaling')\n",
    "\n",
    "# Resource type is variant and the unique identifier is the resource ID.\n",
    "resource_id=f\"endpoint/{endpoint_name}/variant/AllTraffic\"\n",
    "\n",
    "# scaling configuration\n",
    "response = asg.register_scalable_target(\n",
    "    ServiceNamespace='sagemaker', #\n",
    "    ResourceId=resource_id,\n",
    "    ScalableDimension='sagemaker:variant:DesiredInstanceCount', \n",
    "    MinCapacity=1,\n",
    "    MaxCapacity=3\n",
    ")\n",
    "print(f\"registered:scalable:{response}::\")\n"
   ]
  },
  {
   "cell_type": "code",
   "execution_count": null,
   "id": "5b3e121a",
   "metadata": {},
   "outputs": [],
   "source": [
    "# Cell 014\n",
    "# scaling configuration\n",
    "asg.describe_scaling_policies(\n",
    "    ServiceNamespace='sagemaker', #\n",
    "    ResourceId=resource_id,\n",
    "    ScalableDimension='sagemaker:variant:DesiredInstanceCount', \n",
    ")\n"
   ]
  },
  {
   "cell_type": "code",
   "execution_count": null,
   "id": "e2d5c67a",
   "metadata": {},
   "outputs": [],
   "source": [
    "# Cell 015\n",
    "# scaling activities - should be nothing since we do not have any alarms triggered\n",
    "asg.describe_scaling_activities(\n",
    "    ServiceNamespace='sagemaker', #\n",
    "    ResourceId=resource_id,\n",
    "    ScalableDimension='sagemaker:variant:DesiredInstanceCount', \n",
    ")"
   ]
  },
  {
   "cell_type": "code",
   "execution_count": null,
   "id": "6e293a78",
   "metadata": {},
   "outputs": [],
   "source": [
    "# Cell 016\n",
    "\n",
    "# Target Scaling for keeping Invocations per instance to be a threshold\n",
    "response = asg.put_scaling_policy(\n",
    "    PolicyName='SagemakerEndpointInvocationScalingPolicy',\n",
    "    ServiceNamespace='sagemaker',\n",
    "    ResourceId=resource_id,\n",
    "    ScalableDimension='sagemaker:variant:DesiredInstanceCount',\n",
    "    PolicyType='TargetTrackingScaling',\n",
    "    TargetTrackingScalingPolicyConfiguration={\n",
    "        'PredefinedMetricSpecification': {\n",
    "            \"PredefinedMetricType\": \"SageMakerVariantInvocationsPerInstance\",\n",
    "        },\n",
    "        'TargetValue': 0.5, # Threshold\n",
    "        'ScaleOutCooldown': 30, # duration between scale out\n",
    "        \"DisableScaleIn\": True\n",
    "    }\n",
    ")\n",
    "print(f\"Target invocations created: {response}\")\n"
   ]
  },
  {
   "cell_type": "code",
   "execution_count": null,
   "id": "555ebb58",
   "metadata": {},
   "outputs": [],
   "source": [
    "# Cell 017\n",
    "from threading import Thread\n",
    "import time\n",
    "invoke_endpoint=True\n",
    "\n",
    "def invoke_endpoint_forever():\n",
    "    smr_local = boto3.client('sagemaker-runtime')\n",
    "    while invoke_endpoint:\n",
    "        try:\n",
    "            resp = smr_local.invoke_endpoint(\n",
    "                EndpointName=endpoint_name, \n",
    "                Body=b'.345,0.224414,.131102,0.042329,.279923,-0.110329,-0.099358,0.0', \n",
    "                ContentType='text/csv')\n",
    "            time.sleep(0.0005)\n",
    "\n",
    "        except:\n",
    "            pass\n",
    "\n",
    "\n"
   ]
  },
  {
   "cell_type": "code",
   "execution_count": null,
   "id": "bfe2d330",
   "metadata": {},
   "outputs": [],
   "source": [
    "# Cell 018\n",
    "# - Thread 1\n",
    "thread1 = Thread(target=invoke_endpoint_forever)\n",
    "thread1.start()\n",
    "\n",
    "# - Thread 2\n",
    "thread2 = Thread(target=invoke_endpoint_forever)\n",
    "thread2.start()\n"
   ]
  },
  {
   "cell_type": "code",
   "execution_count": null,
   "id": "28cd1901",
   "metadata": {},
   "outputs": [],
   "source": [
    "# Cell 019\n",
    "request_duration = 250\n",
    "end_time = time.time() + request_duration\n",
    "print(f\"test will run for {request_duration} seconds\")\n",
    "while time.time() < end_time:\n",
    "    resp = smr.invoke_endpoint(EndpointName=endpoint_name, Body=b'.345,0.224414,.131102,0.042329,.279923,-0.110329,-0.099358,0.0', \n",
    "                           ContentType='text/csv')\n",
    "    \n",
    "print(\"Test finished:time to look at stats\")"
   ]
  },
  {
   "cell_type": "code",
   "execution_count": null,
   "id": "abd42569",
   "metadata": {},
   "outputs": [],
   "source": [
    "# Cell 020\n",
    "# scaling configuration\n",
    "asg.describe_scaling_activities(\n",
    "    ServiceNamespace='sagemaker', #\n",
    "    ResourceId=resource_id,\n",
    "    ScalableDimension='sagemaker:variant:DesiredInstanceCount', \n",
    ")"
   ]
  },
  {
   "cell_type": "markdown",
   "id": "95162006",
   "metadata": {},
   "source": [
    "We can monitor these invocations through CloudWatch which you can access through the SageMaker console."
   ]
  },
  {
   "cell_type": "markdown",
   "id": "89f6bbfd",
   "metadata": {},
   "source": [
    "We can zoom in to monitor the InvocationsPerInstance metric more."
   ]
  },
  {
   "cell_type": "markdown",
   "id": "33b682b7",
   "metadata": {},
   "source": [
    "<img src='./images/AutoScale1.png' width=\"900\" height=\"400\">\n",
    "<img src='./images/AutoScale2.png' width=\"900\" height=\"400\">"
   ]
  },
  {
   "cell_type": "code",
   "execution_count": null,
   "id": "d72caa5f",
   "metadata": {},
   "outputs": [],
   "source": [
    "# Cell 021\n",
    "response = sm_client.describe_endpoint(EndpointName=endpoint_name)\n",
    "status = response['EndpointStatus']\n",
    "print(\"Status: \" + status)\n",
    "\n",
    "\n",
    "while status=='Updating':\n",
    "    time.sleep(1)\n",
    "    response = sm_client.describe_endpoint(EndpointName=endpoint_name)\n",
    "    status = response['EndpointStatus']\n",
    "    instance_count = response['ProductionVariants'][0]['CurrentInstanceCount']\n",
    "    print(f\"Status: {status}\")\n",
    "    print(f\"Current Instance count: {instance_count}\")\n",
    "\n",
    "print(\"Update completed!\")\n",
    "response = sm_client.describe_endpoint(EndpointName=endpoint_name)\n",
    "instance_count = response['ProductionVariants'][0]['CurrentInstanceCount']\n",
    "print(f\"Status: {status}\")\n",
    "print(f\"Current Instance count: {instance_count}\")"
   ]
  },
  {
   "cell_type": "code",
   "execution_count": null,
   "id": "163a645e",
   "metadata": {},
   "outputs": [],
   "source": [
    "# Cell 022\n",
    "response "
   ]
  },
  {
   "cell_type": "code",
   "execution_count": null,
   "id": "cae30ee0",
   "metadata": {},
   "outputs": [],
   "source": [
    "# Cell 023\n",
    "import pandas as pd\n",
    "import datetime\n",
    "\n",
    "cw = boto3.Session().client(\"cloudwatch\")\n",
    "\n",
    "\n",
    "def get_invocation_metrics_for_endpoint_variant(endpoint_name, variant_name, start_time, end_time):\n",
    "    metrics = cw.get_metric_statistics(\n",
    "        Namespace=\"AWS/SageMaker\",\n",
    "        MetricName=\"Invocations\",\n",
    "        StartTime=start_time,\n",
    "        EndTime=end_time,\n",
    "        Period=60,\n",
    "        Statistics=[\"Sum\"],\n",
    "        Dimensions=[\n",
    "            {\"Name\": \"EndpointName\", \"Value\": endpoint_name},\n",
    "            {\"Name\": \"VariantName\", \"Value\": variant_name},\n",
    "        ],\n",
    "    )\n",
    "    return (\n",
    "        pd.DataFrame(metrics[\"Datapoints\"])\n",
    "        .sort_values(\"Timestamp\")\n",
    "        .set_index(\"Timestamp\")\n",
    "        .drop(\"Unit\", axis=1)\n",
    "        .rename(columns={\"Sum\": variant_name})\n",
    "    )\n",
    "def get_instance_count_metrics_for_endpoint_variant(endpoint_name, variant_name, start_time, end_time):\n",
    "    metrics = cw.get_metric_statistics(\n",
    "        Namespace=\"AWS/SageMaker\",\n",
    "        MetricName=\"InvocationsPerInstance\",\n",
    "        StartTime=start_time,\n",
    "        EndTime=end_time,\n",
    "        Period=60,\n",
    "        Statistics=[\"Sum\"],\n",
    "        Dimensions=[\n",
    "            {\"Name\": \"EndpointName\", \"Value\": endpoint_name},\n",
    "            {\"Name\": \"VariantName\", \"Value\": variant_name},\n",
    "        ],\n",
    "    )\n",
    "    return (\n",
    "        pd.DataFrame(metrics[\"Datapoints\"])\n",
    "        .sort_values(\"Timestamp\")\n",
    "        .set_index(\"Timestamp\")\n",
    "        .drop(\"Unit\", axis=1)\n",
    "        .rename(columns={\"Sum\": variant_name})\n",
    "    )\n",
    "\n",
    "\n",
    "def plot_endpoint_metrics(start_time=None):\n",
    "    start_time = start_time or datetime.datetime.now() - datetime.timedelta(minutes=60)\n",
    "    end_time = datetime.datetime.now()\n",
    "    metrics_variant = get_invocation_metrics_for_endpoint_variant(\n",
    "        endpoint_name, 'AllTraffic', start_time, end_time\n",
    "    )\n",
    "    metrics_variant.plot()\n",
    "    \n",
    "    metrics_variant = get_instance_count_metrics_for_endpoint_variant(\n",
    "        endpoint_name, 'AllTraffic', start_time, end_time\n",
    "    )\n",
    "    metrics_variant.plot()\n",
    "    return metrics_variant"
   ]
  },
  {
   "cell_type": "code",
   "execution_count": null,
   "id": "207184fc",
   "metadata": {},
   "outputs": [],
   "source": [
    "# Cell 024\n",
    "time.sleep(20)  # let metrics catch up\n",
    "plot_endpoint_metrics()"
   ]
  },
  {
   "cell_type": "code",
   "execution_count": null,
   "id": "763a47f7",
   "metadata": {},
   "outputs": [],
   "source": [
    "# Cell 025\n",
    "invoke_endpoint=False"
   ]
  },
  {
   "cell_type": "code",
   "execution_count": null,
   "id": "b89ad6bc",
   "metadata": {},
   "outputs": [],
   "source": [
    "# Cell 026\n",
    "# scaling configuration\n",
    "response_de = asg.deregister_scalable_target(\n",
    "        ServiceNamespace='sagemaker', #\n",
    "        ResourceId=resource_id,\n",
    "        ScalableDimension='sagemaker:variant:DesiredInstanceCount'\n",
    ")\n",
    "print(f\"registered:scalable:{response_de}::\")"
   ]
  },
  {
   "cell_type": "code",
   "execution_count": null,
   "id": "6bd41eff",
   "metadata": {},
   "outputs": [],
   "source": []
  }
 ],
 "metadata": {
  "kernelspec": {
   "display_name": "conda_python3",
   "language": "python",
   "name": "conda_python3"
  },
  "language_info": {
   "codemirror_mode": {
    "name": "ipython",
    "version": 3
   },
   "file_extension": ".py",
   "mimetype": "text/x-python",
   "name": "python",
   "nbconvert_exporter": "python",
   "pygments_lexer": "ipython3",
   "version": "3.8.12"
  }
 },
 "nbformat": 4,
 "nbformat_minor": 5
}
