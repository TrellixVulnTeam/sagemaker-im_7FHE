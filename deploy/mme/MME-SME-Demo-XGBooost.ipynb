{
 "cells": [
  {
   "cell_type": "markdown",
   "id": "8a0da8b2",
   "metadata": {},
   "source": [
    "# Amazon SageMaker Multi-Model Endpoints using XGBoost\n"
   ]
  },
  {
   "cell_type": "markdown",
   "id": "8b620027",
   "metadata": {},
   "source": [
    "With [Amazon SageMaker multi-model endpoints](https://docs.aws.amazon.com/sagemaker/latest/dg/multi-model-endpoints.html), customers can create an endpoint that seamlessly hosts up to thousands of models. These endpoints are well suited to use cases where any one of a large number of models, which can be served from a common inference container to save inference costs, needs to be invokable on-demand and where it is acceptable for infrequently invoked models to incur some additional latency. For applications which require consistently low inference latency, an endpoint deploying a single model is still the best choice.\n",
    "\n",
    "At a high level, Amazon SageMaker manages the loading and unloading of models for a multi-model endpoint, as they are needed. When an invocation request is made for a particular model, Amazon SageMaker routes the request to an instance assigned to that model, downloads the model artifacts from S3 onto that instance, and initiates loading of the model into the memory of the container. As soon as the loading is complete, Amazon SageMaker performs the requested invocation and returns the result. If the model is already loaded in memory on the selected instance, the downloading and loading steps are skipped and the invocation is performed immediately.\n",
    "\n",
    "To demonstrate how multi-model endpoints are created and used, this notebook provides an example using a set of XGBoost models that each predict housing prices for a single location. This domain is used as a simple example to easily experiment with multi-model endpoints.\n",
    "\n",
    "The Amazon SageMaker multi-model endpoint capability is designed to work across with Mxnet, PyTorch and Scikit-Learn machine learning frameworks (TensorFlow coming soon), SageMaker XGBoost, KNN, and Linear Learner algorithms.\n",
    "\n",
    "In addition, Amazon SageMaker multi-model endpoints are also designed to work with cases where you bring your own container that integrates with the multi-model server library. An example of this can be found [here](https://github.com/aws/amazon-sagemaker-examples/tree/main/advanced_functionality/multi_model_bring_your_own) and documentation [here](https://docs.aws.amazon.com/sagemaker/latest/dg/build-multi-model-build-container.html).\n",
    "\n",
    "\n",
    "![](./images/mme.png)"
   ]
  },
  {
   "cell_type": "markdown",
   "id": "2b5d995b",
   "metadata": {},
   "source": [
    "### Step 1: Initialize boto3 client and location of model artifact  \n",
    "Here you instantiate the S3 client object and the locations inside your default S3 bucket, where the metrics and model artifacts are uploaded. Notice that the default bucket sagemaker-<your-Region>-<your-account-id> is automatically created by the SageMaker session object. The model and datasets that was used for training exist in a public S3 bucket named sagemaker-sample-files. The location inside the bucket is specified through the read prefix."
   ]
  },
  {
   "cell_type": "code",
   "execution_count": 2,
   "id": "5fe37310",
   "metadata": {},
   "outputs": [
    {
     "data": {
      "text/plain": [
       "'s3://sagemaker-sample-files/models/xgb-fraud/fraud-det-xgb-model.tar.gz'"
      ]
     },
     "execution_count": 2,
     "metadata": {},
     "output_type": "execute_result"
    }
   ],
   "source": [
    "import pandas as pd\n",
    "import numpy as np\n",
    "import boto3\n",
    "import sagemaker\n",
    "import time\n",
    "import json\n",
    "import io\n",
    "from io import StringIO\n",
    "import base64\n",
    "import pprint\n",
    "import re\n",
    "\n",
    "from sagemaker.image_uris import retrieve\n",
    "\n",
    "sess = sagemaker.Session()\n",
    "default_bucket = sess.default_bucket()\n",
    "prefix = \"fraud-detect-demo-mme\"\n",
    "\n",
    "region = sess.boto_region_name\n",
    "s3_client = boto3.client(\"s3\", region_name=region)\n",
    "sm_client = boto3.client(\"sagemaker\", region_name=region)\n",
    "sm_runtime_client = boto3.client(\"sagemaker-runtime\")\n",
    "\n",
    "sagemaker_role = sagemaker.get_execution_role()\n",
    "\n",
    "# S3 locations used for parameterizing the notebook run\n",
    "read_bucket = \"sagemaker-sample-files\"\n",
    "read_prefix = \"datasets/tabular/synthetic_automobile_claims\" \n",
    "model_prefix = \"models/xgb-fraud\"\n",
    "\n",
    "# S3 location of trained model artifact\n",
    "model_uri = f\"s3://{read_bucket}/{model_prefix}/fraud-det-xgb-model.tar.gz\"\n",
    "\n",
    "# S3 location of test data\n",
    "test_data_uri = f\"s3://{read_bucket}/{read_prefix}/test.csv\"\n",
    "\n",
    "model_uri"
   ]
  },
  {
   "cell_type": "markdown",
   "id": "72832c71",
   "metadata": {},
   "source": [
    "### Step 2: Create 100 XGBoost model copies to host behind a single Endpoint"
   ]
  },
  {
   "cell_type": "code",
   "execution_count": 3,
   "id": "407936b8",
   "metadata": {},
   "outputs": [],
   "source": [
    "s3 = boto3.resource('s3')\n",
    "copy_source = {\n",
    "      'Bucket': read_bucket,\n",
    "      'Key': f\"{model_prefix}/fraud-det-xgb-model.tar.gz\"\n",
    "    }\n",
    "bucket = s3.Bucket(default_bucket)\n",
    "\n",
    "for i in range (0,100):\n",
    "    bucket.copy(copy_source, f\"{model_prefix}/fraud-det-xgb-model-{i}.tar.gz\")"
   ]
  },
  {
   "cell_type": "markdown",
   "id": "aad64d1e",
   "metadata": {},
   "source": [
    "### Step 3: List the models and confirm they all reside in S3"
   ]
  },
  {
   "cell_type": "code",
   "execution_count": 4,
   "id": "c86bc5e1",
   "metadata": {
    "collapsed": true,
    "jupyter": {
     "outputs_hidden": true
    }
   },
   "outputs": [
    {
     "name": "stdout",
     "output_type": "stream",
     "text": [
      "2022-10-03 17:56:11       6265 fraud-det-xgb-model-0.tar.gz\n",
      "2022-10-03 17:56:11       6265 fraud-det-xgb-model-1.tar.gz\n",
      "2022-10-03 17:56:12       6265 fraud-det-xgb-model-10.tar.gz\n",
      "2022-10-03 17:56:12       6265 fraud-det-xgb-model-11.tar.gz\n",
      "2022-10-03 17:56:12       6265 fraud-det-xgb-model-12.tar.gz\n",
      "2022-10-03 17:56:12       6265 fraud-det-xgb-model-13.tar.gz\n",
      "2022-10-03 17:56:12       6265 fraud-det-xgb-model-14.tar.gz\n",
      "2022-10-03 17:56:12       6265 fraud-det-xgb-model-15.tar.gz\n",
      "2022-10-03 17:56:12       6265 fraud-det-xgb-model-16.tar.gz\n",
      "2022-10-03 17:56:12       6265 fraud-det-xgb-model-17.tar.gz\n",
      "2022-10-03 17:56:13       6265 fraud-det-xgb-model-18.tar.gz\n",
      "2022-10-03 17:56:13       6265 fraud-det-xgb-model-19.tar.gz\n",
      "2022-10-03 17:56:11       6265 fraud-det-xgb-model-2.tar.gz\n",
      "2022-10-03 17:56:13       6265 fraud-det-xgb-model-20.tar.gz\n",
      "2022-10-03 17:56:13       6265 fraud-det-xgb-model-21.tar.gz\n",
      "2022-10-03 17:56:13       6265 fraud-det-xgb-model-22.tar.gz\n",
      "2022-10-03 17:56:13       6265 fraud-det-xgb-model-23.tar.gz\n",
      "2022-10-03 17:56:13       6265 fraud-det-xgb-model-24.tar.gz\n",
      "2022-10-03 17:56:13       6265 fraud-det-xgb-model-25.tar.gz\n",
      "2022-10-03 17:56:13       6265 fraud-det-xgb-model-26.tar.gz\n",
      "2022-10-03 17:56:13       6265 fraud-det-xgb-model-27.tar.gz\n",
      "2022-10-03 17:56:13       6265 fraud-det-xgb-model-28.tar.gz\n",
      "2022-10-03 17:56:14       6265 fraud-det-xgb-model-29.tar.gz\n",
      "2022-10-03 17:56:11       6265 fraud-det-xgb-model-3.tar.gz\n",
      "2022-10-03 17:56:14       6265 fraud-det-xgb-model-30.tar.gz\n",
      "2022-10-03 17:56:14       6265 fraud-det-xgb-model-31.tar.gz\n",
      "2022-10-03 17:56:14       6265 fraud-det-xgb-model-32.tar.gz\n",
      "2022-10-03 17:56:14       6265 fraud-det-xgb-model-33.tar.gz\n",
      "2022-10-03 17:56:14       6265 fraud-det-xgb-model-34.tar.gz\n",
      "2022-10-03 17:56:14       6265 fraud-det-xgb-model-35.tar.gz\n",
      "2022-10-03 17:56:14       6265 fraud-det-xgb-model-36.tar.gz\n",
      "2022-10-03 17:56:14       6265 fraud-det-xgb-model-37.tar.gz\n",
      "2022-10-03 17:56:14       6265 fraud-det-xgb-model-38.tar.gz\n",
      "2022-10-03 17:56:14       6265 fraud-det-xgb-model-39.tar.gz\n",
      "2022-10-03 17:56:11       6265 fraud-det-xgb-model-4.tar.gz\n",
      "2022-10-03 17:56:15       6265 fraud-det-xgb-model-40.tar.gz\n",
      "2022-10-03 17:56:15       6265 fraud-det-xgb-model-41.tar.gz\n",
      "2022-10-03 17:56:15       6265 fraud-det-xgb-model-42.tar.gz\n",
      "2022-10-03 17:56:15       6265 fraud-det-xgb-model-43.tar.gz\n",
      "2022-10-03 17:56:15       6265 fraud-det-xgb-model-44.tar.gz\n",
      "2022-10-03 17:56:15       6265 fraud-det-xgb-model-45.tar.gz\n",
      "2022-10-03 17:56:15       6265 fraud-det-xgb-model-46.tar.gz\n",
      "2022-10-03 17:56:15       6265 fraud-det-xgb-model-47.tar.gz\n",
      "2022-10-03 17:56:16       6265 fraud-det-xgb-model-48.tar.gz\n",
      "2022-10-03 17:56:16       6265 fraud-det-xgb-model-49.tar.gz\n",
      "2022-10-03 17:56:11       6265 fraud-det-xgb-model-5.tar.gz\n",
      "2022-10-03 17:56:16       6265 fraud-det-xgb-model-50.tar.gz\n",
      "2022-10-03 17:56:16       6265 fraud-det-xgb-model-51.tar.gz\n",
      "2022-10-03 17:56:16       6265 fraud-det-xgb-model-52.tar.gz\n",
      "2022-10-03 17:56:16       6265 fraud-det-xgb-model-53.tar.gz\n",
      "2022-10-03 17:56:16       6265 fraud-det-xgb-model-54.tar.gz\n",
      "2022-10-03 17:56:16       6265 fraud-det-xgb-model-55.tar.gz\n",
      "2022-10-03 17:56:16       6265 fraud-det-xgb-model-56.tar.gz\n",
      "2022-10-03 17:56:16       6265 fraud-det-xgb-model-57.tar.gz\n",
      "2022-10-03 17:56:17       6265 fraud-det-xgb-model-58.tar.gz\n",
      "2022-10-03 17:56:17       6265 fraud-det-xgb-model-59.tar.gz\n",
      "2022-10-03 17:56:11       6265 fraud-det-xgb-model-6.tar.gz\n",
      "2022-10-03 17:56:17       6265 fraud-det-xgb-model-60.tar.gz\n",
      "2022-10-03 17:56:17       6265 fraud-det-xgb-model-61.tar.gz\n",
      "2022-10-03 17:56:17       6265 fraud-det-xgb-model-62.tar.gz\n",
      "2022-10-03 17:56:17       6265 fraud-det-xgb-model-63.tar.gz\n",
      "2022-10-03 17:56:17       6265 fraud-det-xgb-model-64.tar.gz\n",
      "2022-10-03 17:56:17       6265 fraud-det-xgb-model-65.tar.gz\n",
      "2022-10-03 17:56:17       6265 fraud-det-xgb-model-66.tar.gz\n",
      "2022-10-03 17:56:17       6265 fraud-det-xgb-model-67.tar.gz\n",
      "2022-10-03 17:56:17       6265 fraud-det-xgb-model-68.tar.gz\n",
      "2022-10-03 17:56:18       6265 fraud-det-xgb-model-69.tar.gz\n",
      "2022-10-03 17:56:12       6265 fraud-det-xgb-model-7.tar.gz\n",
      "2022-10-03 17:56:18       6265 fraud-det-xgb-model-70.tar.gz\n",
      "2022-10-03 17:56:18       6265 fraud-det-xgb-model-71.tar.gz\n",
      "2022-10-03 17:56:18       6265 fraud-det-xgb-model-72.tar.gz\n",
      "2022-10-03 17:56:18       6265 fraud-det-xgb-model-73.tar.gz\n",
      "2022-10-03 17:56:18       6265 fraud-det-xgb-model-74.tar.gz\n",
      "2022-10-03 17:56:18       6265 fraud-det-xgb-model-75.tar.gz\n",
      "2022-10-03 17:56:18       6265 fraud-det-xgb-model-76.tar.gz\n",
      "2022-10-03 17:56:18       6265 fraud-det-xgb-model-77.tar.gz\n",
      "2022-10-03 17:56:18       6265 fraud-det-xgb-model-78.tar.gz\n",
      "2022-10-03 17:56:18       6265 fraud-det-xgb-model-79.tar.gz\n",
      "2022-10-03 17:56:12       6265 fraud-det-xgb-model-8.tar.gz\n",
      "2022-10-03 17:56:19       6265 fraud-det-xgb-model-80.tar.gz\n",
      "2022-10-03 17:56:19       6265 fraud-det-xgb-model-81.tar.gz\n",
      "2022-10-03 17:56:19       6265 fraud-det-xgb-model-82.tar.gz\n",
      "2022-10-03 17:56:19       6265 fraud-det-xgb-model-83.tar.gz\n",
      "2022-10-03 17:56:19       6265 fraud-det-xgb-model-84.tar.gz\n",
      "2022-10-03 17:56:19       6265 fraud-det-xgb-model-85.tar.gz\n",
      "2022-10-03 17:56:19       6265 fraud-det-xgb-model-86.tar.gz\n",
      "2022-10-03 17:56:19       6265 fraud-det-xgb-model-87.tar.gz\n",
      "2022-10-03 17:56:19       6265 fraud-det-xgb-model-88.tar.gz\n",
      "2022-10-03 17:56:19       6265 fraud-det-xgb-model-89.tar.gz\n",
      "2022-10-03 17:56:12       6265 fraud-det-xgb-model-9.tar.gz\n",
      "2022-10-03 17:56:20       6265 fraud-det-xgb-model-90.tar.gz\n",
      "2022-10-03 17:56:20       6265 fraud-det-xgb-model-91.tar.gz\n",
      "2022-10-03 17:56:20       6265 fraud-det-xgb-model-92.tar.gz\n",
      "2022-10-03 17:56:20       6265 fraud-det-xgb-model-93.tar.gz\n",
      "2022-10-03 17:56:20       6265 fraud-det-xgb-model-94.tar.gz\n",
      "2022-10-03 17:56:20       6265 fraud-det-xgb-model-95.tar.gz\n",
      "2022-10-03 17:56:20       6265 fraud-det-xgb-model-96.tar.gz\n",
      "2022-10-03 17:56:20       6265 fraud-det-xgb-model-97.tar.gz\n",
      "2022-10-03 17:56:20       6265 fraud-det-xgb-model-98.tar.gz\n",
      "2022-10-03 17:56:20       6265 fraud-det-xgb-model-99.tar.gz\n"
     ]
    }
   ],
   "source": [
    "!aws s3 ls s3://{default_bucket}/{model_prefix}/"
   ]
  },
  {
   "cell_type": "markdown",
   "id": "b27d80c3",
   "metadata": {},
   "source": [
    "### Step 4: Create a Real-Time Inference Multi-Model-Endpoint\n",
    "In SageMaker, there are multiple methods to deploy a trained model to a Real-Time Inference endpoint: SageMaker SDK, AWS SDK - Boto3, and SageMaker console. For more information, see Deploy Models for Inference in the Amazon SageMaker Developer Guide. SageMaker SDK has more abstractions compared to the AWS SDK - Boto3, with the latter exposing lower-level APIs for greater control over model deployment. In this tutorial, you deploy the model using the AWS SDK -Boto3. There are three steps you need to follow in sequence to deploy a model:\n",
    "\n",
    "1. Create a SageMaker model from the model artifact\n",
    "2. Create an endpoint configuration to specify properties, including instance type and count\n",
    "3. Create the endpoint using the endpoint configuration\n",
    "\n",
    "*For Multi-Model you set `\"Mode\": \"MultiModel\"`*"
   ]
  },
  {
   "cell_type": "code",
   "execution_count": 9,
   "id": "411fda96",
   "metadata": {},
   "outputs": [
    {
     "name": "stdout",
     "output_type": "stream",
     "text": [
      "modelnam=mme-xgboost-demo-2022-10-03-17-58-42\n",
      "model create:{'ModelArn': 'arn:aws:sagemaker:us-east-1:874199810560:model/mme-xgboost-demo-2022-10-03-17-58-42', 'ResponseMetadata': {'RequestId': 'c05dc2be-e8b0-45a2-a7c5-cbeaa2c82971', 'HTTPStatusCode': 200, 'HTTPHeaders': {'x-amzn-requestid': 'c05dc2be-e8b0-45a2-a7c5-cbeaa2c82971', 'content-type': 'application/x-amz-json-1.1', 'content-length': '98', 'date': 'Mon, 03 Oct 2022 17:58:42 GMT'}, 'RetryAttempts': 0}}\n"
     ]
    }
   ],
   "source": [
    "# Retrieve the SageMaker managed XGBoost image\n",
    "from  datetime import datetime\n",
    "training_image = retrieve(framework=\"xgboost\", region=region, version=\"1.3-1\")\n",
    "\n",
    "# Specify a unique model name that does not exist\n",
    "model_name = f\"mme-xgboost-demo-{datetime.now():%Y-%m-%d-%H-%M-%S}\"\n",
    "primary_container = {\n",
    "                     \"Image\": training_image,\n",
    "                     \"ModelDataUrl\": f\"s3://{default_bucket}/{model_prefix}/\",\n",
    "                     \"Mode\": \"MultiModel\",\n",
    "                    }\n",
    "\n",
    "print(f\"modelnam={model_name}\")\n",
    "model_matches = sm_client.list_models(NameContains=model_name)[\"Models\"]\n",
    "if not model_matches:\n",
    "    model = sm_client.create_model(ModelName=model_name,\n",
    "                    \n",
    "                                   PrimaryContainer=primary_container,\n",
    "                                   ExecutionRoleArn=sagemaker_role)\n",
    "    print(f\"model create:{model}\")\n",
    "else:\n",
    "    print(f\"Model with name {model_name} already exists! Change model name to create new\")\n",
    "    \n"
   ]
  },
  {
   "cell_type": "markdown",
   "id": "fb091f36",
   "metadata": {},
   "source": [
    "After the SageMaker model is created, the following code is uses the Boto3 create_endpoint_config method to configure the endpoint. The main inputs to the create_endpoint_config method are the endpoint configuration name and variant information, such as inference instance type and count, the name of the model to be deployed, and the traffic share the endpoint should handle.\n"
   ]
  },
  {
   "cell_type": "code",
   "execution_count": 11,
   "id": "6a2dffce",
   "metadata": {},
   "outputs": [
    {
     "name": "stdout",
     "output_type": "stream",
     "text": [
      "Endpoint config with name mme-xgboost-demo-2022-10-03-17-58-42-endpoint-config already exists! Change endpoint config name to create new\n"
     ]
    }
   ],
   "source": [
    "# Endpoint Config name\n",
    "endpoint_config_name = f\"{model_name}-endpoint-config\"\n",
    "\n",
    "# Endpoint config parameters\n",
    "production_variant_dict = {\n",
    "                           \"VariantName\": \"Alltraffic\",\n",
    "                           \"ModelName\": model_name,\n",
    "                           \"InitialInstanceCount\": 1,\n",
    "                           \"InstanceType\": \"ml.m5.xlarge\",\n",
    "                           \"InitialVariantWeight\": 1\n",
    "                          }\n",
    "\n",
    "\n",
    "# Create endpoint config if one with the same name does not exist\n",
    "endpoint_config_matches = sm_client.list_endpoint_configs(NameContains=endpoint_config_name)[\"EndpointConfigs\"]\n",
    "if not endpoint_config_matches:\n",
    "    endpoint_config_response = sm_client.create_endpoint_config(\n",
    "                                                                EndpointConfigName=endpoint_config_name,\n",
    "                                                                ProductionVariants=[production_variant_dict],\n",
    "                                                          \n",
    "                                                               )\n",
    "    print(endpoint_config_response)\n",
    "else:\n",
    "    print(f\"Endpoint config with name {endpoint_config_name} already exists! Change endpoint config name to create new\")"
   ]
  },
  {
   "cell_type": "markdown",
   "id": "db57f61c",
   "metadata": {},
   "source": [
    "The create_endpoint method takes the endpoint configuration as a parameter, and deploys the model specified in the endpoint configuration to a compute instance. It takes about 6 minutes to deploy the model."
   ]
  },
  {
   "cell_type": "code",
   "execution_count": 12,
   "id": "8c67e1db",
   "metadata": {},
   "outputs": [
    {
     "name": "stdout",
     "output_type": "stream",
     "text": [
      "end:point:{'EndpointArn': 'arn:aws:sagemaker:us-east-1:874199810560:endpoint/mme-xgboost-demo-2022-10-03-17-58-42-endpoint', 'ResponseMetadata': {'RequestId': '6ae8f880-f90b-40bc-a3dd-0d93814e6cad', 'HTTPStatusCode': 200, 'HTTPHeaders': {'x-amzn-requestid': '6ae8f880-f90b-40bc-a3dd-0d93814e6cad', 'content-type': 'application/x-amz-json-1.1', 'content-length': '113', 'date': 'Mon, 03 Oct 2022 17:59:39 GMT'}, 'RetryAttempts': 0}}\n",
      "Endpoint Status: Creating...\n",
      "Endpoint Status: Creating...\n",
      "Endpoint Status: Creating...\n",
      "Endpoint Status: Creating...\n",
      "Endpoint Status: Creating...\n",
      "Endpoint Status: Creating...\n",
      "Endpoint Status: Creating...\n",
      "Endpoint Status: InService\n"
     ]
    }
   ],
   "source": [
    "endpoint_name = f\"{model_name}-endpoint\"\n",
    "\n",
    "endpoint_matches = sm_client.list_endpoints(NameContains=endpoint_name)[\"Endpoints\"]\n",
    "if not endpoint_matches:\n",
    "    endpoint_response = sm_client.create_endpoint(\n",
    "                                                  EndpointName=endpoint_name,\n",
    "                                                  EndpointConfigName=endpoint_config_name\n",
    "                                                 )\n",
    "    print(f\"end:point:{endpoint_response}\")\n",
    "else:\n",
    "    print(f\"Endpoint with name {endpoint_name} already exists! Change endpoint name to create new\")\n",
    "\n",
    "resp = sm_client.describe_endpoint(EndpointName=endpoint_name)\n",
    "status = resp[\"EndpointStatus\"]\n",
    "while status == \"Creating\":\n",
    "    print(f\"Endpoint Status: {status}...\")\n",
    "    time.sleep(60)\n",
    "    resp = sm_client.describe_endpoint(EndpointName=endpoint_name)\n",
    "    status = resp[\"EndpointStatus\"]\n",
    "print(f\"Endpoint Status: {status}\")"
   ]
  },
  {
   "cell_type": "markdown",
   "id": "5d37539c",
   "metadata": {},
   "source": [
    "### Step 5: Invoke the inference Endpoint\n",
    "\n",
    "After the endpoint status changes to InService, you can invoke the endpoint using the REST API, AWS SDK - Boto3, SageMaker Studio, AWS CLI, or SageMaker Python SDK. In this tutorial, you use the AWS SDK - Boto3. Before calling an endpoint, it is important that the test data is formatted suitably for the endpoint using serialization and deserialization. Serialization is the process of converting raw data in a format such as .csv to byte streams that the endpoint can use. Deserialization is the reverse process of converting byte stream to human readable format. In this tutorial, you invoke the endpoint by sending the first five samples from a test dataset. To invoke the endpoint and get prediction results, copy and paste the following code. Since the request to the endpoint (test dataset) is in the .csv format, a csv serialization process is used to create the payload. The response is then deserialized to an array of predictions. After the execution completes, the cell returns the model predictions and the true labels for the test samples. Notice that the XGBoost model returns probabilities instead of actual class labels. The model has predicted a very low likelihood for the test samples to be fraudulent claims and the predictions are in line with the true labels. To invoke the model of your choice make use of `TargetModel=\"fraud-det-xgb-model-{i}.tar.gz\"` "
   ]
  },
  {
   "cell_type": "code",
   "execution_count": 13,
   "id": "d7cee708",
   "metadata": {},
   "outputs": [
    {
     "name": "stdout",
     "output_type": "stream",
     "text": [
      "Going to invoke model=fraud-det-xgb-model-0.tar.gz\n",
      "\n",
      "fraud-det-xgb-model-0.tar.gz prediction results:\n",
      "            Prediction  Label\n",
      "0  0.02243666537106037      0\n",
      "1  0.02243666537106037      0\n",
      "2   0.0799826979637146      0\n",
      "3  0.13931523263454437      0\n",
      "4  0.03112351894378662      0\n",
      "Going to invoke model=fraud-det-xgb-model-1.tar.gz\n",
      "\n",
      "fraud-det-xgb-model-1.tar.gz prediction results:\n",
      "            Prediction  Label\n",
      "0  0.02243666537106037      0\n",
      "1  0.02243666537106037      0\n",
      "2   0.0799826979637146      0\n",
      "3  0.13931523263454437      0\n",
      "4  0.03112351894378662      0\n",
      "Going to invoke model=fraud-det-xgb-model-2.tar.gz\n",
      "\n",
      "fraud-det-xgb-model-2.tar.gz prediction results:\n",
      "            Prediction  Label\n",
      "0  0.02243666537106037      0\n",
      "1  0.02243666537106037      0\n",
      "2   0.0799826979637146      0\n",
      "3  0.13931523263454437      0\n",
      "4  0.03112351894378662      0\n",
      "Going to invoke model=fraud-det-xgb-model-3.tar.gz\n",
      "\n",
      "fraud-det-xgb-model-3.tar.gz prediction results:\n",
      "            Prediction  Label\n",
      "0  0.02243666537106037      0\n",
      "1  0.02243666537106037      0\n",
      "2   0.0799826979637146      0\n",
      "3  0.13931523263454437      0\n",
      "4  0.03112351894378662      0\n",
      "Going to invoke model=fraud-det-xgb-model-4.tar.gz\n",
      "\n",
      "fraud-det-xgb-model-4.tar.gz prediction results:\n",
      "            Prediction  Label\n",
      "0  0.02243666537106037      0\n",
      "1  0.02243666537106037      0\n",
      "2   0.0799826979637146      0\n",
      "3  0.13931523263454437      0\n",
      "4  0.03112351894378662      0\n"
     ]
    }
   ],
   "source": [
    "# Fetch test data to run predictions with the endpoint\n",
    "test_df = pd.read_csv(test_data_uri)\n",
    "\n",
    "# For content type text/csv, payload should be a string with commas separating the values for each feature\n",
    "# This is the inference request serialization step\n",
    "# CSV serialization\n",
    "csv_file = io.StringIO()\n",
    "test_sample = test_df.drop([\"fraud\"], axis=1).iloc[:5]\n",
    "test_sample.to_csv(csv_file, sep=\",\", header=False, index=False)\n",
    "payload = csv_file.getvalue()\n",
    "\n",
    "for i in range (0,5):\n",
    "    print(f\"Going to invoke model=fraud-det-xgb-model-{i}.tar.gz\")\n",
    "    response = sm_runtime_client.invoke_endpoint(\n",
    "                                                 EndpointName=endpoint_name,\n",
    "                                                 Body=payload,\n",
    "                                                 TargetModel=f\"fraud-det-xgb-model-{i}.tar.gz\",\n",
    "                                                 ContentType=\"text/csv\",\n",
    "                                                 Accept=\"text/csv\"\n",
    "                                                )\n",
    "    # This is the inference response deserialization step\n",
    "    # This is a bytes object\n",
    "    result = response[\"Body\"].read()\n",
    "    # Decoding bytes to a string\n",
    "    result = result.decode(\"utf-8\")\n",
    "    # Converting to list of predictions\n",
    "    result = re.split(\",|\\n\",result)\n",
    "    prediction_df = pd.DataFrame()\n",
    "    prediction_df[\"Prediction\"] = result[:5]\n",
    "    prediction_df[\"Label\"] = test_df[\"fraud\"].iloc[:5].values\n",
    "    prediction_df\n",
    "    print(f\"\\nfraud-det-xgb-model-{i}.tar.gz prediction results:\")\n",
    "    print(prediction_df)\n"
   ]
  },
  {
   "cell_type": "markdown",
   "id": "c95e2012",
   "metadata": {},
   "source": [
    "### Step 6: Delete Endpoint\n",
    "Before leaving this exercise, it is a good practice to delete the resources created."
   ]
  },
  {
   "cell_type": "code",
   "execution_count": null,
   "id": "57935811",
   "metadata": {},
   "outputs": [],
   "source": [
    "sm_client.delete_endpoint(EndpointName=endpoint_name)"
   ]
  }
 ],
 "metadata": {
  "instance_type": "ml.t3.medium",
  "kernelspec": {
   "display_name": "conda_python3",
   "language": "python",
   "name": "conda_python3"
  },
  "language_info": {
   "codemirror_mode": {
    "name": "ipython",
    "version": 3
   },
   "file_extension": ".py",
   "mimetype": "text/x-python",
   "name": "python",
   "nbconvert_exporter": "python",
   "pygments_lexer": "ipython3",
   "version": "3.8.12"
  }
 },
 "nbformat": 4,
 "nbformat_minor": 5
}
