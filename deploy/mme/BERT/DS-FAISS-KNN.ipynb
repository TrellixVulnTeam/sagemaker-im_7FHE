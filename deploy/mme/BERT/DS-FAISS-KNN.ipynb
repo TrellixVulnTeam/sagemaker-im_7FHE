{
 "cells": [
  {
   "cell_type": "code",
   "execution_count": 2,
   "metadata": {},
   "outputs": [],
   "source": [
    "account_id_map = {\n",
    "    'us-east-1': '785573368785',\n",
    "    'us-east-2': '007439368137',\n",
    "    'us-west-1': '710691900526',\n",
    "    'us-west-2': '301217895009',\n",
    "    'eu-west-1': '802834080501',\n",
    "    'eu-west-2': '205493899709',\n",
    "    'eu-west-3': '254080097072',\n",
    "    'eu-north-1': '601324751636',\n",
    "    'eu-south-1': '966458181534',\n",
    "    'eu-central-1': '746233611703',\n",
    "    'ap-east-1': '110948597952',\n",
    "    'ap-south-1': '763008648453',\n",
    "    'ap-northeast-1': '941853720454',\n",
    "    'ap-northeast-2': '151534178276',\n",
    "    'ap-southeast-1': '324986816169',\n",
    "    'ap-southeast-2': '355873309152',\n",
    "    'cn-northwest-1': '474822919863',\n",
    "    'cn-north-1': '472730292857',\n",
    "    'sa-east-1': '756306329178',\n",
    "    'ca-central-1': '464438896020',\n",
    "    'me-south-1': '836785723513',\n",
    "    'af-south-1': '774647643957'\n",
    "}"
   ]
  },
  {
   "cell_type": "code",
   "execution_count": 4,
   "metadata": {},
   "outputs": [
    {
     "name": "stdout",
     "output_type": "stream",
     "text": [
      "--2022-10-05 22:08:10--  ftp://ftp.irisa.fr/local/texmex/corpus/gist.tar.gz\n",
      "           => ‘gist.tar.gz’\n",
      "Resolving ftp.irisa.fr (ftp.irisa.fr)... 131.254.254.45, 2001:660:7303:254::45\n",
      "Connecting to ftp.irisa.fr (ftp.irisa.fr)|131.254.254.45|:21... connected.\n",
      "Logging in as anonymous ... Logged in!\n",
      "==> SYST ... done.    ==> PWD ... done.\n",
      "==> TYPE I ... done.  ==> CWD (1) /local/texmex/corpus ... done.\n",
      "==> SIZE gist.tar.gz ... 2740172684\n",
      "==> PASV ... done.    ==> RETR gist.tar.gz ... done.\n",
      "Length: 2740172684 (2.6G) (unauthoritative)\n",
      "\n",
      "gist.tar.gz         100%[===================>]   2.55G  21.0MB/s    in 93s     \n",
      "\n",
      "2022-10-05 22:09:43 (28.2 MB/s) - ‘gist.tar.gz’ saved [2740172684]\n",
      "\n",
      "--2022-10-05 22:09:43--  http://./\n",
      "Resolving . (.)... failed: No address associated with hostname.\n",
      "wget: unable to resolve host address ‘.’\n",
      "FINISHED --2022-10-05 22:09:43--\n",
      "Total wall clock time: 1m 34s\n",
      "Downloaded: 1 files, 2.6G in 1m 33s (28.2 MB/s)\n"
     ]
    }
   ],
   "source": [
    "!mkdir -p temp_vecs\n",
    "!cd temp_vecs && wget ftp://ftp.irisa.fr/local/texmex/corpus/gist.tar.gz . && tar -xzvf gist.tar.gz "
   ]
  },
  {
   "cell_type": "code",
   "execution_count": 12,
   "metadata": {},
   "outputs": [
    {
     "name": "stdout",
     "output_type": "stream",
     "text": [
      "Looking in indexes: https://pypi.org/simple, https://pip.repos.neuron.amazonaws.com, https://pypi.ngc.nvidia.com\n",
      "Requirement already satisfied: transformers[torch] in /home/ec2-user/anaconda3/envs/python3/lib/python3.8/site-packages (4.22.2)\n",
      "Requirement already satisfied: huggingface-hub<1.0,>=0.9.0 in /home/ec2-user/anaconda3/envs/python3/lib/python3.8/site-packages (from transformers[torch]) (0.10.0)\n",
      "Requirement already satisfied: pyyaml>=5.1 in /home/ec2-user/anaconda3/envs/python3/lib/python3.8/site-packages (from transformers[torch]) (5.4.1)\n",
      "Requirement already satisfied: packaging>=20.0 in /home/ec2-user/anaconda3/envs/python3/lib/python3.8/site-packages (from transformers[torch]) (21.3)\n",
      "Requirement already satisfied: requests in /home/ec2-user/anaconda3/envs/python3/lib/python3.8/site-packages (from transformers[torch]) (2.26.0)\n",
      "Requirement already satisfied: numpy>=1.17 in /home/ec2-user/anaconda3/envs/python3/lib/python3.8/site-packages (from transformers[torch]) (1.20.3)\n",
      "Requirement already satisfied: tokenizers!=0.11.3,<0.13,>=0.11.1 in /home/ec2-user/anaconda3/envs/python3/lib/python3.8/site-packages (from transformers[torch]) (0.12.1)\n",
      "Requirement already satisfied: filelock in /home/ec2-user/anaconda3/envs/python3/lib/python3.8/site-packages (from transformers[torch]) (3.4.0)\n",
      "Requirement already satisfied: tqdm>=4.27 in /home/ec2-user/anaconda3/envs/python3/lib/python3.8/site-packages (from transformers[torch]) (4.62.3)\n",
      "Requirement already satisfied: regex!=2019.12.17 in /home/ec2-user/anaconda3/envs/python3/lib/python3.8/site-packages (from transformers[torch]) (2021.11.10)\n",
      "Requirement already satisfied: torch!=0.12.0,>=1.0 in /home/ec2-user/anaconda3/envs/python3/lib/python3.8/site-packages (from transformers[torch]) (1.12.1)\n",
      "Requirement already satisfied: typing-extensions>=3.7.4.3 in /home/ec2-user/anaconda3/envs/python3/lib/python3.8/site-packages (from huggingface-hub<1.0,>=0.9.0->transformers[torch]) (4.0.0)\n",
      "Requirement already satisfied: pyparsing!=3.0.5,>=2.0.2 in /home/ec2-user/anaconda3/envs/python3/lib/python3.8/site-packages (from packaging>=20.0->transformers[torch]) (3.0.6)\n",
      "Requirement already satisfied: charset-normalizer~=2.0.0 in /home/ec2-user/anaconda3/envs/python3/lib/python3.8/site-packages (from requests->transformers[torch]) (2.0.8)\n",
      "Requirement already satisfied: urllib3<1.27,>=1.21.1 in /home/ec2-user/anaconda3/envs/python3/lib/python3.8/site-packages (from requests->transformers[torch]) (1.26.8)\n",
      "Requirement already satisfied: certifi>=2017.4.17 in /home/ec2-user/anaconda3/envs/python3/lib/python3.8/site-packages (from requests->transformers[torch]) (2021.10.8)\n",
      "Requirement already satisfied: idna<4,>=2.5 in /home/ec2-user/anaconda3/envs/python3/lib/python3.8/site-packages (from requests->transformers[torch]) (3.1)\n",
      "Looking in indexes: https://pypi.org/simple, https://pip.repos.neuron.amazonaws.com, https://pypi.ngc.nvidia.com\n",
      "Collecting faiss-cpu\n",
      "  Downloading faiss_cpu-1.7.2-cp38-cp38-manylinux_2_17_x86_64.manylinux2014_x86_64.whl (8.6 MB)\n",
      "\u001b[2K     \u001b[90m━━━━━━━━━━━━━━━━━━━━━━━━━━━━━━━━━━━━━━━━\u001b[0m \u001b[32m8.6/8.6 MB\u001b[0m \u001b[31m174.0 MB/s\u001b[0m eta \u001b[36m0:00:00\u001b[0ma \u001b[36m0:00:01\u001b[0m\n",
      "\u001b[?25hInstalling collected packages: faiss-cpu\n",
      "Successfully installed faiss-cpu-1.7.2\n"
     ]
    }
   ],
   "source": [
    "!pip install transformers[torch]\n",
    "!pip install faiss-cpu"
   ]
  },
  {
   "cell_type": "code",
   "execution_count": 4,
   "metadata": {},
   "outputs": [],
   "source": [
    "!pip install --upgrade -qU pip awscli boto3 sagemaker transformers"
   ]
  },
  {
   "cell_type": "code",
   "execution_count": 14,
   "metadata": {},
   "outputs": [],
   "source": [
    "import faiss"
   ]
  },
  {
   "cell_type": "code",
   "execution_count": 15,
   "metadata": {},
   "outputs": [],
   "source": [
    "import numpy as np\n",
    "\n",
    "N = 1000000\n",
    "d = 100\n",
    "k = 5\n",
    "\n",
    "# create an array of N d-dimensional vectors (our search space)\n",
    "xb = np.random.random((N, d)).astype('float32')"
   ]
  },
  {
   "cell_type": "code",
   "execution_count": 18,
   "metadata": {},
   "outputs": [
    {
     "data": {
      "text/plain": [
       "(array([[8.72672 , 8.775642, 8.829514, 8.860796, 9.218237]], dtype=float32),\n",
       " array([[283234, 396031, 841282, 170946, 993544]]))"
      ]
     },
     "execution_count": 18,
     "metadata": {},
     "output_type": "execute_result"
    }
   ],
   "source": [
    "import faiss\n",
    "\n",
    "index = faiss.index_factory(d, \"Flat\")\n",
    "index.train(xb)\n",
    "index.add(xb)\n",
    "\n",
    "# create a random d-dimensional query vector\n",
    "xq = np.random.random(d)\n",
    "distances, neighbors = index.search(xq.reshape(1,-1).astype(np.float32), k)\n",
    "distances, neighbors"
   ]
  },
  {
   "cell_type": "code",
   "execution_count": 19,
   "metadata": {},
   "outputs": [],
   "source": [
    "import numpy as np\n",
    "\n",
    "\n",
    "def ivecs_read(fname):\n",
    "    a = np.fromfile(fname, dtype=\"int32\")\n",
    "    d = a[0]\n",
    "    return a.reshape(-1, d + 1)[:, 1:].copy()\n",
    "\n",
    "\n",
    "def fvecs_read(fname):\n",
    "    return ivecs_read(fname).view(\"float32\")"
   ]
  },
  {
   "cell_type": "code",
   "execution_count": 21,
   "metadata": {},
   "outputs": [],
   "source": [
    "xb = fvecs_read(\"./temp_vecs/gist/gist_base.fvecs\")\n"
   ]
  },
  {
   "cell_type": "code",
   "execution_count": null,
   "metadata": {},
   "outputs": [],
   "source": [
    "xb.shape[1]"
   ]
  },
  {
   "cell_type": "code",
   "execution_count": 22,
   "metadata": {},
   "outputs": [],
   "source": [
    "index = faiss.index_factory(xb.shape[1], \"IVF4000,Flat\")\n"
   ]
  },
  {
   "cell_type": "code",
   "execution_count": 23,
   "metadata": {},
   "outputs": [],
   "source": [
    "def cast_object_to_string(data_frame):\n",
    "    for label in data_frame.columns:\n",
    "        if data_frame.dtypes[label] == \"object\":\n",
    "            data_frame[label] = data_frame[label].astype(\"str\").astype(\"string\")\n",
    "    return data_frame\n"
   ]
  },
  {
   "cell_type": "code",
   "execution_count": 24,
   "metadata": {},
   "outputs": [
    {
     "name": "stderr",
     "output_type": "stream",
     "text": [
      "WARNING clustering 100000 points to 4000 centroids: please provide at least 156000 training points\n"
     ]
    }
   ],
   "source": [
    "batch_size = 100000\n",
    "\n",
    "index.train(xb[0:batch_size])\n",
    "faiss.write_index(index, \"./models/faiss/trained.index\")\n",
    "\n",
    "n_batches = xb.shape[0] // batch_size\n",
    "for i in range(n_batches):\n",
    "    index = faiss.read_index(\"./models/faiss/trained.index\")\n",
    "    index.add_with_ids(xb[i * batch_size:(i + 1) * batch_size], np.arange(i * batch_size, (i + 1) * batch_size))\n",
    "    faiss.write_index(index, f\"./models/faiss/block_{i}.index\")\n"
   ]
  },
  {
   "cell_type": "code",
   "execution_count": 25,
   "metadata": {},
   "outputs": [],
   "source": [
    "from faiss.contrib.ondisk import merge_ondisk\n",
    "\n",
    "index = faiss.read_index(\"./models/faiss/trained.index\")\n",
    "block_fnames = [f\"./models/faiss/block_{b}.index\" for b in range(n_batches)]\n",
    "\n",
    "merge_ondisk(index, block_fnames, \"merged_index.ivfdata\")\n",
    "faiss.write_index(index, \"./models/faiss/populated.index\")\n"
   ]
  },
  {
   "cell_type": "code",
   "execution_count": 27,
   "metadata": {},
   "outputs": [],
   "source": [
    "model_faiss = faiss.read_index(\"./models/faiss/populated.index\")\n"
   ]
  },
  {
   "cell_type": "code",
   "execution_count": 28,
   "metadata": {
    "collapsed": true,
    "jupyter": {
     "outputs_hidden": true
    }
   },
   "outputs": [
    {
     "data": {
      "text/plain": [
       "array([[0.1737, 0.1392, 0.1385, 0.0757, 0.0479, 0.1084, 0.1314, 0.0724,\n",
       "        0.0698, 0.0561, 0.0728, 0.0863, 0.0734, 0.0873, 0.1817, 0.066 ,\n",
       "        0.1078, 0.0706, 0.1203, 0.1043, 0.0565, 0.0643, 0.0978, 0.0541,\n",
       "        0.0439, 0.0428, 0.0574, 0.0543, 0.0699, 0.0948, 0.0975, 0.0567,\n",
       "        0.0504, 0.0411, 0.0581, 0.0777, 0.0418, 0.0452, 0.097 , 0.0447,\n",
       "        0.0275, 0.0467, 0.0924, 0.0501, 0.0606, 0.0643, 0.0663, 0.0596,\n",
       "        0.0383, 0.0338, 0.0635, 0.0659, 0.0311, 0.0291, 0.0448, 0.0517,\n",
       "        0.0241, 0.0373, 0.0895, 0.0853, 0.0597, 0.0505, 0.0547, 0.0568,\n",
       "        0.0304, 0.0473, 0.052 , 0.0514, 0.0371, 0.036 , 0.0428, 0.0744,\n",
       "        0.0331, 0.0589, 0.1055, 0.074 , 0.0493, 0.0617, 0.0653, 0.0692,\n",
       "        0.0332, 0.0633, 0.057 , 0.042 , 0.0337, 0.0593, 0.0638, 0.0696,\n",
       "        0.0479, 0.0591, 0.0809, 0.0623, 0.0589, 0.0627, 0.0784, 0.0603,\n",
       "        0.0369, 0.0736, 0.0976, 0.0783, 0.0408, 0.0629, 0.1274, 0.0849,\n",
       "        0.0702, 0.0979, 0.101 , 0.0614, 0.0591, 0.0633, 0.1427, 0.1322,\n",
       "        0.0913, 0.1279, 0.0954, 0.0665, 0.0354, 0.065 , 0.1375, 0.0652,\n",
       "        0.0642, 0.1092, 0.1261, 0.0908, 0.0609, 0.1043, 0.1475, 0.1003,\n",
       "        0.2256, 0.1929, 0.0716, 0.1145, 0.0634, 0.1015, 0.0833, 0.071 ,\n",
       "        0.0894, 0.0769, 0.0673, 0.077 , 0.1163, 0.1387, 0.1383, 0.0906,\n",
       "        0.0882, 0.0592, 0.0519, 0.0539, 0.037 , 0.0387, 0.0488, 0.0394,\n",
       "        0.0517, 0.046 , 0.0473, 0.042 , 0.0542, 0.1228, 0.1174, 0.0452,\n",
       "        0.0575, 0.0365, 0.0277, 0.0454, 0.0313, 0.0194, 0.0443, 0.0452,\n",
       "        0.0258, 0.0499, 0.0976, 0.0426, 0.0511, 0.0554, 0.0788, 0.0588,\n",
       "        0.035 , 0.0375, 0.0272, 0.065 , 0.0282, 0.016 , 0.0397, 0.071 ,\n",
       "        0.0363, 0.045 , 0.1127, 0.0707, 0.0517, 0.0325, 0.0543, 0.0654,\n",
       "        0.0327, 0.0573, 0.0405, 0.077 , 0.0416, 0.0502, 0.0559, 0.1115,\n",
       "        0.0461, 0.0466, 0.1164, 0.0539, 0.0397, 0.0253, 0.0502, 0.064 ,\n",
       "        0.0338, 0.0986, 0.0736, 0.0641, 0.0444, 0.0678, 0.0873, 0.1209,\n",
       "        0.0674, 0.0583, 0.0964, 0.0836, 0.0226, 0.0593, 0.0736, 0.0637,\n",
       "        0.0365, 0.0807, 0.108 , 0.0967, 0.0534, 0.0802, 0.1456, 0.105 ,\n",
       "        0.0717, 0.0881, 0.066 , 0.0682, 0.0428, 0.0545, 0.1113, 0.1628,\n",
       "        0.1517, 0.1835, 0.0662, 0.0708, 0.0528, 0.104 , 0.1576, 0.1012,\n",
       "        0.0466, 0.123 , 0.1478, 0.0958, 0.0814, 0.1317, 0.1576, 0.1511,\n",
       "        0.1896, 0.124 , 0.0686, 0.1079, 0.0493, 0.0839, 0.1252, 0.0929,\n",
       "        0.0513, 0.0792, 0.102 , 0.0806, 0.1929, 0.173 , 0.0971, 0.0955,\n",
       "        0.1031, 0.0507, 0.0482, 0.0751, 0.029 , 0.03  , 0.0452, 0.0499,\n",
       "        0.03  , 0.0499, 0.0915, 0.095 , 0.0929, 0.0916, 0.0598, 0.0582,\n",
       "        0.0227, 0.034 , 0.0573, 0.059 , 0.0599, 0.0526, 0.1404, 0.1301,\n",
       "        0.0307, 0.0821, 0.1612, 0.1028, 0.033 , 0.0599, 0.0918, 0.0658,\n",
       "        0.0755, 0.0636, 0.0813, 0.0467, 0.07  , 0.0784, 0.1758, 0.1156,\n",
       "        0.0545, 0.1192, 0.0982, 0.1037, 0.0885, 0.1315, 0.165 , 0.1214,\n",
       "        0.1538, 0.1321, 0.1376, 0.0623, 0.0474, 0.0823, 0.0846, 0.0626,\n",
       "        0.0726, 0.0446, 0.0558, 0.0779, 0.0792, 0.0653, 0.1384, 0.0616,\n",
       "        0.0939, 0.0654, 0.1074, 0.1142, 0.0585, 0.0597, 0.045 , 0.0479,\n",
       "        0.0443, 0.0378, 0.0449, 0.0503, 0.0741, 0.0813, 0.0767, 0.0564,\n",
       "        0.0482, 0.0345, 0.0483, 0.088 , 0.0448, 0.047 , 0.0482, 0.0444,\n",
       "        0.0288, 0.0435, 0.0711, 0.0448, 0.0572, 0.0575, 0.0585, 0.0562,\n",
       "        0.0337, 0.0246, 0.0482, 0.0685, 0.0345, 0.0254, 0.0295, 0.0535,\n",
       "        0.0247, 0.0325, 0.078 , 0.0772, 0.0597, 0.0433, 0.0522, 0.054 ,\n",
       "        0.0285, 0.0339, 0.0395, 0.0479, 0.0427, 0.0271, 0.0345, 0.0815,\n",
       "        0.0325, 0.056 , 0.0782, 0.0755, 0.0478, 0.0473, 0.039 , 0.0714,\n",
       "        0.0296, 0.0465, 0.046 , 0.0398, 0.0352, 0.0475, 0.0408, 0.0634,\n",
       "        0.0441, 0.049 , 0.0662, 0.0539, 0.0559, 0.0599, 0.0557, 0.0624,\n",
       "        0.0349, 0.059 , 0.0832, 0.0758, 0.0455, 0.0582, 0.0806, 0.0736,\n",
       "        0.0669, 0.0808, 0.0804, 0.0564, 0.0494, 0.0559, 0.1124, 0.1324,\n",
       "        0.0818, 0.0979, 0.0836, 0.0668, 0.038 , 0.0493, 0.0949, 0.0525,\n",
       "        0.066 , 0.088 , 0.0964, 0.0827, 0.0616, 0.0785, 0.1217, 0.1037,\n",
       "        0.1972, 0.1772, 0.0736, 0.0931, 0.0597, 0.0824, 0.0735, 0.0484,\n",
       "        0.0838, 0.0618, 0.071 , 0.0668, 0.0868, 0.0973, 0.1125, 0.0813,\n",
       "        0.0756, 0.0595, 0.0485, 0.0404, 0.0395, 0.0388, 0.0361, 0.0496,\n",
       "        0.0537, 0.0568, 0.0502, 0.0504, 0.0406, 0.0818, 0.0904, 0.0448,\n",
       "        0.0518, 0.0244, 0.0373, 0.0473, 0.03  , 0.0173, 0.0352, 0.0481,\n",
       "        0.031 , 0.0572, 0.0823, 0.0421, 0.0538, 0.0466, 0.0731, 0.0509,\n",
       "        0.023 , 0.0255, 0.0362, 0.0582, 0.0333, 0.0106, 0.0278, 0.0658,\n",
       "        0.0375, 0.0332, 0.0879, 0.067 , 0.0566, 0.0363, 0.0505, 0.0582,\n",
       "        0.0233, 0.0424, 0.0377, 0.0566, 0.0451, 0.0327, 0.042 , 0.1073,\n",
       "        0.0432, 0.0344, 0.0867, 0.0491, 0.0341, 0.0219, 0.0374, 0.0436,\n",
       "        0.0257, 0.073 , 0.0526, 0.0499, 0.044 , 0.0521, 0.0522, 0.1024,\n",
       "        0.0641, 0.0372, 0.0776, 0.0887, 0.0222, 0.056 , 0.0609, 0.068 ,\n",
       "        0.0287, 0.0587, 0.0905, 0.0856, 0.0552, 0.0795, 0.0959, 0.0622,\n",
       "        0.0721, 0.0657, 0.0629, 0.0718, 0.0366, 0.0524, 0.0926, 0.162 ,\n",
       "        0.1378, 0.1394, 0.0496, 0.0608, 0.053 , 0.0796, 0.1133, 0.0622,\n",
       "        0.0395, 0.0869, 0.1263, 0.0807, 0.0798, 0.1101, 0.129 , 0.1441,\n",
       "        0.1371, 0.0843, 0.0509, 0.0759, 0.0464, 0.0645, 0.0799, 0.0608,\n",
       "        0.0317, 0.0482, 0.0726, 0.0624, 0.1256, 0.1258, 0.0801, 0.0727,\n",
       "        0.0803, 0.0301, 0.0219, 0.0376, 0.0287, 0.0193, 0.0278, 0.0364,\n",
       "        0.0231, 0.042 , 0.0624, 0.0721, 0.0608, 0.0673, 0.0394, 0.035 ,\n",
       "        0.0182, 0.0312, 0.0409, 0.0299, 0.0573, 0.0478, 0.0951, 0.0997,\n",
       "        0.0286, 0.0637, 0.1194, 0.084 , 0.0297, 0.0424, 0.0685, 0.058 ,\n",
       "        0.0552, 0.0459, 0.0637, 0.0407, 0.0679, 0.0609, 0.1084, 0.0804,\n",
       "        0.0437, 0.0809, 0.0663, 0.0722, 0.0559, 0.0996, 0.1311, 0.0915,\n",
       "        0.1719, 0.1399, 0.1389, 0.0867, 0.0514, 0.1202, 0.103 , 0.0778,\n",
       "        0.0818, 0.0686, 0.06  , 0.1051, 0.0842, 0.0812, 0.1408, 0.0902,\n",
       "        0.1069, 0.0741, 0.1223, 0.1454, 0.0586, 0.0867, 0.0688, 0.0692,\n",
       "        0.0528, 0.0497, 0.0658, 0.0738, 0.083 , 0.0969, 0.0813, 0.0792,\n",
       "        0.0502, 0.0486, 0.0652, 0.1067, 0.0454, 0.0527, 0.0724, 0.0493,\n",
       "        0.0316, 0.0551, 0.0921, 0.0638, 0.0708, 0.0788, 0.0506, 0.0692,\n",
       "        0.0371, 0.042 , 0.0695, 0.0925, 0.0337, 0.0304, 0.0378, 0.0689,\n",
       "        0.0324, 0.0437, 0.0926, 0.1203, 0.0684, 0.0562, 0.0378, 0.0665,\n",
       "        0.0349, 0.0565, 0.0648, 0.0674, 0.0455, 0.0411, 0.0516, 0.1032,\n",
       "        0.0453, 0.0746, 0.1053, 0.1139, 0.058 , 0.0554, 0.0511, 0.0869,\n",
       "        0.035 , 0.0712, 0.0639, 0.0466, 0.0364, 0.0633, 0.0716, 0.0762,\n",
       "        0.0531, 0.0685, 0.0866, 0.0738, 0.0733, 0.0639, 0.0615, 0.0774,\n",
       "        0.0371, 0.0846, 0.1027, 0.0981, 0.0456, 0.0612, 0.0776, 0.0842,\n",
       "        0.0715, 0.1019, 0.1091, 0.0681, 0.0606, 0.0599, 0.1309, 0.1614,\n",
       "        0.0918, 0.1277, 0.0821, 0.1041, 0.0375, 0.0667, 0.0889, 0.0602,\n",
       "        0.073 , 0.1236, 0.119 , 0.0965, 0.0631, 0.0839, 0.1209, 0.123 ,\n",
       "        0.2173, 0.1709, 0.0648, 0.1018, 0.0661, 0.1183, 0.0833, 0.0479,\n",
       "        0.0985, 0.0922, 0.0337, 0.0743, 0.0747, 0.0799, 0.0868, 0.0653,\n",
       "        0.0887, 0.0487, 0.0359, 0.0497, 0.0396, 0.0566, 0.0452, 0.0401,\n",
       "        0.0655, 0.0494, 0.0469, 0.0629, 0.0398, 0.0828, 0.0647, 0.0354,\n",
       "        0.0543, 0.0383, 0.0255, 0.049 , 0.0318, 0.0186, 0.0306, 0.0316,\n",
       "        0.0367, 0.0563, 0.0697, 0.0467, 0.065 , 0.0553, 0.0599, 0.0493,\n",
       "        0.0278, 0.0437, 0.0292, 0.0804, 0.0357, 0.0129, 0.022 , 0.0719,\n",
       "        0.0556, 0.0411, 0.0656, 0.0827, 0.0743, 0.0354, 0.0327, 0.0618,\n",
       "        0.0276, 0.0708, 0.0384, 0.0735, 0.0546, 0.0523, 0.0434, 0.1361,\n",
       "        0.0674, 0.0534, 0.0762, 0.0715, 0.0521, 0.0294, 0.0343, 0.0477,\n",
       "        0.0306, 0.102 , 0.0623, 0.0606, 0.0461, 0.0695, 0.0761, 0.1306,\n",
       "        0.0816, 0.067 , 0.0812, 0.1235, 0.0289, 0.0447, 0.0554, 0.0702,\n",
       "        0.0365, 0.1112, 0.1148, 0.0986, 0.0613, 0.0852, 0.081 , 0.069 ,\n",
       "        0.0807, 0.0883, 0.0697, 0.0879, 0.0426, 0.0415, 0.0995, 0.182 ,\n",
       "        0.1531, 0.1676, 0.0449, 0.0737, 0.0537, 0.1096, 0.091 , 0.0648,\n",
       "        0.0486, 0.1236, 0.093 , 0.0832, 0.0711, 0.0941, 0.1047, 0.1569,\n",
       "        0.1446, 0.0851, 0.039 , 0.0751, 0.0421, 0.089 , 0.0863, 0.0712,\n",
       "        0.0317, 0.0559, 0.0746, 0.0883, 0.1152, 0.0933, 0.0651, 0.0695,\n",
       "        0.0942, 0.0481, 0.0275, 0.0517, 0.0397, 0.025 , 0.0262, 0.0516,\n",
       "        0.0319, 0.0493, 0.0815, 0.1064, 0.0685, 0.0765, 0.0334, 0.0442,\n",
       "        0.0196, 0.0292, 0.0484, 0.0391, 0.0714, 0.047 , 0.098 , 0.1218,\n",
       "        0.0409, 0.0724, 0.1369, 0.1067, 0.0363, 0.0321, 0.0577, 0.0517,\n",
       "        0.0573, 0.0481, 0.0572, 0.0378, 0.0733, 0.0931, 0.1086, 0.0983,\n",
       "        0.0447, 0.0866, 0.0651, 0.091 , 0.0521, 0.067 , 0.099 , 0.0884]],\n",
       "      dtype=float32)"
      ]
     },
     "execution_count": 28,
     "metadata": {},
     "output_type": "execute_result"
    }
   ],
   "source": [
    "i = 42\n",
    "model_faiss.make_direct_map()\n",
    "model_faiss.reconstruct(i).reshape(1,-1).astype(np.float32)\n"
   ]
  },
  {
   "cell_type": "code",
   "execution_count": 29,
   "metadata": {},
   "outputs": [],
   "source": [
    "xq = fvecs_read(\"./temp_vecs/gist/gist_query.fvecs\")\n",
    "\n",
    "index.nprobe = 80\n",
    "distances, neighbors = model_faiss.search(xq, k)\n"
   ]
  },
  {
   "cell_type": "code",
   "execution_count": 30,
   "metadata": {},
   "outputs": [
    {
     "data": {
      "text/plain": [
       "(array([[0.70097166, 0.772008  , 0.78201497, 0.787987  , 0.79519874],\n",
       "        [0.89665043, 0.9093182 , 0.91346693, 0.935731  , 0.9382586 ],\n",
       "        [0.40913045, 0.47464633, 0.4957382 , 0.501045  , 0.5051237 ],\n",
       "        ...,\n",
       "        [1.3362881 , 1.3506727 , 1.3591287 , 1.360177  , 1.3828452 ],\n",
       "        [0.8345509 , 0.87380904, 0.89758533, 0.9062674 , 0.9311694 ],\n",
       "        [0.17919508, 0.17941491, 0.18127467, 0.18271057, 0.18465412]],\n",
       "       dtype=float32),\n",
       " array([[326242, 289394, 413514, 579359, 747797],\n",
       "        [516068, 373583, 191773, 630858,  17646],\n",
       "        [242301, 314243, 706382, 199090, 649129],\n",
       "        ...,\n",
       "        [127015, 236635,  48954, 518023, 825604],\n",
       "        [873020, 767512,  40794, 878262, 567044],\n",
       "        [151863, 602670, 902562, 900252, 900278]]))"
      ]
     },
     "execution_count": 30,
     "metadata": {},
     "output_type": "execute_result"
    }
   ],
   "source": [
    "distances, neighbors"
   ]
  },
  {
   "cell_type": "markdown",
   "metadata": {},
   "source": [
    "### Large Models FAISS"
   ]
  },
  {
   "cell_type": "code",
   "execution_count": 54,
   "metadata": {},
   "outputs": [],
   "source": [
    "def train_1_epoch(curr_index, train_times):\n",
    "    batch_size = 100000\n",
    "\n",
    "    curr_index.train(xb[0:batch_size])\n",
    "    faiss.write_index(curr_index, \"./models/faiss_llm/trained.index\")\n",
    "\n",
    "    n_batches = xb.shape[0] // batch_size\n",
    "    block_fnames = []\n",
    "    for epoch_batch in range(train_times):\n",
    "        print(f\"epoch_batch={epoch_batch}::train_times={train_times}::n_batches={n_batches}:xb.shape[0]={xb.shape[0]}::batch_size={batch_size}::\" )\n",
    "        for i in range(n_batches):\n",
    "            curr_index = faiss.read_index(\"./models/faiss_llm/trained.index\")\n",
    "            curr_index.add_with_ids(xb[i * batch_size:(i + 1) * batch_size], np.arange(i * batch_size, (i + 1) * batch_size))\n",
    "            #faiss.write_index(curr_index, f\"./models/faiss_llm/block_{i}.index\")\n",
    "            faiss.write_index(curr_index, f\"./models/faiss_llm/block_{epoch_batch*10 + i}.index\")\n",
    "            block_fnames.append(f\"./models/faiss_llm/block_{epoch_batch*10 + i}.index\")\n",
    "\n",
    "    \n",
    "    curr_index = faiss.read_index(\"./models/faiss_llm/trained.index\")\n",
    "    #block_fnames = [f\"./models/faiss_llm/block_{b}.index\" for b in range(n_batches)]\n",
    "\n",
    "    merge_ondisk(curr_index, block_fnames, \"merged_index.ivfdata\")\n",
    "    faiss.write_index(curr_index, \"./models/faiss_llm/populated.index\")  \n",
    "    model_llm_faiss = faiss.read_index(\"./models/faiss_llm/populated.index\")\n",
    "    return model_llm_faiss\n",
    "\n",
    "    "
   ]
  },
  {
   "cell_type": "code",
   "execution_count": 55,
   "metadata": {},
   "outputs": [],
   "source": [
    "model_llm_faiss = faiss.read_index(\"./models/faiss/populated.index\")  \n",
    "! rm -r ./models/faiss_llm/\n",
    "!mkdir -p ./models/faiss_llm/"
   ]
  },
  {
   "cell_type": "code",
   "execution_count": null,
   "metadata": {},
   "outputs": [
    {
     "name": "stderr",
     "output_type": "stream",
     "text": [
      "WARNING clustering 100000 points to 4000 centroids: please provide at least 156000 training points\n"
     ]
    },
    {
     "name": "stdout",
     "output_type": "stream",
     "text": [
      "train_times=10::n_batches=10:xb.shape[0]=1000000::batch_size=100000::\n",
      "train_times=10::n_batches=10:xb.shape[0]=1000000::batch_size=100000::\n",
      "train_times=10::n_batches=10:xb.shape[0]=1000000::batch_size=100000::\n",
      "train_times=10::n_batches=10:xb.shape[0]=1000000::batch_size=100000::\n",
      "train_times=10::n_batches=10:xb.shape[0]=1000000::batch_size=100000::\n",
      "train_times=10::n_batches=10:xb.shape[0]=1000000::batch_size=100000::\n",
      "train_times=10::n_batches=10:xb.shape[0]=1000000::batch_size=100000::\n"
     ]
    }
   ],
   "source": [
    "model_llm_faiss = faiss.index_factory(xb.shape[1], \"IVF4000,Flat\")\n",
    "batch_size = 100000\n",
    "\n",
    "model_llm_faiss.train(xb[0:batch_size])\n",
    "faiss.write_index(model_llm_faiss, \"./models/faiss/trained.index\")\n",
    "\n",
    "train_1_epoch(model_llm_faiss,10)"
   ]
  },
  {
   "cell_type": "code",
   "execution_count": null,
   "metadata": {},
   "outputs": [],
   "source": []
  },
  {
   "cell_type": "code",
   "execution_count": null,
   "metadata": {},
   "outputs": [],
   "source": []
  }
 ],
 "metadata": {
  "instance_type": "ml.t3.medium",
  "kernelspec": {
   "display_name": "Python 3 (Data Science)",
   "language": "python",
   "name": "python3__SAGEMAKER_INTERNAL__arn:aws:sagemaker:us-east-1:081325390199:image/datascience-1.0"
  },
  "language_info": {
   "codemirror_mode": {
    "name": "ipython",
    "version": 3
   },
   "file_extension": ".py",
   "mimetype": "text/x-python",
   "name": "python",
   "nbconvert_exporter": "python",
   "pygments_lexer": "ipython3",
   "version": "3.7.10"
  }
 },
 "nbformat": 4,
 "nbformat_minor": 5
}
